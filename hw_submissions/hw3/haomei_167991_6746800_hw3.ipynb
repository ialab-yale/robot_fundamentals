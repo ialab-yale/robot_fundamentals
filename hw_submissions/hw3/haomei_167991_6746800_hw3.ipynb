{
 "cells": [
  {
   "cell_type": "markdown",
   "id": "a6297dea-f1c8-4f1c-8135-271ac5c641db",
   "metadata": {},
   "source": [
    "# Inverse Kinematics and PID control\n",
    "In this homework assignemnt, you will be tasked with creating an IK solver and controlling a robot arm using PID control (specifically the Franka Panda 7DoF robot). We will be creating two versions of the controller, one that uses pure velocity control and another that using torque control with feedforward dynamics. "
   ]
  },
  {
   "cell_type": "markdown",
   "id": "ea15eb8d-c2b3-48d2-98a7-9279819d3fa9",
   "metadata": {},
   "source": [
    "### Import mujoco and numpy"
   ]
  },
  {
   "cell_type": "code",
   "execution_count": 2,
   "id": "8a242e6e-aa40-499d-8871-20c6b4a2fffd",
   "metadata": {},
   "outputs": [],
   "source": [
    "import mujoco\n",
    "import mujoco_viewer\n",
    "from meshcat_mujoco import MeshCatVisualizer\n",
    "import numpy as np\n",
    "import scipy as sp\n",
    "\n",
    "from autograder import autograder\n",
    "from sim import Sim\n",
    "\n",
    "vel_ctrl_path = './franka_emika_panda/scene_velocity_actuators.xml'\n",
    "tor_ctrl_path = './franka_emika_panda/scene_torque_actuators.xml'\n",
    "\n",
    "franka_velocity_ctrl_sim = Sim(fname=vel_ctrl_path)\n",
    "franka_torque_ctrl_sim = Sim(fname=tor_ctrl_path)"
   ]
  },
  {
   "cell_type": "markdown",
   "id": "5f0561fa-8e94-4f8b-80d0-eabc59362c0f",
   "metadata": {},
   "source": [
    "### Robot Info: Franka Emika Panda Robot\n",
    "We will be importing the Franka Panda robot. Take a look at the robot tree in `franka_emika_panda/panda.xml` file. Rather than importing the robot, we will instead import a specific `scene_X.xml` file that specifies different joint actuation on the robot. Note that the `panda.xml` only specifies the robot body and joints. There are two other files that specify the type of actuation on the robot (`vel_act.xml` and `torque_act.xml`) which we will use to demonstrate the different levels of robot control. \n",
    "\n",
    "### Assignment Questions \n",
    "Go through this notebook and answer all the questions below. There are autograder helpers which will tell you whether you have good code or not. Please use those to ensure that you can safely move on the next problem. This will prevent any bugs from being carried over to the next problem."
   ]
  },
  {
   "cell_type": "markdown",
   "id": "159dcdd5",
   "metadata": {},
   "source": [
    "## Rotation matrices and error signal\n",
    "Before we begin, you need to write up a few functions that will help you compute errors on rotation matrices that you will use to control the robot. First, we will write two helper functions `hat` and `unhat` which converts vectors in $\\mathbb{R}^3 \\to \\text{so}(3)$ and back. This will be used when you compute the distance between two rotation matrices. Specifically, the error between two rotation matrices can be defined using the axis-angle formulation when we discussed exponential coordinates. Recall that $R = e^{\\hat{\\omega}\\theta}$ which is a rotation in some axis $\\omega$ by the amount of $\\theta$. We can convert $R$ into its components $\\hat{\\omega} \\theta \\in \\mathbb{R}^3$ by using the matrix logarithm $\\text{logm}$. We will then need to convert the resulting matrix back into $\\mathbb{R}^3$ using the `unhat` operator. We will be using the scipy library to compute `unhat(sp.linalg.logm(R)) = w` where here `w` is combined with $\\theta$. To compute the error between two rotation matrices, we simply multiply the two $R_1 R_2^\\top$. For example, if $R_1 = R_{WD}$ and $R_2 = R_{WEE}$, then we want an $R$ such that $R_{WD} =R R_{WEE}$. Therefore, $R = R_{WD} R_{WEE}^\\top$ is our relative rotation transform.\n"
   ]
  },
  {
   "cell_type": "markdown",
   "id": "7dc4a841",
   "metadata": {},
   "source": [
    "### Q1 a. Hat, Unhat \n",
    "Write a function `hat` that converts a vector $w\\in\\mathbb{R}^3 \\to \\text{so}(3)$ and another function `unhat` that goes the opposite direction."
   ]
  },
  {
   "cell_type": "code",
   "execution_count": 3,
   "id": "557cbca7",
   "metadata": {},
   "outputs": [],
   "source": [
    "def hat(w):\n",
    "    return np.array([[0, -w[2], w[1]], [w[2], 0, -w[0]], [-w[1], w[0], 0]]) \n",
    "\n",
    "def unhat(R):\n",
    "    return np.array([R[2][1], R[0][2], R[1][0]])"
   ]
  },
  {
   "cell_type": "code",
   "execution_count": 4,
   "id": "d85728ae",
   "metadata": {},
   "outputs": [
    {
     "name": "stdout",
     "output_type": "stream",
     "text": [
      "Passed Debug test\n"
     ]
    }
   ],
   "source": [
    "autograder.testQ1a(hat, unhat)"
   ]
  },
  {
   "cell_type": "markdown",
   "id": "422eebff",
   "metadata": {},
   "source": [
    "### Q1 b. Rotation error\n",
    "Write a function that computes the error between two rotation matrices $R_1, R_2$."
   ]
  },
  {
   "cell_type": "code",
   "execution_count": 5,
   "id": "140186c7",
   "metadata": {},
   "outputs": [],
   "source": [
    "def rot_err(R1, R2):\n",
    "    err = R1 @ np.transpose(R2)\n",
    "    return unhat(sp.linalg.logm(err))"
   ]
  },
  {
   "cell_type": "code",
   "execution_count": 6,
   "id": "d354f897",
   "metadata": {},
   "outputs": [
    {
     "name": "stdout",
     "output_type": "stream",
     "text": [
      "Passed Debug test\n"
     ]
    }
   ],
   "source": [
    "autograder.testQ1b(rot_err)"
   ]
  },
  {
   "cell_type": "markdown",
   "id": "4d0192a4",
   "metadata": {},
   "source": [
    "## Inverse Kinematics Solver\n",
    "We will now create the IK solver. We will use some helper functions to get the rotation, position, and jacobian of a site in the `.xml` file. Look through the files and find the tags for `site`. Specifically, look for the two tags `ee_site` and `target_site` within the `worldbody` tags. These will be the two reference frames on the robot with respect to the world frame. `ee_site` is attached to the robot hand and `target_site` is a reference frame in the world coordinates. Understand the functions below and answer the subsequent questions. "
   ]
  },
  {
   "cell_type": "code",
   "execution_count": 7,
   "id": "5fef87f4",
   "metadata": {},
   "outputs": [],
   "source": [
    "def getSitePose(model, data, site_name):\n",
    "    \"\"\"\n",
    "        This function takes in the robot model, data, and the site name of the reference frame. \n",
    "        The output of the function returns a tuple of a rotation matric R and a position p \n",
    "        relative to the world frame. \n",
    "    \"\"\"\n",
    "    # mujoco specific function\n",
    "    site_id = mujoco.mj_name2id(model, mujoco.mjtObj.mjOBJ_SITE, site_name)\n",
    "    # data structure for obtaining the position and orientation of a site reference frame\n",
    "    # note that rotation matrices are formated as a 9-dim vector and need to be reshaped\n",
    "    p = data.site_xpos[site_id]\n",
    "    R = data.site_xmat[site_id].reshape((3,3))\n",
    "    return (R, p)\n",
    "\n",
    "def getSiteJacobian(model, data, site_name):\n",
    "    \"\"\"\n",
    "        This function takes in the robot model, data, and the site name of the reference frame. \n",
    "        The output is the total jacobian matrix. Note that mujoco gives jacobian \n",
    "        position and rotation matrices which need to be stacked together.\n",
    "    \"\"\"\n",
    "    body_id = mujoco.mj_name2id(model, mujoco.mjtObj.mjOBJ_SITE, site_name)\n",
    "    jacp = np.zeros((3, model.nv))\n",
    "    jacr = np.zeros((3, model.nv))\n",
    "    mujoco.mj_jacSite(model, data, jacp, jacr, body_id)\n",
    "    return np.concatenate([jacp, jacr], axis=0)\n"
   ]
  },
  {
   "cell_type": "markdown",
   "id": "58989c1b",
   "metadata": {},
   "source": [
    "## Q2. Write the IK step. \n",
    "Write function to compute $\\Delta q$, for $q_{k+1} = q_k + \\Delta q$, where $\\Delta q$ is the solution to the minimum joint deviation based on the Taylor expansion of $f(q) - x_\\text{des}$, and $f(q)$ is your forward kinematics (assume that this is given as x_\\text{curr})."
   ]
  },
  {
   "cell_type": "code",
   "execution_count": 15,
   "id": "b50c4550",
   "metadata": {},
   "outputs": [],
   "source": [
    "def calcIKStep(jac, x_des, x_curr):\n",
    "    \"\"\"\n",
    "        This function takes in the jacobian matrix of the x_\\text{curr} = f(q) forward kinematics, \n",
    "        and the desired frame rotation matrix and position. \n",
    "        Assumes x_des, = (R_des, p_des), x_curr = (R_curr, p_curr)\n",
    "        Output of this function computes $\\Delta q$ using the jacobian.\n",
    "    \"\"\"\n",
    "    pseudo_inv_jac = np.linalg.pinv(jac)\n",
    "    R_des, p_des = x_des\n",
    "    R_curr, p_curr = x_curr\n",
    "    r_R = rot_err(R_des, R_curr)\n",
    "    r_p = p_des - p_curr\n",
    "    r = np.concatenate((r_p, r_R), axis=None)\n",
    "    return pseudo_inv_jac @ r\n",
    "\n",
    "def IKSolve(q, jac, x_des, x_curr):\n",
    "    dq = calcIKStep(jac, x_des, x_curr)\n",
    "    return q + dq\n"
   ]
  },
  {
   "cell_type": "markdown",
   "id": "4eccceab",
   "metadata": {},
   "source": [
    "# Control!\n",
    "We will now implement different control strategies to move our robot. We will use the function below to simulate the control method used. Make sure you run the cell and load the function. Note that for the following examples you need to calculate the error from the poses of the reference frames."
   ]
  },
  {
   "cell_type": "code",
   "execution_count": 9,
   "id": "17fc99df",
   "metadata": {},
   "outputs": [],
   "source": [
    "# def simulateCtrl(sim, ctrl_method, render=True, t_max=1000):\n",
    "#     sim.data.qpos = sim.model.key_qpos\n",
    "#     mujoco.mj_step(sim.model, sim.data)\n",
    "#     log = []\n",
    "#     if render:\n",
    "#         viewer = mujoco_viewer.MujocoViewer(sim.model, sim.data)\n",
    "#         viewer.vopt.frame = 3\n",
    "#     for t in range(t_max):\n",
    "#         u = ctrl_method(sim.model, sim.data)\n",
    "#         sim.data.ctrl = u \n",
    "#         mujoco.mj_step(sim.model, sim.data)\n",
    "#         if render:\n",
    "#             if viewer.is_alive:\n",
    "#                 viewer.render()\n",
    "#     if render:\n",
    "#         viewer.close()"
   ]
  },
  {
   "cell_type": "code",
   "execution_count": 13,
   "id": "bc047755-254d-4113-864b-faaf27596dcf",
   "metadata": {},
   "outputs": [],
   "source": [
    "def simulateCtrl(sim, ctrl_method, xml_path, render=True, t_max=10000):\n",
    "    sim.data.qpos = sim.model.key_qpos\n",
    "    mujoco.mj_step(sim.model, sim.data)\n",
    "\n",
    "    log = []\n",
    "    viewer = MeshCatVisualizer(xml_path, sim.model, sim.data)\n",
    "\n",
    "    i = 0 # <-- counter \n",
    "    for _ in range(t_max): \n",
    "        # use mujoco as normal with stepping function \n",
    "        u = ctrl_method(sim.model, sim.data)\n",
    "        sim.data.ctrl = u \n",
    "        mujoco.mj_step(sim.model, sim.data)\n",
    "        # make sure you call the render function \n",
    "        viewer.render()\n",
    "\n",
    "    viewer.close()\n",
    "    # close"
   ]
  },
  {
   "cell_type": "markdown",
   "id": "8f2cd173",
   "metadata": {},
   "source": [
    "## Q3 Velocity control\n",
    "Create a controller that returns $\\Delta q$ given the end-effector pose and the target site pose. Using the `calcIKStep` to compute $\\Delta q$. Run the `simulateCtrl` using the `franka_velocity_ctrl_sim` simulation. Describe what you see. "
   ]
  },
  {
   "cell_type": "markdown",
   "id": "a13f4cbb",
   "metadata": {},
   "source": [
    "## Response:\n",
    "The robot slowly slumps as it approaches the target position."
   ]
  },
  {
   "cell_type": "code",
   "execution_count": 11,
   "id": "42593796-6dd2-48d0-a4f3-9e64a6f896ff",
   "metadata": {},
   "outputs": [],
   "source": [
    "def velocity_ctrl(model, data):\n",
    "    \"\"\"\n",
    "        Output will be a 7 dim vec that is applied to robot velocity control\n",
    "        output will be calcIKstep(jac, x_des, x_curr)\n",
    "    \"\"\"\n",
    "    jac = getSiteJacobian(model, data, 'ee_site')\n",
    "    x_des = getSitePose(model, data, 'target_site')\n",
    "    x_curr = getSitePose(model, data, 'ee_site')\n",
    "    dq = calcIKStep(jac, x_des, x_curr)\n",
    "    return dq"
   ]
  },
  {
   "cell_type": "markdown",
   "id": "33fbcb95",
   "metadata": {},
   "source": [
    "Test your controller on the renderer"
   ]
  },
  {
   "cell_type": "code",
   "execution_count": 28,
   "id": "d677ed5d",
   "metadata": {},
   "outputs": [
    {
     "name": "stdout",
     "output_type": "stream",
     "text": [
      "You can open the visualizer by visiting the following URL:\n",
      "http://127.0.0.1:7009/static/\n"
     ]
    },
    {
     "ename": "KeyboardInterrupt",
     "evalue": "",
     "output_type": "error",
     "traceback": [
      "\u001b[0;31m---------------------------------------------------------------------------\u001b[0m",
      "\u001b[0;31mKeyboardInterrupt\u001b[0m                         Traceback (most recent call last)",
      "Input \u001b[0;32mIn [28]\u001b[0m, in \u001b[0;36m<cell line: 1>\u001b[0;34m()\u001b[0m\n\u001b[0;32m----> 1\u001b[0m \u001b[43msimulateCtrl\u001b[49m\u001b[43m(\u001b[49m\u001b[43mfranka_velocity_ctrl_sim\u001b[49m\u001b[43m,\u001b[49m\u001b[43m \u001b[49m\u001b[43mvelocity_ctrl\u001b[49m\u001b[43m,\u001b[49m\u001b[43m \u001b[49m\u001b[43mvel_ctrl_path\u001b[49m\u001b[43m)\u001b[49m\n",
      "Input \u001b[0;32mIn [13]\u001b[0m, in \u001b[0;36msimulateCtrl\u001b[0;34m(sim, ctrl_method, xml_path, render, t_max)\u001b[0m\n\u001b[1;32m      8\u001b[0m i \u001b[38;5;241m=\u001b[39m \u001b[38;5;241m0\u001b[39m \u001b[38;5;66;03m# <-- counter \u001b[39;00m\n\u001b[1;32m      9\u001b[0m \u001b[38;5;28;01mfor\u001b[39;00m _ \u001b[38;5;129;01min\u001b[39;00m \u001b[38;5;28mrange\u001b[39m(t_max): \n\u001b[1;32m     10\u001b[0m     \u001b[38;5;66;03m# use mujoco as normal with stepping function \u001b[39;00m\n\u001b[0;32m---> 11\u001b[0m     u \u001b[38;5;241m=\u001b[39m \u001b[43mctrl_method\u001b[49m\u001b[43m(\u001b[49m\u001b[43msim\u001b[49m\u001b[38;5;241;43m.\u001b[39;49m\u001b[43mmodel\u001b[49m\u001b[43m,\u001b[49m\u001b[43m \u001b[49m\u001b[43msim\u001b[49m\u001b[38;5;241;43m.\u001b[39;49m\u001b[43mdata\u001b[49m\u001b[43m)\u001b[49m\n\u001b[1;32m     12\u001b[0m     sim\u001b[38;5;241m.\u001b[39mdata\u001b[38;5;241m.\u001b[39mctrl \u001b[38;5;241m=\u001b[39m u \n\u001b[1;32m     13\u001b[0m     mujoco\u001b[38;5;241m.\u001b[39mmj_step(sim\u001b[38;5;241m.\u001b[39mmodel, sim\u001b[38;5;241m.\u001b[39mdata)\n",
      "Input \u001b[0;32mIn [11]\u001b[0m, in \u001b[0;36mvelocity_ctrl\u001b[0;34m(model, data)\u001b[0m\n\u001b[1;32m      7\u001b[0m x_des \u001b[38;5;241m=\u001b[39m getSitePose(model, data, \u001b[38;5;124m'\u001b[39m\u001b[38;5;124mtarget_site\u001b[39m\u001b[38;5;124m'\u001b[39m)\n\u001b[1;32m      8\u001b[0m x_curr \u001b[38;5;241m=\u001b[39m getSitePose(model, data, \u001b[38;5;124m'\u001b[39m\u001b[38;5;124mee_site\u001b[39m\u001b[38;5;124m'\u001b[39m)\n\u001b[0;32m----> 9\u001b[0m dq \u001b[38;5;241m=\u001b[39m \u001b[43mcalcIKStep\u001b[49m\u001b[43m(\u001b[49m\u001b[43mjac\u001b[49m\u001b[43m,\u001b[49m\u001b[43m \u001b[49m\u001b[43mx_des\u001b[49m\u001b[43m,\u001b[49m\u001b[43m \u001b[49m\u001b[43mx_curr\u001b[49m\u001b[43m)\u001b[49m\n\u001b[1;32m     10\u001b[0m \u001b[38;5;28;01mreturn\u001b[39;00m dq\n",
      "Input \u001b[0;32mIn [15]\u001b[0m, in \u001b[0;36mcalcIKStep\u001b[0;34m(jac, x_des, x_curr)\u001b[0m\n\u001b[1;32m      9\u001b[0m R_des, p_des \u001b[38;5;241m=\u001b[39m x_des\n\u001b[1;32m     10\u001b[0m R_curr, p_curr \u001b[38;5;241m=\u001b[39m x_curr\n\u001b[0;32m---> 11\u001b[0m r_R \u001b[38;5;241m=\u001b[39m \u001b[43mrot_err\u001b[49m\u001b[43m(\u001b[49m\u001b[43mR_des\u001b[49m\u001b[43m,\u001b[49m\u001b[43m \u001b[49m\u001b[43mR_curr\u001b[49m\u001b[43m)\u001b[49m\n\u001b[1;32m     12\u001b[0m r_p \u001b[38;5;241m=\u001b[39m p_des \u001b[38;5;241m-\u001b[39m p_curr\n\u001b[1;32m     13\u001b[0m r \u001b[38;5;241m=\u001b[39m np\u001b[38;5;241m.\u001b[39mconcatenate((r_p, r_R), axis\u001b[38;5;241m=\u001b[39m\u001b[38;5;28;01mNone\u001b[39;00m)\n",
      "Input \u001b[0;32mIn [5]\u001b[0m, in \u001b[0;36mrot_err\u001b[0;34m(R1, R2)\u001b[0m\n\u001b[1;32m      1\u001b[0m \u001b[38;5;28;01mdef\u001b[39;00m \u001b[38;5;21mrot_err\u001b[39m(R1, R2):\n\u001b[1;32m      2\u001b[0m     err \u001b[38;5;241m=\u001b[39m R1 \u001b[38;5;241m@\u001b[39m np\u001b[38;5;241m.\u001b[39mtranspose(R2)\n\u001b[0;32m----> 3\u001b[0m     \u001b[38;5;28;01mreturn\u001b[39;00m unhat(\u001b[43msp\u001b[49m\u001b[38;5;241;43m.\u001b[39;49m\u001b[43mlinalg\u001b[49m\u001b[38;5;241;43m.\u001b[39;49m\u001b[43mlogm\u001b[49m\u001b[43m(\u001b[49m\u001b[43merr\u001b[49m\u001b[43m)\u001b[49m)\n",
      "File \u001b[0;32m~/program_install/miniconda3/envs/meng443/lib/python3.10/site-packages/scipy/linalg/_matfuncs.py:200\u001b[0m, in \u001b[0;36mlogm\u001b[0;34m(A, disp)\u001b[0m\n\u001b[1;32m    198\u001b[0m \u001b[38;5;66;03m# Avoid circular import ... this is OK, right?\u001b[39;00m\n\u001b[1;32m    199\u001b[0m \u001b[38;5;28;01mimport\u001b[39;00m \u001b[38;5;21;01mscipy\u001b[39;00m\u001b[38;5;21;01m.\u001b[39;00m\u001b[38;5;21;01mlinalg\u001b[39;00m\u001b[38;5;21;01m.\u001b[39;00m\u001b[38;5;21;01m_matfuncs_inv_ssq\u001b[39;00m\n\u001b[0;32m--> 200\u001b[0m F \u001b[38;5;241m=\u001b[39m \u001b[43mscipy\u001b[49m\u001b[38;5;241;43m.\u001b[39;49m\u001b[43mlinalg\u001b[49m\u001b[38;5;241;43m.\u001b[39;49m\u001b[43m_matfuncs_inv_ssq\u001b[49m\u001b[38;5;241;43m.\u001b[39;49m\u001b[43m_logm\u001b[49m\u001b[43m(\u001b[49m\u001b[43mA\u001b[49m\u001b[43m)\u001b[49m\n\u001b[1;32m    201\u001b[0m F \u001b[38;5;241m=\u001b[39m _maybe_real(A, F)\n\u001b[1;32m    202\u001b[0m errtol \u001b[38;5;241m=\u001b[39m \u001b[38;5;241m1000\u001b[39m\u001b[38;5;241m*\u001b[39meps\n",
      "File \u001b[0;32m~/program_install/miniconda3/envs/meng443/lib/python3.10/site-packages/scipy/linalg/_matfuncs_inv_ssq.py:880\u001b[0m, in \u001b[0;36m_logm\u001b[0;34m(A)\u001b[0m\n\u001b[1;32m    878\u001b[0m     T, Z \u001b[38;5;241m=\u001b[39m schur(A, output\u001b[38;5;241m=\u001b[39m\u001b[38;5;124m'\u001b[39m\u001b[38;5;124mcomplex\u001b[39m\u001b[38;5;124m'\u001b[39m)\n\u001b[1;32m    879\u001b[0m T \u001b[38;5;241m=\u001b[39m _logm_force_nonsingular_triangular_matrix(T, inplace\u001b[38;5;241m=\u001b[39m\u001b[38;5;28;01mTrue\u001b[39;00m)\n\u001b[0;32m--> 880\u001b[0m U \u001b[38;5;241m=\u001b[39m \u001b[43m_logm_triu\u001b[49m\u001b[43m(\u001b[49m\u001b[43mT\u001b[49m\u001b[43m)\u001b[49m\n\u001b[1;32m    881\u001b[0m ZH \u001b[38;5;241m=\u001b[39m np\u001b[38;5;241m.\u001b[39mconjugate(Z)\u001b[38;5;241m.\u001b[39mT\n\u001b[1;32m    882\u001b[0m \u001b[38;5;28;01mreturn\u001b[39;00m Z\u001b[38;5;241m.\u001b[39mdot(U)\u001b[38;5;241m.\u001b[39mdot(ZH)\n",
      "File \u001b[0;32m~/program_install/miniconda3/envs/meng443/lib/python3.10/site-packages/scipy/linalg/_matfuncs_inv_ssq.py:763\u001b[0m, in \u001b[0;36m_logm_triu\u001b[0;34m(T)\u001b[0m\n\u001b[1;32m    759\u001b[0m n, n \u001b[38;5;241m=\u001b[39m T\u001b[38;5;241m.\u001b[39mshape\n\u001b[1;32m    761\u001b[0m \u001b[38;5;66;03m# Construct T0 with the appropriate type,\u001b[39;00m\n\u001b[1;32m    762\u001b[0m \u001b[38;5;66;03m# depending on the dtype and the spectrum of T.\u001b[39;00m\n\u001b[0;32m--> 763\u001b[0m T_diag \u001b[38;5;241m=\u001b[39m \u001b[43mnp\u001b[49m\u001b[38;5;241;43m.\u001b[39;49m\u001b[43mdiag\u001b[49m\u001b[43m(\u001b[49m\u001b[43mT\u001b[49m\u001b[43m)\u001b[49m\n\u001b[1;32m    764\u001b[0m keep_it_real \u001b[38;5;241m=\u001b[39m np\u001b[38;5;241m.\u001b[39misrealobj(T) \u001b[38;5;129;01mand\u001b[39;00m np\u001b[38;5;241m.\u001b[39mmin(T_diag) \u001b[38;5;241m>\u001b[39m\u001b[38;5;241m=\u001b[39m \u001b[38;5;241m0\u001b[39m\n\u001b[1;32m    765\u001b[0m \u001b[38;5;28;01mif\u001b[39;00m keep_it_real:\n",
      "File \u001b[0;32m<__array_function__ internals>:180\u001b[0m, in \u001b[0;36mdiag\u001b[0;34m(*args, **kwargs)\u001b[0m\n",
      "File \u001b[0;32m~/program_install/miniconda3/envs/meng443/lib/python3.10/site-packages/numpy/lib/twodim_base.py:307\u001b[0m, in \u001b[0;36mdiag\u001b[0;34m(v, k)\u001b[0m\n\u001b[1;32m    305\u001b[0m     \u001b[38;5;28;01mreturn\u001b[39;00m res\n\u001b[1;32m    306\u001b[0m \u001b[38;5;28;01melif\u001b[39;00m \u001b[38;5;28mlen\u001b[39m(s) \u001b[38;5;241m==\u001b[39m \u001b[38;5;241m2\u001b[39m:\n\u001b[0;32m--> 307\u001b[0m     \u001b[38;5;28;01mreturn\u001b[39;00m \u001b[43mdiagonal\u001b[49m\u001b[43m(\u001b[49m\u001b[43mv\u001b[49m\u001b[43m,\u001b[49m\u001b[43m \u001b[49m\u001b[43mk\u001b[49m\u001b[43m)\u001b[49m\n\u001b[1;32m    308\u001b[0m \u001b[38;5;28;01melse\u001b[39;00m:\n\u001b[1;32m    309\u001b[0m     \u001b[38;5;28;01mraise\u001b[39;00m \u001b[38;5;167;01mValueError\u001b[39;00m(\u001b[38;5;124m\"\u001b[39m\u001b[38;5;124mInput must be 1- or 2-d.\u001b[39m\u001b[38;5;124m\"\u001b[39m)\n",
      "File \u001b[0;32m<__array_function__ internals>:180\u001b[0m, in \u001b[0;36mdiagonal\u001b[0;34m(*args, **kwargs)\u001b[0m\n",
      "File \u001b[0;32m~/program_install/miniconda3/envs/meng443/lib/python3.10/site-packages/numpy/core/fromnumeric.py:1675\u001b[0m, in \u001b[0;36mdiagonal\u001b[0;34m(a, offset, axis1, axis2)\u001b[0m\n\u001b[1;32m   1552\u001b[0m \u001b[38;5;129m@array_function_dispatch\u001b[39m(_diagonal_dispatcher)\n\u001b[1;32m   1553\u001b[0m \u001b[38;5;28;01mdef\u001b[39;00m \u001b[38;5;21mdiagonal\u001b[39m(a, offset\u001b[38;5;241m=\u001b[39m\u001b[38;5;241m0\u001b[39m, axis1\u001b[38;5;241m=\u001b[39m\u001b[38;5;241m0\u001b[39m, axis2\u001b[38;5;241m=\u001b[39m\u001b[38;5;241m1\u001b[39m):\n\u001b[1;32m   1554\u001b[0m     \u001b[38;5;124;03m\"\"\"\u001b[39;00m\n\u001b[1;32m   1555\u001b[0m \u001b[38;5;124;03m    Return specified diagonals.\u001b[39;00m\n\u001b[1;32m   1556\u001b[0m \n\u001b[0;32m   (...)\u001b[0m\n\u001b[1;32m   1673\u001b[0m \u001b[38;5;124;03m    on the flip function.\u001b[39;00m\n\u001b[1;32m   1674\u001b[0m \u001b[38;5;124;03m    \"\"\"\u001b[39;00m\n\u001b[0;32m-> 1675\u001b[0m     \u001b[38;5;28;01mif\u001b[39;00m \u001b[38;5;28;43misinstance\u001b[39;49m\u001b[43m(\u001b[49m\u001b[43ma\u001b[49m\u001b[43m,\u001b[49m\u001b[43m \u001b[49m\u001b[43mnp\u001b[49m\u001b[38;5;241;43m.\u001b[39;49m\u001b[43mmatrix\u001b[49m\u001b[43m)\u001b[49m:\n\u001b[1;32m   1676\u001b[0m         \u001b[38;5;66;03m# Make diagonal of matrix 1-D to preserve backward compatibility.\u001b[39;00m\n\u001b[1;32m   1677\u001b[0m         \u001b[38;5;28;01mreturn\u001b[39;00m asarray(a)\u001b[38;5;241m.\u001b[39mdiagonal(offset\u001b[38;5;241m=\u001b[39moffset, axis1\u001b[38;5;241m=\u001b[39maxis1, axis2\u001b[38;5;241m=\u001b[39maxis2)\n\u001b[1;32m   1678\u001b[0m     \u001b[38;5;28;01melse\u001b[39;00m:\n",
      "\u001b[0;31mKeyboardInterrupt\u001b[0m: "
     ]
    }
   ],
   "source": [
    "simulateCtrl(franka_velocity_ctrl_sim, velocity_ctrl, vel_ctrl_path)"
   ]
  },
  {
   "cell_type": "markdown",
   "id": "57833dbb",
   "metadata": {},
   "source": [
    "## Q4 Torque control\n",
    "Create a  basic PD controller that calculates torque values using $q$ from the `IKSolve` given the end-effector pose and the target site pose. Tune the PD values as best as you can.Describe what you see. "
   ]
  },
  {
   "cell_type": "markdown",
   "id": "64c5c939",
   "metadata": {},
   "source": [
    "## Response:\n",
    "\n",
    "The robot converges a lot faster to the target position. It also slumps, but less than the velosity controller."
   ]
  },
  {
   "cell_type": "code",
   "execution_count": 22,
   "id": "ed9f5e07",
   "metadata": {},
   "outputs": [],
   "source": [
    "def torque_ctrl(model, data):\n",
    "    \"\"\"\n",
    "        Output will be a 7 dim vec tau = kp (qdes - qpos) + kd * (-qvel)\n",
    "        where data.qpos = qpos and data.qvel = qvel are from the robot \n",
    "    \"\"\"\n",
    "    kp = 300\n",
    "    kd = 50\n",
    "    \n",
    "    jac = getSiteJacobian(model, data, 'ee_site')\n",
    "    x_des = getSitePose(model, data, 'target_site')\n",
    "    x_curr = getSitePose(model, data, 'ee_site')\n",
    "    qdes = IKSolve(data.qpos, jac, x_des, x_curr) # TODO: verify q\n",
    "    tau = kp * (qdes - data.qpos) + kd * (-data.qvel)\n",
    "    return tau"
   ]
  },
  {
   "cell_type": "markdown",
   "id": "0a2ac0fc",
   "metadata": {},
   "source": [
    "Test your controller on the renderer"
   ]
  },
  {
   "cell_type": "code",
   "execution_count": 30,
   "id": "52166295",
   "metadata": {},
   "outputs": [
    {
     "name": "stdout",
     "output_type": "stream",
     "text": [
      "You can open the visualizer by visiting the following URL:\n",
      "http://127.0.0.1:7011/static/\n"
     ]
    }
   ],
   "source": [
    "simulateCtrl(franka_torque_ctrl_sim, torque_ctrl, tor_ctrl_path)"
   ]
  },
  {
   "cell_type": "markdown",
   "id": "f26bac6c",
   "metadata": {},
   "source": [
    "## Q4 Dynamic Comp. Torque control\n",
    "Create a feed forward dynamic compensation controller that calculate target $q$ from the `IKSolve` given the end-effector pose and the target site pose. Tune the PD values as best as you can. Using the provided functions for obtaining the mass matrix and dynamic bias terms. Describe what you see. "
   ]
  },
  {
   "cell_type": "markdown",
   "id": "e346c473",
   "metadata": {},
   "source": [
    "## Response:\n",
    "\n",
    "The robot converges quickly to the target position without any slumping."
   ]
  },
  {
   "cell_type": "code",
   "execution_count": 26,
   "id": "ffd31481",
   "metadata": {},
   "outputs": [],
   "source": [
    "def getMassMatrix(model, data):\n",
    "    mass_matrix = np.zeros((model.nv, model.nv))\n",
    "    mujoco.mj_fullM(model, mass_matrix, data.qM)\n",
    "    return mass_matrix\n",
    "\n",
    "def getBiasTerms(model, data):\n",
    "    return data.qfrc_bias\n",
    "\n",
    "def feedforward_torque_ctrl(model, data):\n",
    "    \"\"\"\n",
    "        Output will be a 7 dim vec for torque of the form \n",
    "        tau = M qddot_des + b\n",
    "        where qddot_des = kp (qdes - qpos) + kd * (-qvel)\n",
    "        where data.qpos = qpos and data.qvel = qvel are from the robot \n",
    "    \"\"\"\n",
    "    # PD control paramaters\n",
    "    kp = 300\n",
    "    kd = 50\n",
    "    \n",
    "    # calculate desired joint accelerations\n",
    "    jac = getSiteJacobian(model, data, 'ee_site')\n",
    "    x_des = getSitePose(model, data, 'target_site')\n",
    "    x_curr = getSitePose(model, data, 'ee_site')\n",
    "    qdes = IKSolve(data.qpos, jac, x_des, x_curr)\n",
    "    qddot_des = kp * (qdes - data.qpos) + kd * (-data.qvel)\n",
    "    \n",
    "    # incorporate robotic dynamics\n",
    "    M = getMassMatrix(model, data)\n",
    "    b = getBiasTerms(model, data)\n",
    "    tau = M @ qddot_des + b\n",
    "    return tau"
   ]
  },
  {
   "cell_type": "markdown",
   "id": "3029d135",
   "metadata": {},
   "source": [
    "Test your controller on the renderer"
   ]
  },
  {
   "cell_type": "code",
   "execution_count": null,
   "id": "0cc94997",
   "metadata": {},
   "outputs": [
    {
     "name": "stdout",
     "output_type": "stream",
     "text": [
      "You can open the visualizer by visiting the following URL:\n",
      "http://127.0.0.1:7012/static/\n"
     ]
    }
   ],
   "source": [
    "simulateCtrl(franka_torque_ctrl_sim, feedforward_torque_ctrl, tor_ctrl_path)"
   ]
  }
 ],
 "metadata": {
  "kernelspec": {
   "display_name": "Python [conda env:meng443] *",
   "language": "python",
   "name": "conda-env-meng443-py"
  },
  "language_info": {
   "codemirror_mode": {
    "name": "ipython",
    "version": 3
   },
   "file_extension": ".py",
   "mimetype": "text/x-python",
   "name": "python",
   "nbconvert_exporter": "python",
   "pygments_lexer": "ipython3",
   "version": "3.10.4"
  },
  "vscode": {
   "interpreter": {
    "hash": "b0fa6594d8f4cbf19f97940f81e996739fb7646882a419484c72d19e05852a7e"
   }
  }
 },
 "nbformat": 4,
 "nbformat_minor": 5
}
