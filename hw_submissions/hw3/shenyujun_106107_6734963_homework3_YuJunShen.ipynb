{
 "cells": [
  {
   "cell_type": "markdown",
   "id": "a6297dea-f1c8-4f1c-8135-271ac5c641db",
   "metadata": {},
   "source": [
    "# Inverse Kinematics and PID control\n",
    "## Yu Jun Shen\n",
    "In this homework assignemnt, you will be tasked with creating an IK solver and controlling a robot arm using PID control (specifically the Franka Panda 7DoF robot). We will be creating two versions of the controller, one that uses pure velocity control and another that using torque control with feedforward dynamics. "
   ]
  },
  {
   "cell_type": "markdown",
   "id": "ea15eb8d-c2b3-48d2-98a7-9279819d3fa9",
   "metadata": {},
   "source": [
    "### Import mujoco and numpy"
   ]
  },
  {
   "cell_type": "code",
   "execution_count": 37,
   "id": "8a242e6e-aa40-499d-8871-20c6b4a2fffd",
   "metadata": {},
   "outputs": [],
   "source": [
    "import mujoco\n",
    "import mujoco_viewer\n",
    "import numpy as np\n",
    "import scipy as sp\n",
    "\n",
    "from autograder import autograder\n",
    "from sim import Sim\n",
    "\n",
    "franka_velocity_ctrl_sim = Sim(fname='./franka_emika_panda/scene_velocity_actuators.xml')\n",
    "franka_torque_ctrl_sim = Sim(fname='./franka_emika_panda/scene_torque_actuators.xml')\n"
   ]
  },
  {
   "cell_type": "markdown",
   "id": "5f0561fa-8e94-4f8b-80d0-eabc59362c0f",
   "metadata": {},
   "source": [
    "### Robot Info: Franka Emika Panda Robot\n",
    "We will be importing the Franka Panda robot. Take a look at the robot tree in `franka_emika_panda/panda.xml` file. Rather than importing the robot, we will instead import a specific `scene_X.xml` file that specifies different joint actuation on the robot. Note that the `panda.xml` only specifies the robot body and joints. There are two other files that specify the type of actuation on the robot (`vel_act.xml` and `torque_act.xml`) which we will use to demonstrate the different levels of robot control. \n",
    "\n",
    "### Assignment Questions \n",
    "Go through this notebook and answer all the questions below. There are autograder helpers which will tell you whether you have good code or not. Please use those to ensure that you can safely move on the next problem. This will prevent any bugs from being carried over to the next problem."
   ]
  },
  {
   "cell_type": "markdown",
   "id": "159dcdd5",
   "metadata": {},
   "source": [
    "## Rotation matrices and error signal\n",
    "Before we begin, you need to write up a few functions that will help you compute errors on rotation matrices that you will use to control the robot. First, we will write two helper functions `hat` and `unhat` which converts vectors in $\\mathbb{R}^3 \\to \\text{se}(3)$ and back. This will be used when you compute the distance between two rotation matrices. Specifically, the error between two rotation matrices can be defined using the axis-angle formulation when we discussed exponential coordinates. Recall that $R = e^{\\hat{\\omega}\\theta}$ which is a rotation in some axis $\\omega$ by the amount of $\\theta$. We can convert $R$ into its components $\\hat{\\omega} \\theta \\in \\mathbb{R}^3$ by using the matrix logarithm $\\text{logm}$. We will then need to convert the resulting matrix back into $\\mathbb{R}^3$ using the `unhat` operator. We will be using the scipy library to compute `unhat(sp.linalg.logm(R)) = w` where here `w` is combined with $\\theta$. To compute the error between two rotation matrices, we simply multiply the two $R_1 R_2^\\top$. For example, if $R_1 = R_{WD}$ and $R_2 = R_{WEE}$, then we want an $R$ such that $R_{WD} =R R_{WEE}$. Therefore, $R = R_{WD} R_{WEE}^\\top$ is our relative rotation transform.\n"
   ]
  },
  {
   "cell_type": "markdown",
   "id": "7dc4a841",
   "metadata": {},
   "source": [
    "### Q1 a. Hat, Unhat \n",
    "Write a function `hat` that converts a vector $w\\in\\mathbb{R}^3 \\to \\text{se}(3)$ and another function `unhat` that goes the opposite direction."
   ]
  },
  {
   "cell_type": "code",
   "execution_count": 38,
   "id": "557cbca7",
   "metadata": {},
   "outputs": [],
   "source": [
    "def hat(w):\n",
    "    \"\"\" By definition of hat operator in notes 1, eq. 1.32 \"\"\"\n",
    "    w_hat = np.array([[0    , -w[2],  w[1]],\n",
    "                      [w[2] , 0    , -w[0]],\n",
    "                      [-w[1],  w[0],    0]])\n",
    "    return w_hat\n",
    " \n",
    "def unhat(R):\n",
    "    \"\"\" By observation of the matrix in 1.32 \"\"\"\n",
    "    return np.array([-R[1][2], R[0][2], -R[0][1]])"
   ]
  },
  {
   "cell_type": "code",
   "execution_count": 39,
   "id": "d85728ae",
   "metadata": {},
   "outputs": [
    {
     "name": "stdout",
     "output_type": "stream",
     "text": [
      "Passed Debug test\n"
     ]
    }
   ],
   "source": [
    "autograder.testQ1a(hat, unhat)"
   ]
  },
  {
   "cell_type": "markdown",
   "id": "422eebff",
   "metadata": {},
   "source": [
    "### Q1 b. Rotation error\n",
    "Write a function that computes the error between two rotation matrices $R_1, R_2$."
   ]
  },
  {
   "cell_type": "code",
   "execution_count": 40,
   "id": "140186c7",
   "metadata": {},
   "outputs": [],
   "source": [
    "def rot_err(R1, R2):\n",
    "    \"\"\" \n",
    "    Using numpy transpose and matrix multiplication terms, \n",
    "    compute relative rotation transform and then get w per formula\n",
    "    Goes from R2 to R1\n",
    "    \"\"\"\n",
    "    R2_transpose = np.transpose(R2)\n",
    "    R_rel = np.matmul(R1, R2_transpose)\n",
    "    \n",
    "    #print(unhat(sp.linalg.logm(R_rel)))    # outputs 1x3 vector\n",
    "\n",
    "    return unhat(sp.linalg.logm(R_rel))"
   ]
  },
  {
   "cell_type": "code",
   "execution_count": 41,
   "id": "d354f897",
   "metadata": {},
   "outputs": [
    {
     "name": "stdout",
     "output_type": "stream",
     "text": [
      "Passed Debug test\n"
     ]
    }
   ],
   "source": [
    "autograder.testQ1b(rot_err)"
   ]
  },
  {
   "cell_type": "markdown",
   "id": "4d0192a4",
   "metadata": {},
   "source": [
    "## Inverse Kinematics Solver\n",
    "We will now create the IK solver. We will use some helper functions to get the rotation, position, and jacobian of a site in the `.xml` file. Look through the files and find the tags for `site`. Specifically, look for the two tags `ee_site` and `target_site` within the `worldbody` tags. These will be the two target frames on a the robot and in the world respectively. Understand the functions below and answer the subsequent questions. "
   ]
  },
  {
   "cell_type": "code",
   "execution_count": 42,
   "id": "5fef87f4",
   "metadata": {},
   "outputs": [],
   "source": [
    "def getSitePose(model, data, site_name):\n",
    "    \"\"\"\n",
    "        This function takes in the robot model, data, and the site name of the reference frame. \n",
    "        The output of the function returns a tuple of a rotation matrix R and a position p \n",
    "        relative to the world frame. \n",
    "    \"\"\"\n",
    "    # mujoco specific function\n",
    "    site_id = mujoco.mj_name2id(model, mujoco.mjtObj.mjOBJ_SITE, site_name)\n",
    "    # data structure for obtaining the position and orientation of a site reference frame\n",
    "    # note that rotation matrices are formated as a 9-dim vector and need to be reshaped\n",
    "    p = data.site_xpos[site_id]\n",
    "    R = data.site_xmat[site_id].reshape((3,3))\n",
    "    return (R, p)\n",
    "\n",
    "def getSiteJacobian(model, data, site_name):\n",
    "    \"\"\"\n",
    "        This function takes in the robot model, data, and the site name of the reference frame. \n",
    "        The output is the total jacobian matrix. Note that mujoco gives jacobian \n",
    "        position and rotation matrices which need to be stacked together.\n",
    "    \"\"\"\n",
    "    body_id = mujoco.mj_name2id(model, mujoco.mjtObj.mjOBJ_SITE, site_name)\n",
    "    jacp = np.zeros((3, model.nv))\n",
    "    jacr = np.zeros((3, model.nv))\n",
    "    mujoco.mj_jacSite(model, data, jacp, jacr, body_id)\n",
    "    return np.concatenate([jacp, jacr], axis=0)\n"
   ]
  },
  {
   "cell_type": "code",
   "execution_count": 43,
   "id": "4ffa747e-0b3a-41b7-8a10-ec2ad69349c7",
   "metadata": {},
   "outputs": [],
   "source": [
    "# From panda.xml file\n",
    "# <site name=\"ee_site\" pos=\"0 0 0.1\" euler=\"0 0 -1.57079\" size=\"0.05 0.05 0.05\" type=\"sphere\" rgba=\"0 0 0.5 0.5\"/>\n"
   ]
  },
  {
   "cell_type": "markdown",
   "id": "58989c1b",
   "metadata": {},
   "source": [
    "## Q2. Write the IK step. \n",
    "Write function to compute $\\Delta q$, for $q_{k+1} = q_k + \\Delta q$, where $\\Delta q$ is the solution to the minimum joint deviation based on the Taylor expansion of $f(q) - x_\\text{des}$, and $f(q)$ is your forward kinematics (assume that this is given as $x_\\text{curr}$)."
   ]
  },
  {
   "cell_type": "code",
   "execution_count": 44,
   "id": "4acb57c0-fdcb-42fd-b452-bcda9537a29e",
   "metadata": {},
   "outputs": [],
   "source": [
    "# dev testing concatenate\n",
    "# x = np.array([1,2,3])\n",
    "# y = np.array([2,3,4])\n",
    "# z = np.concatenate((x,y), axis=None)\n",
    "# print(z)"
   ]
  },
  {
   "cell_type": "code",
   "execution_count": 45,
   "id": "b50c4550",
   "metadata": {},
   "outputs": [],
   "source": [
    "def calcIKStep(jac, x_des, x_curr):\n",
    "    \"\"\"\n",
    "        This function takes in the jacobian matrix of the x_\\text{curr} = f(q) forward kinematics, \n",
    "        and the desired frame rotation matrix and position. \n",
    "        Assumes x_des, x_curr = (R, p)\n",
    "        Output of this function computes $\\Delta q$ using the jacobian.\n",
    "        \n",
    "        Based on eq. 1.6 of notes 2\n",
    "    \"\"\"\n",
    "    # break up subtraction of R and p separately\n",
    "    rot_error = rot_err(x_des[0], x_curr[0])    # rotation error between matrices \n",
    "    pos_error = x_des[1] - x_curr[1]\n",
    "    cur_error = np.concatenate((pos_error, rot_error), axis=None)\n",
    "    delta_q = np.matmul(np.linalg.pinv(jac), cur_error)\n",
    "    \n",
    "    return delta_q\n",
    "\n",
    "def IKSolve(q, jac, x_des, x_curr):\n",
    "    dq = calcIKStep(jac, x_des, x_curr)\n",
    "    return q + dq\n"
   ]
  },
  {
   "cell_type": "markdown",
   "id": "4eccceab",
   "metadata": {},
   "source": [
    "# Control!\n",
    "We will now implement different control strategies to move our robot. We will use the function below to simulate the control method used. Make sure you run the cell and load the function. Note that for the following examples you need to calculate the error from the poses of the reference frames."
   ]
  },
  {
   "cell_type": "code",
   "execution_count": 46,
   "id": "17fc99df",
   "metadata": {},
   "outputs": [],
   "source": [
    "def simulateCtrl(sim, ctrl_method, render=True, t_max=1000):\n",
    "    sim.data.qpos = sim.model.key_qpos\n",
    "    mujoco.mj_step(sim.model, sim.data)\n",
    "    log = []\n",
    "    if render:\n",
    "        viewer = mujoco_viewer.MujocoViewer(sim.model, sim.data)\n",
    "        viewer.vopt.frame = 3\n",
    "    for t in range(t_max):\n",
    "        u = ctrl_method(sim.model, sim.data)\n",
    "        sim.data.ctrl = u \n",
    "        mujoco.mj_step(sim.model, sim.data)\n",
    "        if render:\n",
    "            if viewer.is_alive:\n",
    "                viewer.render()\n",
    "    if render:\n",
    "        viewer.close()"
   ]
  },
  {
   "cell_type": "markdown",
   "id": "8f2cd173",
   "metadata": {},
   "source": [
    "## Q3 Velocity control\n",
    "Create a controller that returns $\\Delta q$ given the end-effector pose and the target site pose. Using the `calcIKStep` to compute $\\Delta q$. Run the `simulateCtrl` using the `franka_velocity_ctrl_sim` simulation. Describe what you see. "
   ]
  },
  {
   "cell_type": "markdown",
   "id": "a13f4cbb",
   "metadata": {},
   "source": [
    "## Response:\n",
    "\n",
    "Under velocity control, the robot arm moves towards the position directly but slumps over due to the effect of weight (not taken into consideration). Thus the end effector is near but not directly at the desired position and orientation. "
   ]
  },
  {
   "cell_type": "code",
   "execution_count": 47,
   "id": "42593796-6dd2-48d0-a4f3-9e64a6f896ff",
   "metadata": {},
   "outputs": [],
   "source": [
    "def velocity_ctrl(model, data):\n",
    "    \n",
    "    R_ee, p_ee = getSitePose(model, data, \"ee_site\") # rotation matrix R and position p \n",
    "    R_ts, p_ts = getSitePose(model, data, \"target_site\") \n",
    "    jacobian = getSiteJacobian(model, data, \"ee_site\")  # Jacobian stacked \n",
    "    # print(jacobian)  # 6 by 7 matrix, since robot has seven joints\n",
    "    \n",
    "    x_curr = (R_ee, p_ee)\n",
    "    x_des  = (R_ts, p_ts)\n",
    "   \n",
    "    solved_step = calcIKStep(jacobian, x_des, x_curr)   # q from data.qpos\n",
    "    \n",
    "    return solved_step"
   ]
  },
  {
   "cell_type": "code",
   "execution_count": 48,
   "id": "d677ed5d",
   "metadata": {},
   "outputs": [],
   "source": [
    "simulateCtrl(franka_velocity_ctrl_sim, velocity_ctrl)"
   ]
  },
  {
   "cell_type": "markdown",
   "id": "57833dbb",
   "metadata": {},
   "source": [
    "## Q4 Torque control\n",
    "Create a  basic PD controller that calculates torque values using $q$ from the `IKSolve` given the end-effector pose and the target site pose. Tune the PD values as best as you can.Describe what you see. "
   ]
  },
  {
   "cell_type": "markdown",
   "id": "64c5c939",
   "metadata": {},
   "source": [
    "## Response:\n",
    "\n",
    "The robot arm moves towards the target position but also slumps over slightly, due to the effect of weight. By not specifying the mass matrix, we are effectively assigning it the identity matrix so the robot arm is also not moving in the most expedient direction. Increasing kp allows the end effector to move closer towards the target position and hold its position (drop less), but kd cannot be too large (otherwise the solver cannot converge). "
   ]
  },
  {
   "cell_type": "code",
   "execution_count": 49,
   "id": "ed9f5e07",
   "metadata": {},
   "outputs": [],
   "source": [
    "def torque_ctrl(model, data):\n",
    "    \"\"\"\n",
    "    Output will be a 7 dim vec tau = kp (qdes - qpos) + kd * (-qvel)\n",
    "    where data.qpos = qpos and data.qvel = qvel are from the robot \n",
    "    \"\"\" \n",
    "    \n",
    "    kp = 200\n",
    "    kd = 100\n",
    "    \n",
    "    # inverse kinematics for where to go\n",
    "    R_ee, p_ee = getSitePose(model, data, \"ee_site\") # rotation matrix R and position p \n",
    "    R_ts, p_ts = getSitePose(model, data, \"target_site\") \n",
    "    jacobian = getSiteJacobian(model, data, \"ee_site\")  # Jacobian stacked \n",
    "    x_curr = (R_ee, p_ee)\n",
    "    x_des  = (R_ts, p_ts)\n",
    "    des_pos = IKSolve(data.qpos, jacobian, x_des, x_curr)   # q from data.qpos\n",
    "    des_vel = 0\n",
    "    \n",
    "    # PD controller to implement torque\n",
    "    # data.qpos for current position, data.qvel for current velocity\n",
    "    current_pos = data.qpos\n",
    "    current_vel = data.qvel\n",
    "    \n",
    "    q_des = kp*(des_pos - current_pos) + kd*( - current_vel)\n",
    "\n",
    "    return q_des\n"
   ]
  },
  {
   "cell_type": "code",
   "execution_count": 50,
   "id": "52166295",
   "metadata": {},
   "outputs": [],
   "source": [
    "simulateCtrl(franka_torque_ctrl_sim, torque_ctrl)"
   ]
  },
  {
   "cell_type": "markdown",
   "id": "f26bac6c",
   "metadata": {},
   "source": [
    "## Q4 Dynamic Comp. Torque control\n",
    "Create a feed forward dynamic compensation controller that calculate target $q$ from the `IKSolve` given the end-effector pose and the target site pose. Tune the PD values as best as you can. Using the provided functions for obtaining the mass matrix and dynamic bias terms. Describe what you see. "
   ]
  },
  {
   "cell_type": "markdown",
   "id": "e346c473",
   "metadata": {},
   "source": [
    "## Response:\n",
    "\n",
    "Taking into account the real mass distribution, the arm now delivers the end effector accurately to the desired target position and orientation. The values of kp and kd tuned are much lower than the previous part because the weight is now being accounted for, so the control output is more tailored. Furthermore, increasing kp tends to create more overshoot as the robot arm swings but is faster, so kd needs to be adjusted to compensate. "
   ]
  },
  {
   "cell_type": "code",
   "execution_count": 51,
   "id": "ffd31481",
   "metadata": {},
   "outputs": [],
   "source": [
    "def getMassMatrix(model, data):\n",
    "    mass_matrix = np.zeros((model.nv, model.nv))\n",
    "    mujoco.mj_fullM(model, mass_matrix, data.qM)\n",
    "    return mass_matrix\n",
    "\n",
    "def getBiasTerms(model, data):\n",
    "    return data.qfrc_bias\n",
    "\n",
    "def feedforward_torque_ctrl(model, data):\n",
    "    kp = 10\n",
    "    kd = 2\n",
    "    \n",
    "    # inverse kinematics for where to go\n",
    "    R_ee, p_ee = getSitePose(model, data, \"ee_site\") # rotation matrix R and position p \n",
    "    R_ts, p_ts = getSitePose(model, data, \"target_site\") \n",
    "    jacobian = getSiteJacobian(model, data, \"ee_site\")  # Jacobian stacked \n",
    "    x_curr = (R_ee, p_ee)\n",
    "    x_des  = (R_ts, p_ts)\n",
    "    des_pos = IKSolve(data.qpos, jacobian, x_des, x_curr)   # q from data.qpos\n",
    "    des_vel = 0\n",
    "    \n",
    "    # PD controller to implement torque\n",
    "    # data.qpos for current position, data.qvel for current velocity\n",
    "    current_pos = data.qpos\n",
    "    current_vel = data.qvel\n",
    "    qacc_des = kp*(des_pos-current_pos) + kd*(des_vel-current_vel)\n",
    "    \n",
    "    bias_term = getBiasTerms(model, data)\n",
    "    mass_matrix = getMassMatrix(model, data)\n",
    "    \n",
    "    torque = np.matmul(mass_matrix, qacc_des)+bias_term\n",
    "\n",
    "    return torque\n",
    "    "
   ]
  },
  {
   "cell_type": "code",
   "execution_count": 52,
   "id": "0cc94997",
   "metadata": {},
   "outputs": [],
   "source": [
    "simulateCtrl(franka_torque_ctrl_sim, feedforward_torque_ctrl)"
   ]
  },
  {
   "cell_type": "code",
   "execution_count": null,
   "id": "b84c84b4-36c9-432e-8e19-532592680d90",
   "metadata": {},
   "outputs": [],
   "source": []
  }
 ],
 "metadata": {
  "kernelspec": {
   "display_name": "Python 3 (ipykernel)",
   "language": "python",
   "name": "python3"
  },
  "language_info": {
   "codemirror_mode": {
    "name": "ipython",
    "version": 3
   },
   "file_extension": ".py",
   "mimetype": "text/x-python",
   "name": "python",
   "nbconvert_exporter": "python",
   "pygments_lexer": "ipython3",
   "version": "3.10.6"
  },
  "vscode": {
   "interpreter": {
    "hash": "7e1205e302398dd02bd48c71bb7eceb4729eb3a245520ba0a632d0a1f7a8e35a"
   }
  }
 },
 "nbformat": 4,
 "nbformat_minor": 5
}
