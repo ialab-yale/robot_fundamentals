{
 "cells": [
  {
   "cell_type": "markdown",
   "id": "a6297dea-f1c8-4f1c-8135-271ac5c641db",
   "metadata": {},
   "source": [
    "# Inverse Kinematics and PID control\n",
    "In this homework assignemnt, you will be tasked with creating an IK solver and controlling a robot arm using PID control (specifically the Franka Panda 7DoF robot). We will be creating two versions of the controller, one that uses pure velocity control and another that using torque control with feedforward dynamics. "
   ]
  },
  {
   "cell_type": "markdown",
   "id": "ea15eb8d-c2b3-48d2-98a7-9279819d3fa9",
   "metadata": {},
   "source": [
    "### Import mujoco and numpy"
   ]
  },
  {
   "cell_type": "code",
   "execution_count": 1,
   "id": "8a242e6e-aa40-499d-8871-20c6b4a2fffd",
   "metadata": {},
   "outputs": [],
   "source": [
    "import mujoco\n",
    "import mujoco_viewer\n",
    "import numpy as np\n",
    "from numpy.linalg import inv, pinv\n",
    "import scipy as sp\n",
    "\n",
    "from utilts import rot_err, getSitePose, getSiteVel, getSiteJacobian\n",
    "from autograder import autograder\n",
    "from sim import Sim\n",
    "\n",
    "franka_sim = Sim(fname='./franka_emika_panda/scene_torque_actuators.xml')"
   ]
  },
  {
   "cell_type": "code",
   "execution_count": 2,
   "id": "9b0bb9f5",
   "metadata": {},
   "outputs": [],
   "source": [
    "\n",
    "def getMassMatrix(model, data):\n",
    "    \"\"\"\n",
    "        This function takes in a mujoco model and data class and returns\n",
    "        the full system mass/inertia matrix \n",
    "        M(q) : nxn matrix where n = dim(q) <- note that for floating base system, this includes 6 dim base degree DoF\n",
    "    \"\"\"\n",
    "    mass_matrix = np.zeros((model.nv, model.nv))\n",
    "    mujoco.mj_fullM(model, mass_matrix, data.qM)\n",
    "    return mass_matrix\n",
    "\n",
    "def getBiasTerms(model, data):\n",
    "    \"\"\"\n",
    "        This function takes in a mujoco model and data class and returns\n",
    "        the dynamic bias terms e.g., friction, gravity, coriolis, etc. \n",
    "        b(q,qdot) : nx1 array\n",
    "    \"\"\"\n",
    "    return data.qfrc_bias\n",
    "\n",
    "def getOSMassMatrix(sys_mass_matrix, jac):\n",
    "    \"\"\"\n",
    "        This function takes in the mass matrix and a jacobian matrix and returns \n",
    "        the operational space matrix M_x(q) = (J M^{-1} J.T)^{-1}\n",
    "    \"\"\"\n",
    "    return inv(jac@np.linalg.inv(sys_mass_matrix)@jac.T)\n",
    "\n",
    "\n"
   ]
  },
  {
   "cell_type": "code",
   "execution_count": 3,
   "id": "c5128277",
   "metadata": {},
   "outputs": [],
   "source": [
    "def operational_space_control(model, data):\n",
    "    # PD control parameters\n",
    "    kp = 350.\n",
    "    kd = 50.\n",
    "    # simulate and render\n",
    "    (R_ee, p_ee)     = getSitePose(model, data, \"ee_site\")\n",
    "    (R_des, p_des)   = getSitePose(model, data, \"target_site\")\n",
    "    jac              = getSiteJacobian(model, data, \"ee_site\")\n",
    "\n",
    "    ## we can now work directly with errors in the operational space\n",
    "    err_p   = p_des - p_ee\n",
    "    err_rot = rot_err(R_des, R_ee)\n",
    "    err     = np.concatenate([err_p, err_rot])\n",
    "\n",
    "    ### to compute velocity in operational space, we do the following transform \n",
    "    ### this is equivalent to J qdot\n",
    "    err_dot = jac@data.qvel\n",
    "\n",
    "    ### calculate the xddot_des in operational space \n",
    "    xddot_des = kp * err + kd *(-err_dot)\n",
    "\n",
    "    ### pull out the dynamic terms \n",
    "    mass_matrix = getMassMatrix(model, data)\n",
    "    bias        = getBiasTerms(model, data)\n",
    "\n",
    "    ### calculate the operational space mass matrix \n",
    "    op_mass_matrix = getOSMassMatrix(mass_matrix, jac)\n",
    "\n",
    "    ### compute the torque controller with respect to the operational space \n",
    "    ### that is J.T (M_x xddot_des) + b\n",
    "    tau = jac.T @ op_mass_matrix@ xddot_des + bias\n",
    "    return tau"
   ]
  },
  {
   "cell_type": "code",
   "execution_count": 4,
   "id": "17fc99df",
   "metadata": {},
   "outputs": [],
   "source": [
    "def simulateCtrl(sim, ctrl_method, render=True, t_max=1000):\n",
    "    if len(sim.model.key_qpos) != 0:\n",
    "        sim.data.qpos = sim.model.key_qpos\n",
    "    mujoco.mj_step(sim.model, sim.data)\n",
    "    log = []\n",
    "    if render:\n",
    "        viewer = mujoco_viewer.MujocoViewer(sim.model, sim.data)\n",
    "        viewer.vopt.frame = 3\n",
    "    for t in range(t_max):\n",
    "        u = ctrl_method(sim.model, sim.data)\n",
    "        sim.data.ctrl = u \n",
    "        mujoco.mj_step(sim.model, sim.data)\n",
    "        if render:\n",
    "            if viewer.is_alive:\n",
    "                viewer.render()\n",
    "    if render:\n",
    "        viewer.close()"
   ]
  },
  {
   "cell_type": "code",
   "execution_count": 5,
   "id": "ec1bf8de",
   "metadata": {},
   "outputs": [
    {
     "name": "stdout",
     "output_type": "stream",
     "text": [
      "Pressed ESC\n",
      "Quitting.\n"
     ]
    }
   ],
   "source": [
    "simulateCtrl(franka_sim, operational_space_control)"
   ]
  },
  {
   "cell_type": "code",
   "execution_count": null,
   "id": "f2a20dee",
   "metadata": {},
   "outputs": [],
   "source": []
  }
 ],
 "metadata": {
  "kernelspec": {
   "display_name": "Python 3.10.6 ('meng443arm')",
   "language": "python",
   "name": "python3"
  },
  "language_info": {
   "codemirror_mode": {
    "name": "ipython",
    "version": 3
   },
   "file_extension": ".py",
   "mimetype": "text/x-python",
   "name": "python",
   "nbconvert_exporter": "python",
   "pygments_lexer": "ipython3",
   "version": "3.10.6"
  },
  "vscode": {
   "interpreter": {
    "hash": "8a4c8fcd1d64603278e49ea51704004ebbaed6d078e5ae6c40f7c8af5a01823a"
   }
  }
 },
 "nbformat": 4,
 "nbformat_minor": 5
}
