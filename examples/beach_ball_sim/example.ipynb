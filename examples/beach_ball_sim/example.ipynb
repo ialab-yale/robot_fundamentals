{
 "cells": [
  {
   "cell_type": "code",
   "execution_count": 1,
   "metadata": {},
   "outputs": [],
   "source": [
    "from viewer import BallViewer\n",
    "import jax \n",
    "import jax.numpy as np\n",
    "from jax import jacfwd\n",
    "from jax.numpy.linalg import pinv\n",
    "\n",
    "import numpy as onp\n",
    "import time "
   ]
  },
  {
   "cell_type": "code",
   "execution_count": 2,
   "metadata": {},
   "outputs": [
    {
     "name": "stdout",
     "output_type": "stream",
     "text": [
      "You can open the visualizer by visiting the following URL:\n",
      "http://127.0.0.1:7016/static/\n"
     ]
    },
    {
     "data": {
      "text/plain": [
       "<Visualizer using: <meshcat.visualizer.ViewerWindow object at 0x13e89e8c0> at path: <meshcat.path.Path object at 0x10c0329b0>>"
      ]
     },
     "execution_count": 2,
     "metadata": {},
     "output_type": "execute_result"
    }
   ],
   "source": [
    "viewer = BallViewer()\n",
    "viewer.open()"
   ]
  },
  {
   "cell_type": "markdown",
   "metadata": {},
   "source": [
    "$$\n",
    "\\dot{x} = f(x), x = \\begin{bmatrix} q \\\\ \\dot{q} \\end{bmatrix}\n",
    "$$"
   ]
  },
  {
   "cell_type": "code",
   "execution_count": 3,
   "metadata": {},
   "outputs": [],
   "source": [
    "# xdot = f(x), x = [q, qdot]\n",
    "def rk4_step(f, x, h):\n",
    "    # one step of runge-kutta integration\n",
    "    k1 = h * f(x)\n",
    "    k2 = h * f(x + k1/2)\n",
    "    k3 = h * f(x + k2/2)\n",
    "    k4 = h * f(x + k3)\n",
    "    return x + 1/6 * (k1 + 2 * k2 + 2 * k3 + k4)\n",
    "\n",
    "def euler_step(f, x, h):\n",
    "    return x + f(x) * h"
   ]
  },
  {
   "cell_type": "code",
   "execution_count": 21,
   "metadata": {},
   "outputs": [
    {
     "ename": "TypeError",
     "evalue": "diag requires ndarray or scalar arguments, got <class 'list'> at position 0.",
     "output_type": "error",
     "traceback": [
      "\u001b[0;31m---------------------------------------------------------------------------\u001b[0m",
      "\u001b[0;31mTypeError\u001b[0m                                 Traceback (most recent call last)",
      "\u001b[1;32m/Users/ia285/Courses/robot_fundamentals/examples/lagrangian_mech/example.ipynb Cell 5\u001b[0m in \u001b[0;36m<cell line: 3>\u001b[0;34m()\u001b[0m\n\u001b[1;32m      <a href='vscode-notebook-cell:/Users/ia285/Courses/robot_fundamentals/examples/lagrangian_mech/example.ipynb#W4sZmlsZQ%3D%3D?line=0'>1</a>\u001b[0m _m \u001b[39m=\u001b[39m \u001b[39m1.\u001b[39m \n\u001b[1;32m      <a href='vscode-notebook-cell:/Users/ia285/Courses/robot_fundamentals/examples/lagrangian_mech/example.ipynb#W4sZmlsZQ%3D%3D?line=1'>2</a>\u001b[0m _r \u001b[39m=\u001b[39m \u001b[39m1.\u001b[39m\n\u001b[0;32m----> <a href='vscode-notebook-cell:/Users/ia285/Courses/robot_fundamentals/examples/lagrangian_mech/example.ipynb#W4sZmlsZQ%3D%3D?line=2'>3</a>\u001b[0m _M \u001b[39m=\u001b[39m np\u001b[39m.\u001b[39;49mdiag([_m, _m, (\u001b[39m2.\u001b[39;49m\u001b[39m/\u001b[39;49m\u001b[39m3.\u001b[39;49m) \u001b[39m*\u001b[39;49m _m \u001b[39m*\u001b[39;49m  _r\u001b[39m*\u001b[39;49m\u001b[39m*\u001b[39;49m\u001b[39m2\u001b[39;49m])\n\u001b[1;32m      <a href='vscode-notebook-cell:/Users/ia285/Courses/robot_fundamentals/examples/lagrangian_mech/example.ipynb#W4sZmlsZQ%3D%3D?line=3'>4</a>\u001b[0m _M_inv \u001b[39m=\u001b[39m onp\u001b[39m.\u001b[39mlinalg\u001b[39m.\u001b[39minv(_M)\n\u001b[1;32m      <a href='vscode-notebook-cell:/Users/ia285/Courses/robot_fundamentals/examples/lagrangian_mech/example.ipynb#W4sZmlsZQ%3D%3D?line=4'>5</a>\u001b[0m _g \u001b[39m=\u001b[39m \u001b[39m9.81\u001b[39m\n",
      "File \u001b[0;32m~/miniconda3/envs/meng443arm/lib/python3.10/site-packages/jax/_src/numpy/lax_numpy.py:2559\u001b[0m, in \u001b[0;36mdiag\u001b[0;34m(v, k)\u001b[0m\n\u001b[1;32m   2557\u001b[0m \u001b[39m@_wraps\u001b[39m(np\u001b[39m.\u001b[39mdiag, lax_description\u001b[39m=\u001b[39m_ARRAY_VIEW_DOC)\n\u001b[1;32m   2558\u001b[0m \u001b[39mdef\u001b[39;00m \u001b[39mdiag\u001b[39m(v, k\u001b[39m=\u001b[39m\u001b[39m0\u001b[39m):\n\u001b[0;32m-> 2559\u001b[0m   \u001b[39mreturn\u001b[39;00m _diag(v, operator\u001b[39m.\u001b[39;49mindex(k))\n",
      "    \u001b[0;31m[... skipping hidden 14 frame]\u001b[0m\n",
      "File \u001b[0;32m~/miniconda3/envs/meng443arm/lib/python3.10/site-packages/jax/_src/numpy/lax_numpy.py:2563\u001b[0m, in \u001b[0;36m_diag\u001b[0;34m(v, k)\u001b[0m\n\u001b[1;32m   2561\u001b[0m \u001b[39m@partial\u001b[39m(jit, static_argnames\u001b[39m=\u001b[39m(\u001b[39m'\u001b[39m\u001b[39mk\u001b[39m\u001b[39m'\u001b[39m,))\n\u001b[1;32m   2562\u001b[0m \u001b[39mdef\u001b[39;00m \u001b[39m_diag\u001b[39m(v, k):\n\u001b[0;32m-> 2563\u001b[0m   _check_arraylike(\u001b[39m\"\u001b[39;49m\u001b[39mdiag\u001b[39;49m\u001b[39m\"\u001b[39;49m, v)\n\u001b[1;32m   2564\u001b[0m   v_shape \u001b[39m=\u001b[39m shape(v)\n\u001b[1;32m   2565\u001b[0m   \u001b[39mif\u001b[39;00m \u001b[39mlen\u001b[39m(v_shape) \u001b[39m==\u001b[39m \u001b[39m1\u001b[39m:\n",
      "File \u001b[0;32m~/miniconda3/envs/meng443arm/lib/python3.10/site-packages/jax/_src/numpy/util.py:335\u001b[0m, in \u001b[0;36m_check_arraylike\u001b[0;34m(fun_name, *args)\u001b[0m\n\u001b[1;32m    332\u001b[0m pos, arg \u001b[39m=\u001b[39m \u001b[39mnext\u001b[39m((i, arg) \u001b[39mfor\u001b[39;00m i, arg \u001b[39min\u001b[39;00m \u001b[39menumerate\u001b[39m(args)\n\u001b[1;32m    333\u001b[0m                 \u001b[39mif\u001b[39;00m \u001b[39mnot\u001b[39;00m _arraylike(arg))\n\u001b[1;32m    334\u001b[0m msg \u001b[39m=\u001b[39m \u001b[39m\"\u001b[39m\u001b[39m{}\u001b[39;00m\u001b[39m requires ndarray or scalar arguments, got \u001b[39m\u001b[39m{}\u001b[39;00m\u001b[39m at position \u001b[39m\u001b[39m{}\u001b[39;00m\u001b[39m.\u001b[39m\u001b[39m\"\u001b[39m\n\u001b[0;32m--> 335\u001b[0m \u001b[39mraise\u001b[39;00m \u001b[39mTypeError\u001b[39;00m(msg\u001b[39m.\u001b[39mformat(fun_name, \u001b[39mtype\u001b[39m(arg), pos))\n",
      "\u001b[0;31mTypeError\u001b[0m: diag requires ndarray or scalar arguments, got <class 'list'> at position 0."
     ]
    }
   ],
   "source": [
    "_m = 1. \n",
    "_r = 1.\n",
    "_M = np.diag([_m, _m, (2./3.) * _m *  _r**2])\n",
    "_M_inv = onp.linalg.inv(_M)\n",
    "_g = 9.81\n",
    "\n",
    "def f_analytical_ball(x):\n",
    "    # \\dot{x} = f(x)\n",
    "    q, qdot = np.split(x, 2)\n",
    "    b = np.array([0, -_g, 0])\n",
    "    _M_inv = np.linalg.inv(_M)\n",
    "    return np.concatenate([qdot, _M_inv @ b]) "
   ]
  },
  {
   "cell_type": "code",
   "execution_count": 22,
   "metadata": {},
   "outputs": [],
   "source": [
    "def phi(q):\n",
    "    return q[1] - _r\n",
    "\n",
    "def contact_loc(q):\n",
    "    x,z,th = q\n",
    "    return np.array([\n",
    "        x + _r * np.cos(th),\n",
    "        z + _r * np.sin(th)\n",
    "    ])\n",
    "\n",
    "contact_jac = jacfwd(contact_loc)\n",
    "# def contact_jac(q):\n",
    "#     return np.array([\n",
    "#         [1.0, 0.0, _r],\n",
    "#         [0.0, 1.0, 0.]\n",
    "#     ])\n",
    "q_c = np.array([0, _r, -np.pi/2.0])\n"
   ]
  },
  {
   "cell_type": "code",
   "execution_count": 33,
   "metadata": {},
   "outputs": [],
   "source": [
    "q0    = np.array([0.0, 4.0, 0.0])\n",
    "qdot0 = np.array([0.0, 0.0, -5.0])\n",
    "x     = np.concatenate([q0, qdot0])\n",
    "dfdx = jax.jit(jacfwd(f_analytical_ball))"
   ]
  },
  {
   "cell_type": "code",
   "execution_count": 34,
   "metadata": {},
   "outputs": [
    {
     "data": {
      "text/plain": [
       "DeviceArray([[0., 0., 0., 1., 0., 0.],\n",
       "             [0., 0., 0., 0., 1., 0.],\n",
       "             [0., 0., 0., 0., 0., 1.],\n",
       "             [0., 0., 0., 0., 0., 0.],\n",
       "             [0., 0., 0., 0., 0., 0.],\n",
       "             [0., 0., 0., 0., 0., 0.]], dtype=float32)"
      ]
     },
     "execution_count": 34,
     "metadata": {},
     "output_type": "execute_result"
    }
   ],
   "source": [
    "dfdx(x)"
   ]
  },
  {
   "cell_type": "code",
   "execution_count": 37,
   "metadata": {},
   "outputs": [
    {
     "name": "stdout",
     "output_type": "stream",
     "text": [
      "2.38 µs ± 5.68 ns per loop (mean ± std. dev. of 7 runs, 100,000 loops each)\n"
     ]
    }
   ],
   "source": [
    "%timeit dfdx(x).block_until_ready()"
   ]
  },
  {
   "cell_type": "code",
   "execution_count": 9,
   "metadata": {},
   "outputs": [
    {
     "name": "stdout",
     "output_type": "stream",
     "text": [
      "2.7 ms ± 29.5 µs per loop (mean ± std. dev. of 7 runs, 100 loops each)\n"
     ]
    }
   ],
   "source": [
    "%timeit contact_jac(q_c)"
   ]
  },
  {
   "cell_type": "code",
   "execution_count": 13,
   "metadata": {},
   "outputs": [],
   "source": [
    "def reset_map(q, qdot, q_c):\n",
    "    # qdot+ \n",
    "    J = contact_jac(q_c)\n",
    "    return (np.eye(qdot.shape[0]) - _M_inv@J.T@onp.diag([1.,1.])@pinv(J@_M_inv@J.T)@J)@qdot\n"
   ]
  },
  {
   "cell_type": "code",
   "execution_count": 14,
   "metadata": {},
   "outputs": [],
   "source": [
    "q0    = np.array([0.0, 4.0, 0.0])\n",
    "qdot0 = np.array([0.0, 0.0, -5.0])\n",
    "x     = np.concatenate([q0, qdot0])\n",
    "\n",
    "dt = 0.01\n",
    "for t in range(500):\n",
    "    x = rk4_step(f_analytical_ball, x, dt)\n",
    "    # dxdt = f_analytical_ball(x)\n",
    "    # x  = x + dt*dxdt\n",
    "    # euler step \n",
    "    # x = euler_step(f_analytical_ball, x, dt)\n",
    "    q, qdot = np.split(x, 2)\n",
    "    if phi(q) <= 0:\n",
    "        q_c = np.array([q[0], q[1], -np.pi/2.0])\n",
    "        qdot = reset_map(q, qdot, q_c)\n",
    "        x = np.concatenate([q,qdot])\n",
    "    viewer.render(np.split(x,2)[0])\n",
    "    time.sleep(dt)"
   ]
  },
  {
   "cell_type": "code",
   "execution_count": null,
   "metadata": {},
   "outputs": [],
   "source": []
  }
 ],
 "metadata": {
  "kernelspec": {
   "display_name": "Python 3.10.6 ('meng443arm')",
   "language": "python",
   "name": "python3"
  },
  "language_info": {
   "codemirror_mode": {
    "name": "ipython",
    "version": 3
   },
   "file_extension": ".py",
   "mimetype": "text/x-python",
   "name": "python",
   "nbconvert_exporter": "python",
   "pygments_lexer": "ipython3",
   "version": "3.10.6 | packaged by conda-forge | (main, Aug 22 2022, 20:38:29) [Clang 13.0.1 ]"
  },
  "orig_nbformat": 4,
  "vscode": {
   "interpreter": {
    "hash": "8a4c8fcd1d64603278e49ea51704004ebbaed6d078e5ae6c40f7c8af5a01823a"
   }
  }
 },
 "nbformat": 4,
 "nbformat_minor": 2
}
