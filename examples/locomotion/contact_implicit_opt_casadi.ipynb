{
 "cells": [
  {
   "cell_type": "markdown",
   "id": "ea15eb8d-c2b3-48d2-98a7-9279819d3fa9",
   "metadata": {},
   "source": [
    "### Import mujoco and numpy"
   ]
  },
  {
   "cell_type": "code",
   "execution_count": 1,
   "id": "8a242e6e-aa40-499d-8871-20c6b4a2fffd",
   "metadata": {},
   "outputs": [],
   "source": [
    "import casadi as ca\n",
    "import numpy as np\n",
    "import matplotlib.pyplot as plt\n"
   ]
  },
  {
   "cell_type": "code",
   "execution_count": 25,
   "id": "4fdc367f",
   "metadata": {},
   "outputs": [],
   "source": [
    "class HopperDynamics(object):\n",
    "    def __init__(self, dt=0.01) -> None:\n",
    "        self._m  = 0.1\n",
    "        # self._I = np.diag([1.0, 1.0, 1.0])\n",
    "        self._g  = 9.81 \n",
    "        self._dt = dt\n",
    "\n",
    "        def dfdt(x, u):\n",
    "            p, pdot = x[0], x[1]\n",
    "            f = u[0]\n",
    "            pddot = f/self._m - self._g\n",
    "            return ca.vertcat(pdot, pddot) \n",
    "        def f(x, u):\n",
    "            return x + self._dt * self.dfdt(x, u)\n",
    "        \n",
    "        self.dfdt = dfdt \n",
    "        self.f = f \n",
    "\n",
    "hopper_model = HopperDynamics()\n",
    "\n",
    "\n",
    "def loss(x, u):\n",
    "    return ca.sumsqr(x-np.array([2.,0.]))\n",
    "\n",
    "def phi(x):\n",
    "    return x[0]-1.0"
   ]
  },
  {
   "cell_type": "code",
   "execution_count": 26,
   "id": "3a60068d",
   "metadata": {},
   "outputs": [],
   "source": [
    "x  = ca.SX.sym('x', 2)\n",
    "u  = ca.SX.sym('u', 1)"
   ]
  },
  {
   "cell_type": "code",
   "execution_count": 27,
   "id": "385e74e3",
   "metadata": {},
   "outputs": [],
   "source": [
    "xnext = hopper_model.f(x, u)\n",
    "F = ca.Function('F',[x,u], [xnext])#, ['x, y'], ['ode1', 'ode2'])"
   ]
  },
  {
   "cell_type": "code",
   "execution_count": 39,
   "id": "0ea37bc7",
   "metadata": {},
   "outputs": [],
   "source": [
    "opti = ca.Opti()\n",
    "tf = 2\n",
    "N = int(tf/hopper_model._dt)\n",
    "x = opti.variable(2, N+1) # Decision variables for state trajetcory\n",
    "u = opti.variable(1, N)\n",
    "p = opti.parameter(2, 1)  # initial cond Parameter (not optimized over)\n",
    "\n",
    "opti.minimize(loss(x,u))\n",
    "\n",
    "for k in range(0, N-1):\n",
    "  opti.subject_to(x[:,k+1]==F(x[:,k],u[:,k]))\n",
    "  opti.subject_to(phi(x[:,k+1])>=0)\n",
    "  opti.subject_to(phi(x[:,k+1])*u[:,k]==0)\n",
    "opti.subject_to(opti.bounded(0,u,1000))\n",
    "opti.subject_to(x[:,0]==p)#np.array([2.,0.]))\n",
    "# opti.subject_to(u>=0)\n",
    "# opti.subject_to(x[:,-1] == np.array([10.,0.]))\n"
   ]
  },
  {
   "cell_type": "code",
   "execution_count": 40,
   "id": "8693f38e",
   "metadata": {},
   "outputs": [
    {
     "name": "stdout",
     "output_type": "stream",
     "text": [
      "This is Ipopt version 3.12.3, running with linear solver mumps.\n",
      "NOTE: Other linear solvers might be more efficient (see Ipopt documentation).\n",
      "\n",
      "Number of nonzeros in equality constraint Jacobian...:     1594\n",
      "Number of nonzeros in inequality constraint Jacobian.:      399\n",
      "Number of nonzeros in Lagrangian Hessian.............:      601\n",
      "\n",
      "Total number of variables............................:      602\n",
      "                     variables with only lower bounds:        0\n",
      "                variables with lower and upper bounds:        0\n",
      "                     variables with only upper bounds:        0\n",
      "Total number of equality constraints.................:      599\n",
      "Total number of inequality constraints...............:      399\n",
      "        inequality constraints with only lower bounds:      199\n",
      "   inequality constraints with lower and upper bounds:      200\n",
      "        inequality constraints with only upper bounds:        0\n",
      "\n",
      "iter    objective    inf_pr   inf_du lg(mu)  ||d||  lg(rg) alpha_du alpha_pr  ls\n",
      "   0  8.0400000e+02 2.00e+00 4.00e+00  -1.0 0.00e+00    -  0.00e+00 0.00e+00   0\n",
      "   1  8.0592491e+02 2.00e+00 1.93e+01  -1.0 1.95e+01    -  1.10e-02 5.40e-04h  1\n",
      "   2r 8.0592491e+02 2.00e+00 9.99e+02   0.3 0.00e+00    -  0.00e+00 3.38e-07R  5\n",
      "   3r 7.7619610e+02 1.96e+00 1.00e+03   0.3 3.73e+02    -  4.15e-01 1.27e-04f  1\n",
      "   4r 3.1736069e+02 1.12e+00 7.74e+02   0.3 1.13e+01    -  3.67e-01 2.23e-01f  1\n",
      "   5  3.1783397e+02 1.12e+00 2.04e+03  -1.0 1.90e+01    -  4.92e-03 1.25e-04h  1\n",
      "   6r 3.1783397e+02 1.12e+00 1.00e+03   0.1 0.00e+00    -  0.00e+00 3.16e-07R  3\n",
      "   7r 2.8010937e+02 9.82e-01 9.91e+02   0.1 2.10e+01    -  1.45e-02 9.20e-03f  1\n",
      "   8r 2.8010937e+02 9.82e-01 9.99e+02  -0.0 0.00e+00    -  0.00e+00 3.16e-07R  2\n",
      "   9r 2.5068633e+02 9.59e-01 9.85e+02  -0.0 1.81e+01    -  1.27e-03 1.39e-02f  1\n",
      "iter    objective    inf_pr   inf_du lg(mu)  ||d||  lg(rg) alpha_du alpha_pr  ls\n",
      "  10r 2.5004518e+02 9.58e-01 9.79e+02  -0.0 3.30e+00   2.0 7.23e-02 5.89e-03f  1\n",
      "  11r 2.5260689e+02 9.90e-01 9.79e+02  -0.0 1.13e+02    -  8.88e-04 7.57e-04f  1\n",
      "  12r 2.5233644e+02 9.88e-01 9.59e+02  -0.0 1.68e+00   1.5 1.24e-02 2.00e-02f  1\n",
      "  13r 2.5383724e+02 9.89e-01 9.57e+02  -0.0 4.20e+01   1.0 1.37e-03 2.29e-03f  1\n",
      "  14r 2.5462658e+02 9.89e-01 9.50e+02  -0.0 1.69e+00   1.5 1.17e-02 1.72e-02f  1\n",
      "  15r 2.5492567e+02 9.88e-01 9.51e+02  -0.0 7.12e-01   1.9 1.10e-02 1.86e-02f  1\n",
      "  16r 2.5636479e+02 9.89e-01 9.38e+02  -0.0 2.48e+00   1.4 1.31e-02 1.52e-02f  1\n",
      "  17r 2.5667440e+02 9.89e-01 9.14e+02  -0.0 7.45e-01   1.8 2.61e-02 1.72e-02f  1\n",
      "  18r 2.5754907e+02 9.90e-01 9.03e+02  -0.0 1.11e+01   1.4 1.16e-02 1.29e-02f  1\n",
      "  19r 2.5826532e+02 9.97e-01 8.96e+02  -0.0 1.92e+01   0.9 7.79e-03 8.85e-03f  1\n",
      "iter    objective    inf_pr   inf_du lg(mu)  ||d||  lg(rg) alpha_du alpha_pr  ls\n",
      "  20r 2.5968310e+02 9.98e-01 8.95e+02  -0.0 2.58e+00   1.3 1.94e-02 3.89e-02f  1\n",
      "  21r 2.6005576e+02 9.98e-01 8.30e+02  -0.0 8.90e-01   1.7 8.00e-02 2.67e-02f  1\n",
      "  22r 2.6102112e+02 9.98e-01 7.82e+02  -0.0 2.64e+00   1.3 5.83e-02 4.29e-02f  1\n",
      "  23r 2.6417218e+02 9.97e-01 7.63e+02  -0.0 9.65e-01   1.7 1.16e-01 2.11e-01f  1\n",
      "  24r 2.6433884e+02 9.97e-01 6.09e+02  -0.0 3.63e-01   2.1 2.38e-01 1.19e-01f  1\n",
      "  25r 2.6460060e+02 9.96e-01 5.38e+02  -0.0 1.01e+00   1.6 3.07e-01 1.55e-01f  1\n",
      "  26r 2.5876653e+02 9.96e-01 5.32e+02  -0.0 1.41e+01    -  1.03e-02 1.08e-02f  1\n",
      "  27r 2.5618918e+02 9.96e-01 7.69e+02  -0.0 1.49e+00   1.2 4.49e-01 9.69e-02f  1\n",
      "  28r 2.2808735e+02 9.92e-01 6.58e+02  -0.0 9.06e+00    -  1.47e-01 9.74e-02f  1\n",
      "  29r 2.2334107e+02 9.82e-01 2.06e+02  -0.0 3.80e-01   1.6 9.96e-01 6.76e-01f  1\n",
      "iter    objective    inf_pr   inf_du lg(mu)  ||d||  lg(rg) alpha_du alpha_pr  ls\n",
      "  30r 2.1196620e+02 6.90e-01 1.30e+01  -0.0 3.97e-01   1.1 1.00e+00 1.00e+00f  1\n",
      "  31  2.1262375e+02 6.89e-01 1.65e+04  -1.0 1.18e+03    -  9.37e-04 1.22e-03h  1\n",
      "  32  2.1258942e+02 6.84e-01 5.96e+04  -1.0 7.53e+01   2.0 1.11e-02 7.70e-03h  1\n",
      "  33  2.1256742e+02 6.83e-01 5.55e+04  -1.0 5.57e+01   2.4 2.01e-02 1.85e-03h  1\n",
      "  34  2.1263174e+02 6.83e-01 2.33e+15  -1.0 8.80e+02    -  3.82e-03 1.97e-03H  1\n",
      "  35  2.1262646e+02 6.83e-01 2.33e+15  -1.0 1.26e-01  16.3 9.90e-01 1.56e-02h  7\n",
      "  36  2.1262587e+02 6.83e-01 2.33e+15  -1.0 3.23e+09    -  5.53e-10 8.20e-12f  7\n",
      "  37  2.1262585e+02 6.83e-01 2.33e+15  -1.0 1.81e+07    -  6.84e-08 1.57e-10f 10\n",
      "  38  2.1262572e+02 6.83e-01 2.35e+15  -1.0 8.10e-04  18.5 1.00e+00 6.25e-02h  5\n",
      "  39  2.1262567e+02 6.83e-01 2.35e+15  -1.0 2.81e-04  18.9 1.00e+00 6.25e-02h  5\n",
      "iter    objective    inf_pr   inf_du lg(mu)  ||d||  lg(rg) alpha_du alpha_pr  ls\n",
      "  40  2.1262306e+02 6.83e-01 2.70e+15  -1.0 9.53e-04  18.5 1.00e+00 1.00e+00h  1\n",
      "  41  2.1262201e+02 6.83e-01 2.87e+15  -1.0 3.81e-04  18.9 1.00e+00 1.00e+00h  1\n",
      "  42  2.1261748e+02 6.83e-01 4.01e+15  -1.0 1.60e-03  18.4 1.00e+00 1.00e+00h  1\n",
      "  43  2.1261554e+02 6.83e-01 4.53e+15  -1.0 6.76e-04  18.8 1.00e+00 1.00e+00h  1\n",
      "  44  2.1260536e+02 6.83e-01 7.55e+15  -1.0 3.38e-03  18.3 1.00e+00 1.00e+00h  1\n",
      "  45  2.1260080e+02 6.83e-01 8.92e+15  -1.0 1.50e-03  18.8 1.00e+00 1.00e+00h  1\n",
      "  46  2.1257261e+02 6.83e-01 1.72e+16  -1.0 8.66e-03  18.3 1.00e+00 1.00e+00h  1\n",
      "  47  2.1255955e+02 6.83e-01 2.10e+16  -1.0 3.97e-03  18.7 1.00e+00 1.00e+00h  1\n",
      "  48  2.1254692e+02 6.83e-01 2.43e+16  -1.0 1.89e+12    -  3.37e-14 6.42e-14f  2\n",
      "  49  2.1254154e+02 6.83e-01 2.52e+16  -1.0 1.78e-03  19.1 1.00e+00 1.00e+00h  1\n",
      "iter    objective    inf_pr   inf_du lg(mu)  ||d||  lg(rg) alpha_du alpha_pr  ls\n",
      "  50  2.1252179e+02 6.83e-01 2.81e+16  -1.0 5.97e-03  18.7 1.00e+00 1.00e+00h  1\n",
      "  51r 2.1252179e+02 6.83e-01 1.00e+03  -0.2 0.00e+00    -  0.00e+00 3.03e-07R  3\n",
      "  52r 2.1192749e+02 6.75e-01 9.82e+02  -0.2 1.71e+01    -  2.08e-02 1.71e-02f  1\n",
      "  53r 2.1118780e+02 6.68e-01 9.61e+02  -0.2 2.74e+00    -  1.13e-01 2.11e-02f  1\n",
      "  54r 2.0763345e+02 6.44e-01 8.13e+02  -0.2 2.60e+00    -  4.54e-01 1.55e-01f  1\n",
      "  55r 2.0523767e+02 5.98e-01 5.92e+02  -0.2 3.48e+00    -  4.00e-01 2.71e-01f  1\n",
      "  56  2.0521316e+02 5.97e-01 4.81e+03  -1.0 1.07e+02    -  2.03e-02 2.44e-03h  1\n",
      "  57  2.0517828e+02 5.95e-01 2.30e+04  -1.0 1.28e+02    -  2.75e-02 3.86e-03h  1\n",
      "  58  2.0531100e+02 5.95e-01 1.33e+16  -1.0 1.02e+03    -  5.71e-04 3.51e-03h  1\n",
      "  59  2.0530517e+02 5.95e-01 1.33e+16  -1.0 8.47e-03  18.2 1.00e+00 2.50e-01h  3\n",
      "iter    objective    inf_pr   inf_du lg(mu)  ||d||  lg(rg) alpha_du alpha_pr  ls\n",
      "  60  2.0530408e+02 5.95e-01 1.33e+16  -1.0 2.54e-02  17.7 1.00e+00 1.56e-02h  7\n",
      "  61  2.0530326e+02 5.95e-01 1.33e+16  -1.0 7.63e-02  17.2 1.00e+00 3.91e-03h  9\n",
      "  62  2.0530310e+02 5.95e-01 1.33e+16  -1.0 2.30e-01  16.8 1.00e+00 2.44e-04h 13\n",
      "  63  2.0393781e+02 1.74e+00 1.38e+16  -1.0 7.12e-01  16.3 1.00e+00 1.00e+00f  1\n",
      "  64  2.0374209e+02 2.45e+00 1.49e+16  -1.0 3.55e+00  15.8 1.00e+00 1.25e-01h  4\n",
      "  65r 2.0374209e+02 2.45e+00 1.00e+03   0.4 0.00e+00    -  0.00e+00 4.02e-07R  7\n",
      "  66r 2.0463280e+02 5.88e-01 9.94e+02   0.4 1.10e+03    -  9.81e-03 2.21e-03f  1\n",
      "  67  2.0463183e+02 5.88e-01 4.70e+01  -1.0 2.04e+02    -  2.15e-03 8.27e-05h  2\n",
      "  68  2.0462443e+02 5.88e-01 1.80e+03  -1.0 2.19e+02    -  3.60e-03 6.97e-04h  3\n",
      "  69  2.0461831e+02 5.87e-01 4.18e+03  -1.0 3.11e+02    -  3.26e-03 7.64e-04h  3\n",
      "iter    objective    inf_pr   inf_du lg(mu)  ||d||  lg(rg) alpha_du alpha_pr  ls\n",
      "  70  2.0461666e+02 5.87e-01 4.18e+03  -1.0 4.78e+02    -  3.20e-03 3.78e-04h  4\n",
      "  71  2.0461666e+02 5.87e-01 1.94e+08  -1.0 9.02e-08  15.3 9.90e-01 1.00e+00h  1\n",
      "  72  2.0461666e+02 5.87e-01 3.88e+08  -1.0 5.41e-07  14.9 1.00e+00 1.00e+00h  1\n",
      "  73  2.0460750e+02 5.87e-01 8.43e+13  -1.0 1.02e+03    -  2.68e-04 1.83e-05f  5\n",
      "  74r 2.0460750e+02 5.87e-01 1.00e+03  -0.2 0.00e+00    -  0.00e+00 3.80e-07R  5\n",
      "  75r 2.0477186e+02 5.79e-01 9.97e+02  -0.2 1.07e+02    -  7.16e-03 1.72e-03f  1\n",
      "  76r 2.0448230e+02 5.52e-01 9.94e+02  -0.2 1.42e+01    -  6.77e-03 3.28e-03f  1\n",
      "  77r 2.0394669e+02 5.05e-01 9.86e+02  -0.2 7.52e+00    -  3.02e-03 8.82e-03f  1\n",
      "  78  2.0394511e+02 5.05e-01 2.26e+14  -1.0 7.81e+02    -  1.70e-03 3.71e-04h  3\n",
      "  79  2.0394512e+02 5.05e-01 2.41e+14  -1.0 3.84e+04    -  3.34e-05 2.60e-07h  8\n",
      "iter    objective    inf_pr   inf_du lg(mu)  ||d||  lg(rg) alpha_du alpha_pr  ls\n",
      "  80r 2.0394512e+02 5.05e-01 9.99e+02  -0.3 0.00e+00    -  0.00e+00 4.15e-07R  9\n",
      "  81r 2.0390918e+02 5.03e-01 9.97e+02  -0.3 3.78e+01    -  2.92e-03 2.22e-03f  1\n",
      "  82r 2.0373942e+02 4.90e-01 9.91e+02  -0.3 1.42e+01    -  4.27e-02 6.47e-03f  1\n",
      "  83r 2.0339774e+02 4.65e-01 9.49e+02  -0.3 2.72e+00    -  4.12e-01 4.11e-02f  1\n",
      "  84r 2.0291086e+02 4.30e-01 7.70e+02  -0.3 2.12e+00    -  8.82e-01 2.25e-01f  1\n",
      "  85  2.0290959e+02 4.30e-01 1.26e+14  -1.0 6.81e+04    -  2.53e-05 1.23e-05h  1\n",
      "  86  2.0290956e+02 4.30e-01 1.25e+14  -1.0 8.72e+07    -  2.27e-08 5.32e-11f  9\n",
      "  87  2.0290955e+02 4.30e-01 1.25e+14  -1.0 1.99e-06  19.8 9.90e-01 1.00e+00h  1\n",
      "  88  2.0290953e+02 4.30e-01 1.25e+14  -1.0 5.98e-06  19.3 1.00e+00 1.00e+00h  1\n",
      "  89  2.0290952e+02 4.30e-01 1.25e+14  -1.7 2.24e-06  19.7 1.00e+00 1.00e+00h  1\n",
      "iter    objective    inf_pr   inf_du lg(mu)  ||d||  lg(rg) alpha_du alpha_pr  ls\n",
      "  90  2.0290949e+02 4.30e-01 1.25e+14  -1.7 6.72e-06  19.3 1.00e+00 1.00e+00h  1\n",
      "  91  2.0290948e+02 4.30e-01 1.25e+14  -1.7 2.52e-06  19.7 1.00e+00 1.00e+00h  1\n",
      "  92  2.0290943e+02 4.30e-01 1.83e+14  -1.7 1.11e-05  19.2 1.00e+00 1.00e+00h  1\n",
      "  93  2.0290942e+02 4.30e-01 2.47e+14  -1.7 5.62e-06  19.6 1.00e+00 1.00e+00h  1\n",
      "  94  2.0290932e+02 4.30e-01 1.12e+15  -1.7 7.61e-05  19.2 1.00e+00 1.00e+00h  1\n",
      "  95  2.0290928e+02 4.30e-01 1.58e+15  -1.7 4.03e-05  19.6 1.00e+00 1.00e+00h  1\n",
      "  96  2.0290792e+02 4.30e-01 1.92e+16  -1.7 1.47e-03  19.1 1.00e+00 1.00e+00h  1\n",
      "  97  2.0290715e+02 4.30e-01 2.94e+16  -1.7 8.45e-04  19.5 1.00e+00 1.00e+00h  1\n",
      "  98  2.0290682e+02 4.30e-01 3.38e+16  -1.7 3.64e-04  20.0 1.00e+00 1.00e+00h  1\n",
      "  99  2.0290519e+02 4.30e-01 5.52e+16  -1.7 1.79e-03  19.5 1.00e+00 1.00e+00h  1\n",
      "iter    objective    inf_pr   inf_du lg(mu)  ||d||  lg(rg) alpha_du alpha_pr  ls\n",
      " 100  2.0290447e+02 4.30e-01 6.46e+16  -1.7 7.84e-04  19.9 1.00e+00 1.00e+00h  1\n",
      " 101  2.0290062e+02 4.30e-01 1.15e+17  -1.7 4.18e-03  19.4 1.00e+00 1.00e+00h  1\n",
      " 102  2.0289890e+02 4.30e-01 1.37e+17  -1.7 1.87e-03  19.9 1.00e+00 1.00e+00h  1\n",
      " 103  2.0288863e+02 4.30e-01 2.70e+17  -1.7 1.11e-02  19.4 1.00e+00 1.00e+00h  1\n",
      " 104  2.0288398e+02 4.30e-01 3.32e+17  -1.7 5.09e-03  19.8 1.00e+00 1.00e+00h  1\n",
      " 105  2.0285310e+02 4.30e-01 7.43e+17  -1.7 3.42e-02  19.3 1.00e+00 1.00e+00h  1\n",
      " 106  2.0283938e+02 4.30e-01 9.37e+17  -1.7 1.62e-02  19.8 1.00e+00 1.00e+00h  1\n",
      " 107  2.0274560e+02 9.70e-01 2.48e+18  -1.7 1.29e-01  19.3 1.00e+00 1.00e+00h  1\n",
      " 108  2.0271377e+02 1.25e+00 3.24e+18  -1.7 6.29e-02  19.7 1.00e+00 1.00e+00h  1\n",
      " 109  2.0266647e+02 2.51e+00 7.02e+18  -1.7 6.30e-01  19.2 1.00e+00 5.00e-01h  2\n",
      "iter    objective    inf_pr   inf_du lg(mu)  ||d||  lg(rg) alpha_du alpha_pr  ls\n",
      " 110r 2.0266647e+02 2.51e+00 1.00e+03   0.4 0.00e+00  19.7 0.00e+00 4.77e-07R 22\n",
      " 111r 2.0410482e+02 5.07e-01 9.97e+02   0.4 1.11e+03    -  1.25e-02 2.23e-03f  1\n",
      " 112r 2.0396384e+02 5.09e-01 9.90e+02   0.4 1.87e+01    -  7.79e-02 6.83e-03f  1\n",
      " 113r 2.0344097e+02 4.70e-01 9.50e+02   0.4 2.26e+01    -  3.35e-01 3.85e-02f  1\n",
      " 114  2.0377809e+02 4.70e-01 1.68e+16  -1.7 1.02e+03    -  1.37e-04 2.58e-03h  1\n",
      " 115r 2.0377809e+02 4.70e-01 9.99e+02  -0.3 0.00e+00    -  0.00e+00 3.76e-08R  2\n",
      " 116r 2.0372554e+02 4.64e-01 9.97e+02  -0.3 1.44e+02    -  1.04e-02 1.67e-03f  1\n",
      " 117r 2.0323515e+02 4.27e-01 9.86e+02  -0.3 4.56e+01    -  3.64e-02 1.12e-02f  1\n",
      " 118r 2.0322155e+02 4.19e-01 9.40e+02  -0.3 8.59e+00    -  1.02e-01 4.64e-02f  1\n",
      " 119  2.0301468e+02 3.99e-01 3.53e+05  -1.7 2.28e+01    -  5.27e-02 6.06e-02h  1\n",
      "iter    objective    inf_pr   inf_du lg(mu)  ||d||  lg(rg) alpha_du alpha_pr  ls\n",
      " 120  2.0293672e+02 3.99e-01 1.61e+15  -1.7 8.00e+01    -  1.57e-02 1.04e-02h  2\n",
      " 121r 2.0293672e+02 3.99e-01 9.99e+02  -0.4 0.00e+00    -  0.00e+00 7.46e-09R  2\n",
      " 122r 2.0291520e+02 3.95e-01 9.85e+02  -0.4 1.05e+01    -  7.90e-01 1.43e-02f  1\n",
      " 123r 2.0268711e+02 3.07e-01 4.11e+02  -0.4 2.25e+00    -  9.96e-01 8.39e-01f  1\n",
      " 124  2.0233096e+02 2.95e-01 2.89e+04  -1.7 1.47e+01    -  6.64e-02 6.08e-02h  1\n",
      " 125  2.0228189e+02 2.95e-01 1.34e+15  -1.7 1.32e+01    -  3.29e-02 1.74e-02h  3\n",
      " 126  2.0228171e+02 2.95e-01 1.34e+15  -1.7 8.79e-05  19.2 1.00e+00 1.00e+00h  1\n",
      " 127  2.0228158e+02 2.95e-01 1.34e+15  -1.7 2.64e-04  18.7 1.00e+00 2.50e-01h  3\n",
      " 128  2.0228148e+02 2.95e-01 1.34e+15  -1.7 7.91e-04  18.2 1.00e+00 6.25e-02h  5\n",
      " 129r 2.0228148e+02 2.95e-01 9.99e+02  -0.5 0.00e+00    -  0.00e+00 3.68e-09R  2\n",
      "iter    objective    inf_pr   inf_du lg(mu)  ||d||  lg(rg) alpha_du alpha_pr  ls\n",
      " 130r 2.0210253e+02 2.79e-01 8.62e+02  -0.5 2.50e+00    -  6.46e-01 1.37e-01f  1\n",
      " 131r 2.0132808e+02 2.04e-01 2.22e+02  -0.5 1.38e+00    -  1.00e+00 8.15e-01f  1\n",
      " 132r 2.0132808e+02 2.04e-01 9.99e+02  -0.7 0.00e+00    -  0.00e+00 2.70e-07R 19\n",
      " 133r 2.0122520e+02 1.64e-01 4.35e+02  -0.7 5.80e-01    -  1.00e+00 5.65e-01f  1\n",
      " 134  2.0119539e+02 1.63e-01 3.30e+02  -1.7 3.67e+00    -  2.34e-01 5.75e-03h  1\n",
      " 135  2.0111373e+02 1.63e-01 2.73e+12  -1.7 6.55e+00    -  6.48e-01 6.08e-02h  2\n",
      " 136  2.0111374e+02 1.63e-01 2.73e+12  -1.7 4.83e-06  17.8 1.00e+00 1.00e+00h  1\n",
      " 137  2.0111377e+02 1.63e-01 2.73e+12  -1.7 1.45e-05  17.3 1.00e+00 1.00e+00h  1\n",
      " 138  2.0111381e+02 1.63e-01 2.73e+12  -1.7 4.35e-05  16.8 1.00e+00 5.00e-01h  2\n",
      " 139  2.0111382e+02 1.63e-01 2.73e+12  -1.7 1.31e-04  16.3 1.00e+00 3.12e-02h  6\n",
      "iter    objective    inf_pr   inf_du lg(mu)  ||d||  lg(rg) alpha_du alpha_pr  ls\n",
      " 140r 2.0111382e+02 1.63e-01 1.00e+03  -0.8 0.00e+00  15.8 0.00e+00 4.77e-07R 22\n",
      " 141r 2.0001436e+02 1.44e-01 2.43e+02  -0.8 6.20e-01    -  7.56e-01 1.00e+00f  1\n",
      " 142  1.9984265e+02 1.42e-01 8.58e+03  -1.7 3.28e+00    -  3.53e-01 4.60e-02h  1\n",
      " 143  1.9944618e+02 1.36e-01 2.41e+05  -1.7 8.74e+00    -  4.24e-01 1.28e-01h  1\n",
      " 144  1.9944618e+02 1.36e-01 3.26e+07  -1.7 1.40e-08  15.4 1.00e+00 1.00e+00h  1\n",
      " 145  1.9944618e+02 1.36e-01 6.49e+07  -1.7 8.38e-08  14.9 1.00e+00 1.00e+00h  1\n",
      " 146  1.9944618e+02 1.36e-01 9.72e+07  -1.7 3.76e-07  14.4 1.00e+00 1.00e+00h  1\n",
      " 147  1.9944618e+02 1.36e-01 1.30e+08  -1.7 1.50e-06  13.9 1.00e+00 1.00e+00h  1\n",
      " 148  1.9944617e+02 1.36e-01 1.62e+08  -1.7 5.63e-06  13.5 1.00e+00 1.00e+00h  1\n",
      " 149  1.9944614e+02 1.36e-01 1.94e+08  -1.7 2.02e-05  13.0 1.00e+00 1.00e+00h  1\n",
      "iter    objective    inf_pr   inf_du lg(mu)  ||d||  lg(rg) alpha_du alpha_pr  ls\n",
      " 150r 1.9944614e+02 1.36e-01 1.00e+03  -0.9 0.00e+00    -  0.00e+00 1.36e-07R  2\n",
      " 151r 1.9938596e+02 1.41e-01 9.05e+02  -0.9 3.04e+00    -  1.00e+00 9.42e-02f  1\n",
      " 152r 1.9937276e+02 1.45e-01 7.51e+02  -0.9 6.35e-01    -  1.50e-01 1.71e-01f  1\n",
      " 153r 1.9976319e+02 1.38e-01 7.86e+01  -0.9 1.36e-01   0.0 8.28e-01 1.00e+00f  1\n",
      " 154r 1.9976316e+02 1.38e-01 1.11e+00  -0.9 5.18e-03   2.2 1.00e+00 1.00e+00f  1\n",
      " 155r 2.0002896e+02 1.41e-01 8.18e+01  -2.3 5.32e-01    -  8.76e-01 6.05e-01f  1\n",
      " 156r 2.0006296e+02 1.40e-01 1.15e+02  -2.3 1.13e-02   1.8 1.00e+00 8.37e-01f  1\n",
      " 157r 2.0012291e+02 1.39e-01 6.02e+01  -2.3 3.41e-02   1.3 1.00e+00 8.96e-01f  1\n",
      " 158r 2.0019603e+02 1.38e-01 1.19e+02  -2.3 6.85e-02   0.8 1.00e+00 6.53e-01f  1\n",
      " 159r 2.0020078e+02 1.35e-01 3.06e+02  -2.3 8.43e-02   0.3 1.00e+00 3.94e-01f  1\n",
      "iter    objective    inf_pr   inf_du lg(mu)  ||d||  lg(rg) alpha_du alpha_pr  ls\n",
      " 160r 2.0016204e+02 1.27e-01 5.80e+01  -2.3 1.80e-01  -0.2 1.00e+00 8.41e-01f  1\n",
      " 161r 2.0015652e+02 1.26e-01 8.03e+02  -2.3 1.64e+00    -  5.80e-01 3.77e-02f  1\n",
      " 162r 1.9994360e+02 1.15e-01 4.31e+00  -2.3 5.04e-02    -  1.00e+00 1.00e+00f  1\n",
      " 163  2.0001497e+02 1.79e-01 2.10e+12  -1.7 4.00e+00    -  9.42e-01 2.33e-02h  4\n",
      " 164  2.0001497e+02 1.79e-01 2.10e+12  -1.7 1.29e-03  15.2 9.90e-01 7.81e-03h  8\n",
      " 165  2.0001497e+02 1.79e-01 2.10e+12  -1.7 3.87e-03  14.7 1.00e+00 9.77e-04h 11\n",
      " 166r 2.0001497e+02 1.79e-01 1.00e+03  -0.7 0.00e+00  15.2 0.00e+00 4.77e-07R 22\n",
      " 167r 1.9879452e+02 2.19e-01 3.16e+02  -0.7 4.16e-01    -  6.83e-01 6.88e-01f  1\n",
      " 168r 1.9892999e+02 1.94e-01 4.38e+01  -0.7 1.66e-01    -  1.00e+00 1.00e+00f  1\n",
      " 169r 1.9944775e+02 1.17e-01 2.25e+01  -0.7 1.71e-01    -  1.00e+00 1.00e+00f  1\n",
      "iter    objective    inf_pr   inf_du lg(mu)  ||d||  lg(rg) alpha_du alpha_pr  ls\n",
      " 170  1.9945742e+02 1.16e-01 3.36e+13  -1.7 1.07e+03    -  3.20e-04 1.85e-03f  2\n",
      " 171  1.9944871e+02 1.16e-01 3.36e+13  -1.7 6.95e-02  14.7 1.00e+00 6.25e-02h  5\n",
      " 172  1.9944868e+02 1.16e-01 3.12e+14  -1.7 2.28e+03    -  2.96e-04 1.26e-05h  5\n",
      " 173r 1.9944868e+02 1.16e-01 9.99e+02  -0.9 0.00e+00  16.9 0.00e+00 4.77e-07R 22\n",
      " 174r 1.9948900e+02 1.17e-01 9.95e+02  -0.9 2.16e+01    -  2.59e-01 5.42e-03f  1\n",
      " 175r 1.9954569e+02 1.10e-01 7.40e+02  -0.9 7.50e+00    -  3.98e-01 2.55e-01f  1\n",
      " 176r 1.9957998e+02 1.07e-01 5.41e+02  -0.9 8.57e-01    -  1.80e-01 3.49e-01f  1\n",
      " 177r 1.9956143e+02 1.06e-01 4.45e+02  -0.9 1.09e+00    -  1.00e+00 5.25e-01f  1\n",
      " 178r 1.9953223e+02 1.06e-01 3.90e+01  -0.9 2.77e-01    -  1.00e+00 1.00e+00f  1\n",
      " 179r 1.9950839e+02 1.09e-01 1.50e+00  -0.9 5.73e-02    -  1.00e+00 1.00e+00f  1\n",
      "iter    objective    inf_pr   inf_du lg(mu)  ||d||  lg(rg) alpha_du alpha_pr  ls\n",
      " 180r 1.9984245e+02 1.08e-01 1.80e+01  -1.6 2.53e-01    -  1.00e+00 9.59e-01f  1\n",
      " 181r 1.9985018e+02 1.08e-01 8.74e+00  -1.6 1.44e-01    -  1.00e+00 1.00e+00f  1\n",
      " 182r 1.9984933e+02 1.08e-01 6.30e-02  -1.6 2.49e-02    -  1.00e+00 1.00e+00f  1\n",
      " 183r 1.9994205e+02 1.07e-01 1.74e+00  -3.7 1.40e-01    -  9.33e-01 9.54e-01f  1\n",
      " 184r 1.9994819e+02 1.07e-01 1.50e-01  -3.7 2.90e-03    -  1.00e+00 1.00e+00f  1\n",
      " 185r 1.9996126e+02 1.09e-01 8.09e-03  -3.7 4.65e-03    -  1.00e+00 1.00e+00f  1\n",
      " 186r 1.9997432e+02 1.11e-01 4.78e-02  -5.5 1.41e-02    -  9.91e-01 1.00e+00f  1\n",
      " 187r 1.9996188e+02 1.13e-01 6.76e-01  -5.5 3.67e-03    -  1.00e+00 1.00e+00f  1\n",
      " 188r 1.9996248e+02 1.13e-01 2.53e-02  -5.5 9.19e-04    -  1.00e+00 1.00e+00h  1\n",
      " 189r 1.9996247e+02 1.13e-01 3.47e-05  -5.5 9.64e-06    -  1.00e+00 1.00e+00h  1\n",
      "iter    objective    inf_pr   inf_du lg(mu)  ||d||  lg(rg) alpha_du alpha_pr  ls\n",
      " 190r 1.9997111e+02 1.14e-01 3.53e+01  -8.3 3.08e-03    -  9.86e-01 7.99e-01f  1\n",
      " 191r 1.9990215e+02 1.37e-01 1.12e+01  -8.3 7.54e-02    -  5.59e-01 5.98e-01f  1\n",
      " 192r 2.0000337e+02 1.17e-01 4.44e+01  -8.3 6.03e-02    -  7.28e-01 8.61e-01f  1\n",
      " 193r 1.9999428e+02 1.16e-01 8.80e+01  -8.3 2.19e-03    -  8.92e-01 7.25e-01f  1\n",
      " 194r 1.9998886e+02 1.15e-01 1.37e-02  -8.3 1.52e-03    -  1.00e+00 1.00e+00f  1\n",
      " 195r 1.9998867e+02 1.15e-01 2.26e-05  -8.3 9.37e-05    -  1.00e+00 1.00e+00h  1\n",
      "\n",
      "Number of Iterations....: 195\n",
      "\n",
      "                                   (scaled)                 (unscaled)\n",
      "Objective...............:   1.9998866774382918e+02    1.9998866774382918e+02\n",
      "Dual infeasibility......:   2.5492442714803945e+00    2.5492442714803945e+00\n",
      "Constraint violation....:   1.1507580702344322e-01    1.1507580702344322e-01\n",
      "Complementarity.........:   5.2480309263334528e-09    5.2480309263334528e-09\n",
      "Overall NLP error.......:   2.5492442714803945e+00    2.5492442714803945e+00\n",
      "\n",
      "\n",
      "Number of objective function evaluations             = 536\n",
      "Number of objective gradient evaluations             = 126\n",
      "Number of equality constraint evaluations            = 536\n",
      "Number of inequality constraint evaluations          = 536\n",
      "Number of equality constraint Jacobian evaluations   = 213\n",
      "Number of inequality constraint Jacobian evaluations = 213\n",
      "Number of Lagrangian Hessian evaluations             = 196\n",
      "Total CPU secs in IPOPT (w/o function evaluations)   =      0.927\n",
      "Total CPU secs in NLP function evaluations           =      0.224\n",
      "\n",
      "EXIT: Converged to a point of local infeasibility. Problem may be infeasible.\n",
      "      solver  :   t_proc      (avg)   t_wall      (avg)    n_eval\n",
      "       nlp_f  |   2.08ms (  3.88us)   2.07ms (  3.86us)       536\n",
      "       nlp_g  |  68.45ms (127.70us)  68.75ms (128.26us)       536\n",
      "    nlp_grad  | 226.00us (226.00us) 225.66us (225.66us)         1\n",
      "  nlp_grad_f  | 999.00us (  7.87us) 989.76us (  7.79us)       127\n",
      "  nlp_hess_l  |  56.67ms (314.85us)  56.75ms (315.26us)       180\n",
      "   nlp_jac_g  |  96.39ms (450.42us)  96.57ms (451.26us)       214\n",
      "       total  |   1.20 s (  1.20 s)   1.20 s (  1.20 s)         1\n"
     ]
    },
    {
     "ename": "RuntimeError",
     "evalue": "Error in Opti::solve [OptiNode] at .../casadi/core/optistack.cpp:159:\n.../casadi/core/optistack_internal.cpp:999: Assertion \"return_success(accept_limit)\" failed:\nSolver failed. You may use opti.debug.value to investigate the latest values of variables. return_status is 'Infeasible_Problem_Detected'",
     "output_type": "error",
     "traceback": [
      "\u001b[0;31m---------------------------------------------------------------------------\u001b[0m",
      "\u001b[0;31mRuntimeError\u001b[0m                              Traceback (most recent call last)",
      "Cell \u001b[0;32mIn [40], line 16\u001b[0m\n\u001b[1;32m     14\u001b[0m \u001b[38;5;66;03m# And choose a concrete value for p\u001b[39;00m\n\u001b[1;32m     15\u001b[0m opti\u001b[38;5;241m.\u001b[39mset_value(p, [\u001b[38;5;241m2.\u001b[39m,\u001b[38;5;241m0.\u001b[39m])\n\u001b[0;32m---> 16\u001b[0m sol \u001b[38;5;241m=\u001b[39m opti\u001b[38;5;241m.\u001b[39msolve()\n",
      "File \u001b[0;32m~/miniconda3/lib/python3.9/site-packages/casadi/casadi.py:27550\u001b[0m, in \u001b[0;36mOpti.solve\u001b[0;34m(self, *args)\u001b[0m\n\u001b[1;32m  27539\u001b[0m \u001b[39mdef\u001b[39;00m \u001b[39msolve\u001b[39m(\u001b[39mself\u001b[39m, \u001b[39m*\u001b[39margs) \u001b[39m-\u001b[39m\u001b[39m>\u001b[39m \u001b[39m\"\u001b[39m\u001b[39mcasadi::OptiSol\u001b[39m\u001b[39m\"\u001b[39m:\n\u001b[1;32m  27540\u001b[0m     \u001b[39m\"\"\"\u001b[39;00m\n\u001b[1;32m  27541\u001b[0m \u001b[39m    Crunch the numbers; solve the problem.\u001b[39;00m\n\u001b[1;32m  27542\u001b[0m \n\u001b[0;32m   (...)\u001b[0m\n\u001b[1;32m  27548\u001b[0m \n\u001b[1;32m  27549\u001b[0m \u001b[39m    \"\"\"\u001b[39;00m\n\u001b[0;32m> 27550\u001b[0m     \u001b[39mreturn\u001b[39;00m _casadi\u001b[39m.\u001b[39;49mOpti_solve(\u001b[39mself\u001b[39;49m, \u001b[39m*\u001b[39;49margs)\n",
      "\u001b[0;31mRuntimeError\u001b[0m: Error in Opti::solve [OptiNode] at .../casadi/core/optistack.cpp:159:\n.../casadi/core/optistack_internal.cpp:999: Assertion \"return_success(accept_limit)\" failed:\nSolver failed. You may use opti.debug.value to investigate the latest values of variables. return_status is 'Infeasible_Problem_Detected'"
     ]
    }
   ],
   "source": [
    "opts = {\n",
    "    # 'print_iteration' : False,\n",
    "    # 'print_time' : False,\n",
    "    'print_level' : 2\n",
    "        # 'print_iter' : False,\n",
    "        # 'print_header': False,\n",
    "        # 'print_info' : False\n",
    "}\n",
    "\n",
    "# p_opts = {\"expand\":False}\n",
    "# s_opts = {\"print_level\": 2}\n",
    "opti.solver('ipopt')#, p_opts, s_opts)\n",
    "\n",
    "# And choose a concrete value for p\n",
    "opti.set_value(p, [2.,0.])\n",
    "sol = opti.solve()"
   ]
  },
  {
   "cell_type": "code",
   "execution_count": 41,
   "id": "f6b4eb91",
   "metadata": {},
   "outputs": [
    {
     "data": {
      "text/plain": [
       "[<matplotlib.lines.Line2D at 0x7ffa7b45ea60>,\n",
       " <matplotlib.lines.Line2D at 0x7ffa7b45eac0>]"
      ]
     },
     "execution_count": 41,
     "metadata": {},
     "output_type": "execute_result"
    },
    {
     "data": {
      "image/png": "[encoded data removed]",
      "text/plain": [
       "<Figure size 640x480 with 1 Axes>"
      ]
     },
     "metadata": {},
     "output_type": "display_data"
    }
   ],
   "source": [
    "plt.plot(opti.debug.value(x).T)\n",
    "# plt.plot(opti.debug.value(u).T)"
   ]
  },
  {
   "cell_type": "code",
   "execution_count": 34,
   "id": "02d008f6",
   "metadata": {},
   "outputs": [
    {
     "ename": "NameError",
     "evalue": "name 'sol' is not defined",
     "output_type": "error",
     "traceback": [
      "\u001b[0;31m---------------------------------------------------------------------------\u001b[0m",
      "\u001b[0;31mNameError\u001b[0m                                 Traceback (most recent call last)",
      "Cell \u001b[0;32mIn [34], line 1\u001b[0m\n\u001b[0;32m----> 1\u001b[0m plt\u001b[38;5;241m.\u001b[39mplot(sol\u001b[38;5;241m.\u001b[39mvalue(x))\n",
      "\u001b[0;31mNameError\u001b[0m: name 'sol' is not defined"
     ]
    }
   ],
   "source": [
    "plt.plot(sol.value(x))\n",
    "# plt.plot(sol.value(u).T)"
   ]
  },
  {
   "cell_type": "code",
   "execution_count": 28,
   "id": "73c24161",
   "metadata": {},
   "outputs": [
    {
     "data": {
      "text/plain": [
       "{'iter_count': 3,\n",
       " 'iterations': {'alpha_du': [0.0, 0.0022499999948863638, 1.0, 1.0],\n",
       "  'alpha_pr': [0.0, 0.99000099000099, 0.99009900990099, 1.0],\n",
       "  'd_norm': [0.0, 116.89023100000001, 1.1687865885554778, 0.01157214444116363],\n",
       "  'inf_du': [1.0, 434.62043659043655, 11.036712264527978, 10.999972067264025],\n",
       "  'inf_pr': [10.0,\n",
       "   0.09999009999009978,\n",
       "   0.0009900009900007944,\n",
       "   1.4210854715202004e-14],\n",
       "  'mu': [0.1, 0.1, 0.1, 0.1],\n",
       "  'obj': [0.0, 0.0, 4.188810396619829e-62, 2.402898531058718e-34],\n",
       "  'regularization_size': [0.0, 0.0, 0.0, 0.0]},\n",
       " 'n_call_callback_fun': 0,\n",
       " 'n_call_nlp_f': 4,\n",
       " 'n_call_nlp_g': 4,\n",
       " 'n_call_nlp_grad': 1,\n",
       " 'n_call_nlp_grad_f': 5,\n",
       " 'n_call_nlp_hess_l': 3,\n",
       " 'n_call_nlp_jac_g': 5,\n",
       " 'n_call_total': 1,\n",
       " 'return_status': 'Solve_Succeeded',\n",
       " 'success': True,\n",
       " 't_proc_callback_fun': 0.0,\n",
       " 't_proc_nlp_f': 1.5e-05,\n",
       " 't_proc_nlp_g': 0.000698,\n",
       " 't_proc_nlp_grad': 0.000349,\n",
       " 't_proc_nlp_grad_f': 3.9e-05,\n",
       " 't_proc_nlp_hess_l': 0.001473,\n",
       " 't_proc_nlp_jac_g': 0.0037259999999999997,\n",
       " 't_proc_total': 0.030725,\n",
       " 't_wall_callback_fun': 0.0,\n",
       " 't_wall_nlp_f': 1.4062e-05,\n",
       " 't_wall_nlp_g': 0.000697734,\n",
       " 't_wall_nlp_grad': 0.00034834,\n",
       " 't_wall_nlp_grad_f': 3.7662e-05,\n",
       " 't_wall_nlp_hess_l': 0.001475329,\n",
       " 't_wall_nlp_jac_g': 0.003675155,\n",
       " 't_wall_total': 0.030039405,\n",
       " 'unified_return_status': 'SOLVER_RET_UNKNOWN'}"
      ]
     },
     "execution_count": 28,
     "metadata": {},
     "output_type": "execute_result"
    }
   ],
   "source": [
    "sol.stats()"
   ]
  },
  {
   "cell_type": "code",
   "execution_count": 3,
   "id": "8dba86ef",
   "metadata": {},
   "outputs": [],
   "source": [
    "def ineq_constr(x, args):\n",
    "    q = x[:,:2]\n",
    "    f = x[:,2:]\n",
    "    _phi_out = vmap(phi)(q)\n",
    "    return jnp.concatenate([-_phi_out, -f[:,0]])\n",
    "\n",
    "def eq_constr(x, args):\n",
    "    q = x[:,:2]\n",
    "    f = x[:,2:]\n",
    "    q0 = args['q0']\n",
    "    qf = args['qf']\n",
    "    _phi_out = vmap(phi)(q)\n",
    "    return jnp.concatenate([\n",
    "        (q[0] - q0).flatten(),\n",
    "        (q[1:,:]-vmap(hopper_model.f)(q[:-1,:], f[:-1,:])).flatten(),\n",
    "        (_phi_out*f[:,0]).flatten(),\n",
    "        (q[-1] - qf).flatten()\n",
    "    ])"
   ]
  },
  {
   "cell_type": "code",
   "execution_count": 4,
   "id": "9de76120",
   "metadata": {},
   "outputs": [],
   "source": [
    "args = {\n",
    "    'q0' : np.array([5.,0.]),\n",
    "    'qf' : np.array([10.,0.]) \n",
    "}\n",
    "\n",
    "def loss(x, args):\n",
    "    q, f = x[:,:2], x[:,2:]\n",
    "    return jnp.array(0.)#jnp.mean(f**2)\n"
   ]
  },
  {
   "cell_type": "code",
   "execution_count": 5,
   "id": "003bb31c",
   "metadata": {},
   "outputs": [
    {
     "name": "stderr",
     "output_type": "stream",
     "text": [
      "WARNING:absl:No GPU/TPU found, falling back to CPU. (Set TF_CPP_MIN_LOG_LEVEL=0 and rerun for more info.)\n"
     ]
    }
   ],
   "source": [
    "time_horizon = int(6/hopper_model._dt)\n",
    "# q = jnp.linspace(args['q0'], args['qf'], time_horizon, endpoint=True)\n",
    "q = jnp.zeros((time_horizon, 2))\n",
    "u = jnp.zeros((time_horizon, 1))\n",
    "x = jnp.concatenate([q, u], axis=1)"
   ]
  },
  {
   "cell_type": "code",
   "execution_count": 6,
   "id": "06c59e19",
   "metadata": {},
   "outputs": [],
   "source": [
    "opt_solver = AugmentedLagrangian(x, loss, eq_constr, ineq_constr, args=args, step_size=1e-3, c=1.0)"
   ]
  },
  {
   "cell_type": "code",
   "execution_count": 7,
   "id": "f2a20dee",
   "metadata": {},
   "outputs": [
    {
     "data": {
      "text/plain": [
       "False"
      ]
     },
     "execution_count": 7,
     "metadata": {},
     "output_type": "execute_result"
    }
   ],
   "source": [
    "opt_solver.solve(eps=1e-5)"
   ]
  },
  {
   "cell_type": "code",
   "execution_count": 8,
   "id": "c8f7b798",
   "metadata": {},
   "outputs": [],
   "source": [
    "sol = opt_solver.get_solution()"
   ]
  },
  {
   "cell_type": "code",
   "execution_count": 12,
   "id": "d905199c",
   "metadata": {},
   "outputs": [
    {
     "data": {
      "text/plain": [
       "[<matplotlib.lines.Line2D at 0x7f292c02fc10>]"
      ]
     },
     "execution_count": 12,
     "metadata": {},
     "output_type": "execute_result"
    },
    {
     "data": {
      "image/png": "[encoded data removed]",
      "text/plain": [
       "<Figure size 640x480 with 1 Axes>"
      ]
     },
     "metadata": {},
     "output_type": "display_data"
    }
   ],
   "source": [
    "plt.plot(sol['x'][:,0])"
   ]
  },
  {
   "cell_type": "code",
   "execution_count": 35,
   "id": "4f0ff73c",
   "metadata": {},
   "outputs": [
    {
     "data": {
      "text/plain": [
       "[<matplotlib.lines.Line2D at 0x7fc76810bfd0>]"
      ]
     },
     "execution_count": 35,
     "metadata": {},
     "output_type": "execute_result"
    },
    {
     "data": {
      "image/png": "[encoded data removed]",
      "text/plain": [
       "<Figure size 640x480 with 1 Axes>"
      ]
     },
     "metadata": {},
     "output_type": "display_data"
    }
   ],
   "source": [
    "plt.plot(eq_constr(sol['x'], args))"
   ]
  },
  {
   "cell_type": "code",
   "execution_count": 25,
   "id": "4b826d45",
   "metadata": {},
   "outputs": [
    {
     "data": {
      "text/plain": [
       "[<matplotlib.lines.Line2D at 0x7fc80b90b6a0>,\n",
       " <matplotlib.lines.Line2D at 0x7fc7683476a0>,\n",
       " <matplotlib.lines.Line2D at 0x7fc768347b20>]"
      ]
     },
     "execution_count": 25,
     "metadata": {},
     "output_type": "execute_result"
    },
    {
     "data": {
      "image/png": "[encoded data removed]",
      "text/plain": [
       "<Figure size 640x480 with 1 Axes>"
      ]
     },
     "metadata": {},
     "output_type": "display_data"
    }
   ],
   "source": [
    "plt.plot(sol['x'])"
   ]
  },
  {
   "cell_type": "code",
   "execution_count": null,
   "id": "cc413585",
   "metadata": {},
   "outputs": [],
   "source": []
  }
 ],
 "metadata": {
  "kernelspec": {
   "display_name": "Python 3.9.12 ('base')",
   "language": "python",
   "name": "python3"
  },
  "language_info": {
   "codemirror_mode": {
    "name": "ipython",
    "version": 3
   },
   "file_extension": ".py",
   "mimetype": "text/x-python",
   "name": "python",
   "nbconvert_exporter": "python",
   "pygments_lexer": "ipython3",
   "version": "3.9.12"
  },
  "vscode": {
   "interpreter": {
    "hash": "124f82865e6799d231a33f8c2a341184b91ec874be3ef3d3c175a1ae6d68a66e"
   }
  }
 },
 "nbformat": 4,
 "nbformat_minor": 5
}
