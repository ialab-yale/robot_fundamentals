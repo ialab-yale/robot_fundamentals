{
 "cells": [
  {
   "cell_type": "markdown",
   "id": "a6297dea-f1c8-4f1c-8135-271ac5c641db",
   "metadata": {},
   "source": [
    "# Inverse Kinematics and PID control\n",
    "In this homework assignemnt, you will be tasked with creating an IK solver and controlling a robot arm using PID control (specifically the Franka Panda 7DoF robot). We will be creating two versions of the controller, one that uses pure velocity control and another that using torque control with feedforward dynamics. "
   ]
  },
  {
   "cell_type": "markdown",
   "id": "ea15eb8d-c2b3-48d2-98a7-9279819d3fa9",
   "metadata": {},
   "source": [
    "### Import mujoco and numpy"
   ]
  },
  {
   "cell_type": "code",
   "execution_count": 1,
   "id": "8a242e6e-aa40-499d-8871-20c6b4a2fffd",
   "metadata": {},
   "outputs": [],
   "source": [
    "import mujoco\n",
    "import mujoco_viewer\n",
    "import numpy as np\n",
    "from numpy.linalg import inv, pinv\n",
    "import scipy as sp\n",
    "\n",
    "from utilts import rot_err, getSitePose, getSiteVel, getSiteJacobian\n",
    "from autograder import autograder\n",
    "from sim import Sim\n",
    "\n",
    "franka_sim = Sim(fname='./franka_emika_panda/scene_torque_actuators.xml')\n",
    "atlas_sim = Sim(fname='./atlas/atlas.xml', rand_rgba=True)\n"
   ]
  },
  {
   "cell_type": "code",
   "execution_count": 2,
   "id": "9b0bb9f5",
   "metadata": {},
   "outputs": [],
   "source": [
    "\n",
    "\n",
    "def getMassMatrix(model, data):\n",
    "    \"\"\"\n",
    "        This function takes in a mujoco model and data class and returns\n",
    "        the full system mass/inertia matrix \n",
    "        M(q) : nxn matrix where n = dim(q) <- note that for floating base system, this includes 6 dim base degree DoF\n",
    "    \"\"\"\n",
    "    mass_matrix = np.zeros((model.nv, model.nv))\n",
    "    mujoco.mj_fullM(model, mass_matrix, data.qM)\n",
    "    return mass_matrix\n",
    "\n",
    "def getBiasTerms(model, data):\n",
    "    \"\"\"\n",
    "        This function takes in a mujoco model and data class and returns\n",
    "        the dynamic bias terms e.g., friction, gravity, coriolis, etc. \n",
    "        b(q,qdot) : nx1 array\n",
    "    \"\"\"\n",
    "    return data.qfrc_bias\n",
    "\n",
    "def getOSMassMatrix(sys_mass_matrix, jac):\n",
    "    \"\"\"\n",
    "        This function takes in the mass matrix and a jacobian matrix and returns the operational space matrix M_x(q)\n",
    "    \"\"\"\n",
    "    return inv(jac@np.linalg.inv(sys_mass_matrix)@jac.T)\n",
    "\n",
    "def getJointSpaceMassMatrix(sys_mass_matrix, selection_matrix):\n",
    "    return inv(\n",
    "                selection_matrix @ inv(sys_mass_matrix) @ selection_matrix.T\n",
    "            )\n",
    "\n",
    "def getSelectionMatrix(model):\n",
    "    Sq = np.concatenate([\n",
    "        np.zeros((model.nv-6, 6)),\n",
    "        np.eye(model.nv-6)\n",
    "    ], axis=1)\n",
    "    return Sq\n",
    "\n",
    "def getDynConsSelectionMatrix(model, data):\n",
    "    sys_mass = getMassMatrix(model, data)\n",
    "    Sq       = getSelectionMatrix(model)\n",
    "    M        = getJointSpaceMassMatrix(sys_mass, Sq)\n",
    "    return inv(sys_mass) @ Sq.T @ M \n",
    "\n",
    "def getGeneralizedJacobian(model, data):\n",
    "    jac_sys = getSiteJacobian(model, data, \"l_hand_site\") \n",
    "    Sbarq = getDynConsSelectionMatrix(model, data)\n",
    "    J = jac_sys @ Sbarq\n",
    "    return J \n",
    "\n",
    "def freebaseOSMatrix(model, data):\n",
    "    mass_matrix = getMassMatrix(model, data)\n",
    "    Abb = mass_matrix[0:6,0:6]\n",
    "    Abr = mass_matrix[0:6,6:]\n",
    "    Arb = mass_matrix[6:,0:6]\n",
    "    Arr = mass_matrix[6:,6:]\n",
    "    J_full = getSiteJacobian(model, data, \"l_hand_site\")\n",
    "    Sq_bar = np.vstack((np.linalg.inv(-1*Abb)@Abr, np.eye(model.nv-6)))\n",
    "    J = J_full@Sq_bar\n",
    "    A = Arr - Arb@inv(Abb)@Abr\n",
    "    lam = inv(J@inv(A)@J.T)\n",
    "    Jbar = inv(A) @ J.T @ lam \n",
    "    b_sys = getBiasTerms(model, data)\n",
    "    b = (Jbar).T @ (b_sys[6:] - Arb @ inv(Abb) @ b_sys[:6])\n",
    "    N = np.eye(model.nv-6) - Jbar @ J\n",
    "    return lam, J, b, N\n",
    "\n",
    "def ctrl(model, data):\n",
    "    kp = 350.\n",
    "    kd = 50.\n",
    "    lam, J, b, N = freebaseOSMatrix(model, data)\n",
    "    (R_des, p_des) = getSitePose(model, data, \"target_site\")\n",
    "    (R_arm, p_arm) = getSitePose(model, data, \"l_hand_site\")\n",
    "    err_p = p_des - p_arm\n",
    "    err_rot = 0*rot_err(R_des, R_arm)\n",
    "    err = np.concatenate([err_p, err_rot])\n",
    "    # err_dot = np.concatenate([pos_vel, ori_vel])\n",
    "    xddot_des = kp * err\n",
    "\n",
    "    tau = J.T @ (lam @ xddot_des + b) - kd * data.qvel[6:]\n",
    "    return tau\n",
    "# def getNullSpaceMatrix():\n",
    "#     return NULL\n"
   ]
  },
  {
   "cell_type": "code",
   "execution_count": 3,
   "id": "c5128277",
   "metadata": {},
   "outputs": [],
   "source": [
    "def osc(model, data):\n",
    "    # PD control parameters\n",
    "    kp = 350.\n",
    "    kd = 50.\n",
    "    # simulate and render\n",
    "    ee_pose     = getSitePose(model, data, \"ee_site\")\n",
    "    site_pose   = getSitePose(model, data, \"target_site\")\n",
    "    jac         = getSiteJacobian(model, data, \"ee_site\")\n",
    "    # dq          = calcIKStep(jac, site_pose, ee_pose)\n",
    "    err_p = site_pose[1] - ee_pose[1]\n",
    "    err_rot = rot_err(site_pose[0], ee_pose[0])\n",
    "    # ori_vel, pos_vel = getSiteVel(model, data, \"ee_site\")\n",
    "\n",
    "    err = np.concatenate([err_p, err_rot])\n",
    "    # err_dot = np.concatenate([pos_vel, ori_vel])\n",
    "    err_dot = jac@data.qvel\n",
    "    xddot_des = kp * err + kd *(-err_dot)\n",
    "    mass_matrix = getMassMatrix(model, data)\n",
    "    bias        = getBiasTerms(model, data)\n",
    "    op_mass_matrix = getOSMassMatrix(mass_matrix, jac)\n",
    "    tau = jac.T @ op_mass_matrix@ xddot_des + bias\n",
    "    return tau"
   ]
  },
  {
   "cell_type": "code",
   "execution_count": 4,
   "id": "17fc99df",
   "metadata": {},
   "outputs": [],
   "source": [
    "def simulateCtrl(sim, ctrl_method, render=True, t_max=1000):\n",
    "    if len(sim.model.key_qpos) != 0:\n",
    "        sim.data.qpos = sim.model.key_qpos\n",
    "    mujoco.mj_step(sim.model, sim.data)\n",
    "    log = []\n",
    "    if render:\n",
    "        viewer = mujoco_viewer.MujocoViewer(sim.model, sim.data)\n",
    "        viewer.vopt.frame = 3\n",
    "    for t in range(t_max):\n",
    "        u = ctrl_method(sim.model, sim.data)\n",
    "        sim.data.ctrl = u \n",
    "        mujoco.mj_step(sim.model, sim.data)\n",
    "        if render:\n",
    "            if viewer.is_alive:\n",
    "                viewer.render()\n",
    "    if render:\n",
    "        viewer.close()"
   ]
  },
  {
   "cell_type": "code",
   "execution_count": 5,
   "id": "c3223bc8",
   "metadata": {},
   "outputs": [],
   "source": [
    "simulateCtrl(atlas_sim, ctrl)"
   ]
  },
  {
   "cell_type": "code",
   "execution_count": 5,
   "id": "ec1bf8de",
   "metadata": {},
   "outputs": [
    {
     "name": "stderr",
     "output_type": "stream",
     "text": [
      "/home/anon/miniconda3/envs/meng443arm/lib/python3.10/site-packages/glfw/__init__.py:906: GLFWError: (65544) b'Wayland: Standard cursor shape unavailable'\n",
      "  warnings.warn(message, GLFWError)\n"
     ]
    },
    {
     "name": "stdout",
     "output_type": "stream",
     "text": [
      "Pressed ESC\n",
      "Quitting.\n"
     ]
    }
   ],
   "source": [
    "simulateCtrl(franka_sim, osc)"
   ]
  }
 ],
 "metadata": {
  "kernelspec": {
   "display_name": "Python 3.10.6 ('meng443arm')",
   "language": "python",
   "name": "python3"
  },
  "language_info": {
   "codemirror_mode": {
    "name": "ipython",
    "version": 3
   },
   "file_extension": ".py",
   "mimetype": "text/x-python",
   "name": "python",
   "nbconvert_exporter": "python",
   "pygments_lexer": "ipython3",
   "version": "3.10.6"
  },
  "vscode": {
   "interpreter": {
    "hash": "8a4c8fcd1d64603278e49ea51704004ebbaed6d078e5ae6c40f7c8af5a01823a"
   }
  }
 },
 "nbformat": 4,
 "nbformat_minor": 5
}
