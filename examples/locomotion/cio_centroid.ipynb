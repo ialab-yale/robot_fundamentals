{
 "cells": [
  {
   "cell_type": "markdown",
   "id": "ea15eb8d-c2b3-48d2-98a7-9279819d3fa9",
   "metadata": {},
   "source": [
    "### Import mujoco and numpy"
   ]
  },
  {
   "cell_type": "code",
   "execution_count": 1,
   "id": "8a242e6e-aa40-499d-8871-20c6b4a2fffd",
   "metadata": {},
   "outputs": [],
   "source": [
    "import casadi as ca\n",
    "import numpy as np\n",
    "import matplotlib.pyplot as plt\n"
   ]
  },
  {
   "cell_type": "code",
   "execution_count": 184,
   "id": "4fdc367f",
   "metadata": {},
   "outputs": [],
   "source": [
    "class CentroidModel(object):\n",
    "    def __init__(self, dt=0.1) -> None:\n",
    "        self.dt = dt\n",
    "        self.m  = 1.0\n",
    "        self.J  = np.diag([1.0,1.0,1.0])\n",
    "        self.Jinv = np.linalg.inv(self.J)\n",
    "        self.g = np.array([0,0,-9.81])\n",
    "\n",
    "    def dfdt(self, x, u, c):\n",
    "        Rt1 = x[:9].reshape((3,3))\n",
    "        pt1 = x[9:12]\n",
    "        wt1 = x[12:15]\n",
    "        vt1 = x[15:]\n",
    "        F1   = u\n",
    "        tau = ca.cross(pt1-x, F)\n",
    "        Rdot = Rt1 @ ca.skew(wt1)\n",
    "        pdot = Rt1 @ vt1\n",
    "        wdot = self.Jinv@(tau - ca.cross(wt1, self.J@wt1))\n",
    "        vdot = F/self.m + self.g\n",
    "        return ca.vertcat(Rdot[:], pdot, wdot, vdot)\n",
    "\n",
    "    def f(self, x, u):\n",
    "        # euler step\n",
    "        return x + self._dt * self.dfdt(x, u)\n",
    "\n",
    "hopper_model = HopperDynamics()\n",
    "tf = 2\n",
    "N = int(tf/hopper_model._dt)\n",
    "def loss(x, u):\n",
    "    J = 0.0\n",
    "    for t in range(N):\n",
    "        # xd = np.maximum(2.0, 2*np.sin(hopper_model._dt*t*2*np.pi)+2.0)\n",
    "        xd=1.0\n",
    "        # vd = 2*np.cos(hopper_model._dt*t*2*np.pi*2)*2*np.pi*2\n",
    "        J = J + (x[0,t]-xd)**2 #+ 10*(x[1,t]-vd)**2\n",
    "    J = J + (x[0,-1]-xd)**2\n",
    "    return J/float(N)\n",
    "# ca.sumsqr(u) + \n",
    "def phi(x, u):\n",
    "    return x[0]-u[1]"
   ]
  },
  {
   "cell_type": "code",
   "execution_count": 185,
   "id": "2f051c23",
   "metadata": {},
   "outputs": [
    {
     "data": {
      "text/plain": [
       "[<matplotlib.lines.Line2D at 0x15e730a30>]"
      ]
     },
     "execution_count": 185,
     "metadata": {},
     "output_type": "execute_result"
    },
    {
     "data": {
      "image/png": "[encoded data removed]",
      "text/plain": [
       "<Figure size 432x288 with 1 Axes>"
      ]
     },
     "metadata": {
      "needs_background": "light"
     },
     "output_type": "display_data"
    }
   ],
   "source": [
    "t = np.linspace(0,2)\n",
    "plt.plot(t, np.sin(t * 2 * np.pi)+2)"
   ]
  },
  {
   "cell_type": "code",
   "execution_count": 196,
   "id": "0ea37bc7",
   "metadata": {},
   "outputs": [],
   "source": [
    "opti = ca.Opti()\n",
    "\n",
    "x  = opti.variable(2, N+1) # Decision variables for state trajetcory\n",
    "u  = opti.variable(2, N)\n",
    "p  = opti.parameter(2, 1)  # initial cond Parameter (not optimized over)\n",
    "pf = opti.parameter(2,1)\n",
    "opti.minimize(loss(x,u))\n",
    "\n",
    "for k in range(N):\n",
    "  opti.subject_to(x[:,k+1]==hopper_model.f(x[:,k],u[:,k]))\n",
    "  # opti.subject_to(hopper_model.manip_eq(x[:,k+1],x[:,k],u[:,k])==0)\n",
    "  opti.subject_to(phi(x[:,k], u[:,k])>=0)\n",
    "  opti.subject_to(phi(x[:,k], u[:,k])*u[0,k]<=0.1)\n",
    "  opti.subject_to(u[0,k]>=0)\n",
    "  opti.subject_to(opti.bounded(-2,u[1,k],2))\n",
    "  # opti.subject_to(u[1,k]<=0)\n",
    "\n",
    "# opti.subject_to(opti.bounded(-1,u[1,:],1))\n",
    "opti.subject_to(x[:,0]==p) #np.array([2.,0.]))\n",
    "# opti.subject_to(u>=0)\n",
    "# opti.subject_to(x[:,-1]==pf) #np.array([10.,0.]))\n"
   ]
  },
  {
   "cell_type": "code",
   "execution_count": 197,
   "id": "8693f38e",
   "metadata": {},
   "outputs": [
    {
     "name": "stdout",
     "output_type": "stream",
     "text": [
      "This is Ipopt version 3.14.5, running with linear solver MUMPS 5.2.1.\n",
      "\n",
      "Number of nonzeros in equality constraint Jacobian...:      122\n",
      "Number of nonzeros in inequality constraint Jacobian.:      140\n",
      "Number of nonzeros in Lagrangian Hessian.............:       61\n",
      "\n",
      "Total number of variables............................:       82\n",
      "                     variables with only lower bounds:        0\n",
      "                variables with lower and upper bounds:        0\n",
      "                     variables with only upper bounds:        0\n",
      "Total number of equality constraints.................:       42\n",
      "Total number of inequality constraints...............:       80\n",
      "        inequality constraints with only lower bounds:       40\n",
      "   inequality constraints with lower and upper bounds:       20\n",
      "        inequality constraints with only upper bounds:       20\n",
      "\n",
      "iter    objective    inf_pr   inf_du lg(mu)  ||d||  lg(rg) alpha_du alpha_pr  ls\n",
      "   0  1.0500000e+00 2.00e+00 5.78e-01  -1.0 0.00e+00    -  0.00e+00 0.00e+00   0\n",
      "   1  1.4834002e+00 5.63e-01 4.45e+00  -1.0 7.75e+00    -  1.31e-01 7.19e-01f  1\n",
      "   2  1.4841800e+00 2.79e-01 2.43e+00  -1.0 7.73e-01   0.0 7.60e-01 5.03e-01h  1\n",
      "   3  1.5376320e+00 8.88e-16 1.75e+00  -1.0 4.48e-01   0.4 1.00e+00 1.00e+00h  1\n",
      "   4  1.4923599e+00 8.88e-16 1.24e+00  -1.0 5.99e-01  -0.1 5.30e-01 5.92e-01f  1\n",
      "   5  1.3069728e+00 4.54e-03 6.25e-01  -1.0 2.30e-01  -0.5 1.00e+00 1.00e+00f  1\n",
      "   6  9.7082486e-01 8.88e-16 1.50e+00  -1.7 4.64e-01  -1.0 7.43e-01 1.00e+00f  1\n",
      "   7  2.0071498e-01 4.44e-16 2.85e-01  -1.7 2.56e+00    -  7.66e-01 1.00e+00f  1\n",
      "   8  1.9804142e-01 4.44e-16 5.33e-02  -1.7 1.78e-01  -1.5 1.00e+00 1.00e+00h  1\n",
      "   9  1.8898764e-01 4.44e-16 1.84e-01  -2.5 2.65e-01  -2.0 6.16e-01 1.00e+00h  1\n",
      "iter    objective    inf_pr   inf_du lg(mu)  ||d||  lg(rg) alpha_du alpha_pr  ls\n",
      "  10  1.8205952e-01 4.44e-16 4.37e-02  -2.5 4.15e-01    -  7.87e-01 1.00e+00h  1\n",
      "  11  1.7970254e-01 4.44e-16 4.09e-03  -2.5 2.81e-01  -2.4 1.00e+00 1.00e+00h  1\n",
      "  12  1.7756695e-01 4.44e-16 5.12e-02  -3.8 3.81e-01  -2.9 6.49e-01 1.00e+00h  1\n",
      "  13  1.7580166e-01 4.44e-16 7.70e-03  -3.8 8.29e-01    -  8.41e-01 1.00e+00h  1\n",
      "  14  1.7487354e-01 5.55e-16 3.52e-03  -3.8 1.01e+00    -  1.00e+00 1.00e+00h  1\n",
      "  15  1.7476802e-01 4.44e-16 1.39e-04  -3.8 2.14e-01  -3.4 1.00e+00 1.00e+00h  1\n",
      "  16  1.7471257e-01 4.44e-16 5.59e-04  -3.8 2.18e+00  -3.9 1.61e-01 6.79e-02h  2\n",
      "  17  1.7460863e-01 4.44e-16 4.87e-03  -3.8 2.14e+00  -4.3 7.69e-01 1.60e-01h  2\n",
      "  18  1.7451555e-01 4.44e-16 5.25e-04  -3.8 3.65e-01  -3.9 1.00e+00 1.00e+00h  1\n",
      "  19  1.7445234e-01 4.44e-16 5.36e-04  -3.8 6.54e-01    -  1.00e+00 1.00e+00h  1\n",
      "iter    objective    inf_pr   inf_du lg(mu)  ||d||  lg(rg) alpha_du alpha_pr  ls\n",
      "  20  1.7444557e-01 4.44e-16 1.50e-04  -3.8 7.54e-01    -  1.00e+00 1.00e+00H  1\n",
      "  21  1.7444697e-01 4.44e-16 2.24e-05  -3.8 5.12e-02    -  1.00e+00 1.00e+00h  1\n",
      "  22  1.7421519e-01 2.78e-16 3.05e-03  -5.7 2.30e-01    -  7.70e-01 1.00e+00h  1\n",
      "  23  1.7413070e-01 4.44e-16 4.15e-04  -5.7 2.08e-01    -  8.72e-01 1.00e+00h  1\n",
      "  24  1.7410492e-01 4.44e-16 3.44e-04  -5.7 1.66e+00  -4.4 1.72e-01 2.41e-01h  1\n",
      "  25  1.7406070e-01 5.55e-16 2.18e-03  -5.7 5.94e-01    -  1.26e-01 1.00e+00h  1\n",
      "  26  1.7406010e-01 2.78e-16 1.68e-05  -5.7 1.96e-02  -3.1 1.00e+00 1.00e+00h  1\n",
      "  27  1.7405265e-01 4.44e-16 2.82e-05  -8.6 1.16e-01    -  8.35e-01 1.00e+00h  1\n",
      "  28  1.7405236e-01 7.22e-16 1.50e-07  -8.6 1.91e-02    -  9.95e-01 1.00e+00h  1\n",
      "  29  1.7405236e-01 4.44e-16 3.16e-10  -8.6 3.21e-01    -  1.00e+00 1.00e+00h  1\n",
      "\n",
      "Number of Iterations....: 29\n",
      "\n",
      "                                   (scaled)                 (unscaled)\n",
      "Objective...............:   1.7405236245483152e-01    1.7405236245483152e-01\n",
      "Dual infeasibility......:   3.1600620999604721e-10    3.1600620999604721e-10\n",
      "Constraint violation....:   4.4408920985006262e-16    4.4408920985006262e-16\n",
      "Variable bound violation:   0.0000000000000000e+00    0.0000000000000000e+00\n",
      "Complementarity.........:   2.8631652524343275e-09    2.8631652524343275e-09\n",
      "Overall NLP error.......:   2.8631652524343275e-09    2.8631652524343275e-09\n",
      "\n",
      "\n",
      "Number of objective function evaluations             = 39\n",
      "Number of objective gradient evaluations             = 30\n",
      "Number of equality constraint evaluations            = 39\n",
      "Number of inequality constraint evaluations          = 39\n",
      "Number of equality constraint Jacobian evaluations   = 30\n",
      "Number of inequality constraint Jacobian evaluations = 30\n",
      "Number of Lagrangian Hessian evaluations             = 29\n",
      "Total seconds in IPOPT                               = 0.023\n",
      "\n",
      "EXIT: Optimal Solution Found.\n",
      "      solver  :   t_proc      (avg)   t_wall      (avg)    n_eval\n",
      "       nlp_f  |  33.00us (846.15ns)  30.96us (793.74ns)        39\n",
      "       nlp_g  | 102.00us (  2.62us)  65.50us (  1.68us)        39\n",
      "    nlp_grad  |  11.00us ( 11.00us)   6.79us (  6.79us)         1\n",
      "  nlp_grad_f  |  32.00us (  1.03us)  33.00us (  1.06us)        31\n",
      "  nlp_hess_l  |  27.00us (931.03ns)  26.00us (896.59ns)        29\n",
      "   nlp_jac_g  |  64.00us (  2.06us)  56.75us (  1.83us)        31\n",
      "       total  |  24.07ms ( 24.07ms)  23.28ms ( 23.28ms)         1\n"
     ]
    }
   ],
   "source": [
    "p_opts = {\"expand\": True}\n",
    "s_opts = {\"max_iter\": 500, \"acceptable_tol\": 1e-3, \"acceptable_obj_change_tol\":1e-7, \"tol\":1e-8, \"slack_bound_push\": 0.1, \"slack_bound_frac\":0.5}\n",
    "opti.solver('ipopt', p_opts, s_opts)\n",
    "\n",
    "# And choose a concrete value for p\n",
    "opti.set_value(p, [2.,0.])\n",
    "# opti.set_value(pf, [1.1 ,0.])\n",
    "sol = opti.solve()"
   ]
  },
  {
   "cell_type": "code",
   "execution_count": 198,
   "id": "2c07529e",
   "metadata": {},
   "outputs": [],
   "source": [
    "(x,u) = (sol.value(x).T, sol.value(u).T)"
   ]
  },
  {
   "cell_type": "code",
   "execution_count": 199,
   "id": "b4bc9193",
   "metadata": {},
   "outputs": [],
   "source": [
    "con1 = []\n",
    "for xi, ui in zip(x,u):\n",
    "    con1.append(phi(xi, ui)*ui[0])"
   ]
  },
  {
   "cell_type": "code",
   "execution_count": 200,
   "id": "f6b4eb91",
   "metadata": {},
   "outputs": [
    {
     "data": {
      "text/plain": [
       "[<matplotlib.lines.Line2D at 0x15f149bb0>,\n",
       " <matplotlib.lines.Line2D at 0x15f149be0>]"
      ]
     },
     "execution_count": 200,
     "metadata": {},
     "output_type": "execute_result"
    },
    {
     "data": {
      "image/png": "[encoded data removed]",
      "text/plain": [
       "<Figure size 432x288 with 1 Axes>"
      ]
     },
     "metadata": {
      "needs_background": "light"
     },
     "output_type": "display_data"
    }
   ],
   "source": [
    "# plt.plot(opti.debug.value(x).T)\n",
    "# plt.plot(opti.debug.value(u).T)\n",
    "\n",
    "plt.plot(x)\n",
    "# plt.plot(t/hopper_model._dt, 2*np.sin(t * 2*2 * np.pi)+2)\n",
    "plt.plot(u)"
   ]
  },
  {
   "cell_type": "code",
   "execution_count": 191,
   "id": "c5e34b91",
   "metadata": {},
   "outputs": [
    {
     "data": {
      "text/plain": [
       "[<matplotlib.lines.Line2D at 0x15f019100>]"
      ]
     },
     "execution_count": 191,
     "metadata": {},
     "output_type": "execute_result"
    },
    {
     "data": {
      "image/png": "[encoded data removed]",
      "text/plain": [
       "<Figure size 432x288 with 1 Axes>"
      ]
     },
     "metadata": {
      "needs_background": "light"
     },
     "output_type": "display_data"
    }
   ],
   "source": [
    "plt.plot(con1)"
   ]
  },
  {
   "cell_type": "code",
   "execution_count": null,
   "id": "ccabe2bc",
   "metadata": {},
   "outputs": [],
   "source": []
  }
 ],
 "metadata": {
  "kernelspec": {
   "display_name": "Python 3.9.10 ('base')",
   "language": "python",
   "name": "python3"
  },
  "language_info": {
   "codemirror_mode": {
    "name": "ipython",
    "version": 3
   },
   "file_extension": ".py",
   "mimetype": "text/x-python",
   "name": "python",
   "nbconvert_exporter": "python",
   "pygments_lexer": "ipython3",
   "version": "3.9.10"
  },
  "vscode": {
   "interpreter": {
    "hash": "798b538306534186ead633776371254f522515bdb811fa2fd0b251c0d7733175"
   }
  }
 },
 "nbformat": 4,
 "nbformat_minor": 5
}
