{
 "cells": [
  {
   "cell_type": "markdown",
   "id": "a6297dea-f1c8-4f1c-8135-271ac5c641db",
   "metadata": {},
   "source": [
    "# Inverse Kinematics and PID control\n",
    "In this homework assignemnt, you will be tasked with creating an IK solver and controlling a robot arm using PID control (specifically the Franka Panda 7DoF robot). We will be creating two versions of the controller, one that uses pure velocity control and another that using torque control with feedforward dynamics. "
   ]
  },
  {
   "cell_type": "markdown",
   "id": "ea15eb8d-c2b3-48d2-98a7-9279819d3fa9",
   "metadata": {},
   "source": [
    "### Import mujoco and numpy"
   ]
  },
  {
   "cell_type": "code",
   "execution_count": 1,
   "id": "8a242e6e-aa40-499d-8871-20c6b4a2fffd",
   "metadata": {},
   "outputs": [],
   "source": [
    "import mujoco\n",
    "import mujoco_viewer\n",
    "import numpy as np\n",
    "from numpy.linalg import inv, pinv\n",
    "import scipy as sp\n",
    "\n",
    "from utils import rot_err, getSitePose, getSiteVel, getSiteJacobian, getMassMatrix, getBiasTerms, getOSMassMatrix\n",
    "from autograder import autograder\n",
    "from sim import Sim\n",
    "\n",
    "sim = Sim(fname='./a1/xml/a1.xml')"
   ]
  },
  {
   "cell_type": "code",
   "execution_count": null,
   "id": "8dba86ef",
   "metadata": {},
   "outputs": [],
   "source": [
    "\n",
    "class OperationalSpaceControl(object):\n",
    "    def __init__(self, model, data) -> None:\n",
    "        self._model = model\n",
    "        self._data  = data \n",
    "        self._foot_site_names = [\n",
    "            \"FR_foot\", \"FL_foot\", \"RR_foot\", \"RL_foot\"\n",
    "        ]\n",
    "        self._kp = 100.\n",
    "        self._kd = 20.\n",
    "\n",
    "    def __call__(self, ref_foot_pos):\n",
    "        mass_matrix = getMassMatrix(self._model, self._data)\n",
    "        bias        = getBiasTerms(self._model, self._data)\n",
    "        tau = bias \n",
    "\n",
    "        for _foot_name in self._foot_site_names:\n",
    "            (R_f, p_f) = getSitePose(self._model, self._data, _foot_name)\n",
    "            jac_f      = getSiteJacobian(self._model, self._data, _foot_name)\n",
    "            v_f        = jac_f @ self._data.qvel\n",
    "            (R_d, p_d) = ref_foot_pos[_foot_name]\n",
    "\n",
    "            err_p   = p_d - p_f\n",
    "            err_rot = rot_err(R_d, R_f)\n",
    "            err     = np.concatenate([err_p, err_rot])\n",
    "\n",
    "            ### calculate the xddot_des in operational space \n",
    "            xddot_des = self._kp * err + self._kd *(-v_f)\n",
    "\n",
    "            ### calculate the operational space mass matrix \n",
    "            op_mass_matrix = getOSMassMatrix(mass_matrix, jac_f)\n",
    "\n",
    "            tau += jac_f.T @ op_mass_matrix @ xddot_des\n",
    "\n",
    "        return tau\n",
    "        "
   ]
  },
  {
   "cell_type": "code",
   "execution_count": 2,
   "id": "06c59e19",
   "metadata": {},
   "outputs": [
    {
     "name": "stdout",
     "output_type": "stream",
     "text": [
      "Pressed ESC\n",
      "Quitting.\n"
     ]
    }
   ],
   "source": [
    "t_max = 10000\n",
    "render = True\n",
    "if len(sim.model.key_qpos) != 0:\n",
    "    sim.data.qpos = sim.model.key_qpos\n",
    "mujoco.mj_step(sim.model, sim.data)\n",
    "log = []\n",
    "if render:\n",
    "    viewer = mujoco_viewer.MujocoViewer(sim.model, sim.data)\n",
    "    # viewer.vopt.frame = 3\n",
    "for t in range(t_max):\n",
    "    # u = ctrl_method(sim.model, sim.data)\n",
    "    sim.data.ctrl = np.zeros(sim.model.nu)\n",
    "    mujoco.mj_step(sim.model, sim.data)\n",
    "    if render:\n",
    "        if viewer.is_alive:\n",
    "            viewer.render()\n",
    "if render:\n",
    "    viewer.close()"
   ]
  },
  {
   "cell_type": "code",
   "execution_count": 3,
   "id": "c5128277",
   "metadata": {},
   "outputs": [],
   "source": [
    "\n",
    "\n",
    "\n",
    "\n",
    "\n",
    "def operational_space_control(model, data):\n",
    "    # PD control parameters\n",
    "    kp = 350.\n",
    "    kd = 50.\n",
    "    # simulate and render\n",
    "    (R_ee, p_ee)     = getSitePose(model, data, \"ee_site\")\n",
    "    (R_des, p_des)   = getSitePose(model, data, \"target_site\")\n",
    "    jac              = getSiteJacobian(model, data, \"ee_site\")\n",
    "\n",
    "    ## we can now work directly with errors in the operational space\n",
    "    err_p   = p_des - p_ee\n",
    "    err_rot = rot_err(R_des, R_ee)\n",
    "    err     = np.concatenate([err_p, err_rot])\n",
    "\n",
    "    ### to compute velocity in operational space, we do the following transform \n",
    "    ### this is equivalent to J qdot\n",
    "    err_dot = jac@data.qvel\n",
    "\n",
    "    ### calculate the xddot_des in operational space \n",
    "    xddot_des = kp * err + kd *(-err_dot)\n",
    "\n",
    "    ### pull out the dynamic terms \n",
    "    mass_matrix = getMassMatrix(model, data)\n",
    "    bias        = getBiasTerms(model, data)\n",
    "\n",
    "    ### calculate the operational space mass matrix \n",
    "    op_mass_matrix = getOSMassMatrix(mass_matrix, jac)\n",
    "\n",
    "    ### compute the torque controller with respect to the operational space \n",
    "    ### that is J.T (M_x xddot_des) + b\n",
    "    tau = jac.T @ op_mass_matrix@ xddot_des + bias\n",
    "    return tau"
   ]
  },
  {
   "cell_type": "code",
   "execution_count": 4,
   "id": "17fc99df",
   "metadata": {},
   "outputs": [],
   "source": [
    "def simulateCtrl(sim, ctrl_method, render=True, t_max=1000):\n",
    "    if len(sim.model.key_qpos) != 0:\n",
    "        sim.data.qpos = sim.model.key_qpos\n",
    "    mujoco.mj_step(sim.model, sim.data)\n",
    "    log = []\n",
    "    if render:\n",
    "        viewer = mujoco_viewer.MujocoViewer(sim.model, sim.data)\n",
    "        viewer.vopt.frame = 3\n",
    "    for t in range(t_max):\n",
    "        u = ctrl_method(sim.model, sim.data)\n",
    "        sim.data.ctrl = u \n",
    "        mujoco.mj_step(sim.model, sim.data)\n",
    "        if render:\n",
    "            if viewer.is_alive:\n",
    "                viewer.render()\n",
    "    if render:\n",
    "        viewer.close()"
   ]
  },
  {
   "cell_type": "code",
   "execution_count": 5,
   "id": "ec1bf8de",
   "metadata": {},
   "outputs": [
    {
     "name": "stdout",
     "output_type": "stream",
     "text": [
      "Pressed ESC\n",
      "Quitting.\n"
     ]
    }
   ],
   "source": [
    "simulateCtrl(franka_sim, operational_space_control)"
   ]
  },
  {
   "cell_type": "code",
   "execution_count": null,
   "id": "f2a20dee",
   "metadata": {},
   "outputs": [],
   "source": []
  }
 ],
 "metadata": {
  "kernelspec": {
   "display_name": "Python 3.10.6 ('meng443arm')",
   "language": "python",
   "name": "python3"
  },
  "language_info": {
   "codemirror_mode": {
    "name": "ipython",
    "version": 3
   },
   "file_extension": ".py",
   "mimetype": "text/x-python",
   "name": "python",
   "nbconvert_exporter": "python",
   "pygments_lexer": "ipython3",
   "version": "3.10.6"
  },
  "vscode": {
   "interpreter": {
    "hash": "8a4c8fcd1d64603278e49ea51704004ebbaed6d078e5ae6c40f7c8af5a01823a"
   }
  }
 },
 "nbformat": 4,
 "nbformat_minor": 5
}
