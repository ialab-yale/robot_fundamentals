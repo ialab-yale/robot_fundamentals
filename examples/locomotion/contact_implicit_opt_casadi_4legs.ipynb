{
 "cells": [
  {
   "attachments": {},
   "cell_type": "markdown",
   "id": "ea15eb8d-c2b3-48d2-98a7-9279819d3fa9",
   "metadata": {},
   "source": [
    "### Import mujoco and numpy"
   ]
  },
  {
   "cell_type": "code",
   "execution_count": 1,
   "id": "8a242e6e-aa40-499d-8871-20c6b4a2fffd",
   "metadata": {},
   "outputs": [],
   "source": [
    "import casadi as ca\n",
    "import numpy as np\n",
    "import matplotlib.pyplot as plt"
   ]
  },
  {
   "cell_type": "code",
   "execution_count": 2,
   "id": "4fdc367f",
   "metadata": {},
   "outputs": [],
   "source": [
    "class HopperDynamics(object):\n",
    "    def __init__(self, dt=0.05) -> None:\n",
    "        self._m  = 0.1\n",
    "        self._I = np.diag([.01, .01, .01])\n",
    "        self._Iinv = np.linalg.inv(self._I)\n",
    "        self._g  = np.array([0.,0.,9.81])\n",
    "        self._dt = dt\n",
    "\n",
    "        def dfdt(x, lam, foot_pose):\n",
    "            pddot = - self._g\n",
    "            thddot = 0.0\n",
    "            p, pdot = x[:6], x[6:]\n",
    "            for i in range(4):\n",
    "                pddot = pddot + lam[i*3:i*3+3]/self._m \n",
    "                thddot = thddot + self._Iinv@ca.cross(foot_pose[i*3:i*3+3], lam[i*3:i*3+3])\n",
    "            return ca.vertcat(pdot, pddot, thddot) \n",
    "        def f(x, u, p):\n",
    "            return x + self._dt * self.dfdt(x, u, p)\n",
    "        self.dfdt = dfdt \n",
    "        self.f = f \n",
    "\n",
    "hopper_model = HopperDynamics()\n",
    "tf = 1\n",
    "N = int(tf/hopper_model._dt)\n",
    "def loss(x, u):\n",
    "    J = 0.0\n",
    "    xd = ca.DM([0., 0., 1.])\n",
    "    for t in range(N):\n",
    "        # J = J + ca.sumsqr(x[:3,t]-xd) + 0.001*ca.sumsqr(x[3:,t])#+ 10*(x[1,t]-vd)**2\n",
    "        J=J+ca.sumsqr(x[2,t]-1.0) + 0.1*ca.sumsqr(x[6,t]-0.1)\n",
    "    J = J +  ca.sumsqr(x[2,t]-1.0) #+ 0.001*ca.sumsqr(x[3:,t])\n",
    "    return J/float(N)\n",
    "\n",
    "def phi(x, p):\n",
    "    return x[2]-p[2]"
   ]
  },
  {
   "cell_type": "code",
   "execution_count": 3,
   "id": "0ea37bc7",
   "metadata": {},
   "outputs": [],
   "source": [
    "opti = ca.Opti()\n",
    "\n",
    "# Decision variables for state trajetcory\n",
    "# xyz rpy\n",
    "x    = opti.variable(12, N+1)\n",
    "# foot poses and contact forces\n",
    "\n",
    "lam = opti.variable(3*4, N)\n",
    "foot_poses = opti.variable(3*4, N)\n",
    "\n",
    "# lam  = opti.variable(3, N)\n",
    "# p    = opti.variable(3, N)\n",
    "x_init  = opti.parameter(12, 1)  # initial cond Parameter (not optimized over)\n",
    "# pf = opti.parameter(2,1)\n",
    "opti.minimize(loss(x,lam))\n",
    "\n",
    "for k in range(N):\n",
    "  opti.subject_to(x[:,k+1]==hopper_model.f(x[:,k],lam[:,k], foot_poses[:,k]))\n",
    "  # opti.subject_to(hopper_model.manip_eq(x[:,k+1],x[:,k],u[:,k])==0)\n",
    "  for i in range(4):\n",
    "    opti.subject_to(phi(x[:,k], foot_poses[i*3:i*3+3,k])>=0)\n",
    "    opti.subject_to(phi(x[:,k], foot_poses[i*3:i*3+3,k])*lam[i*3:i*3+3,k]<=0.01)\n",
    "    lam_v = lam[i*3:i*3+3,k]\n",
    "    opti.subject_to(lam_v[2] >= 0)\n",
    "    opti.subject_to(lam_v[0]**2+lam_v[1]**2 <= (0.8*lam_v[2])**2)\n",
    "  # opti.subject_to(opti.bounded(-2, p[0,k], 2))\n",
    "  # opti.subject_to(u[1,k]<=0)\n",
    "\n",
    "opti.subject_to(opti.bounded(-1, foot_poses, 1))\n",
    "# opti.subject_to(opti.bounded(-1,u[1,:],1))\n",
    "opti.subject_to(x[:,0]==x_init) #np.array([2.,0.]))\n",
    "# opti.subject_to(u>=0)\n",
    "# opti.subject_to(x[:,-1]==pf) #np.array([10.,0.]))\n"
   ]
  },
  {
   "cell_type": "code",
   "execution_count": 4,
   "id": "8693f38e",
   "metadata": {},
   "outputs": [
    {
     "name": "stdout",
     "output_type": "stream",
     "text": [
      "\n",
      "******************************************************************************\n",
      "This program contains Ipopt, a library for large-scale nonlinear optimization.\n",
      " Ipopt is released as open source code under the Eclipse Public License (EPL).\n",
      "         For more information visit https://github.com/coin-or/Ipopt\n",
      "******************************************************************************\n",
      "\n",
      "      solver  :   t_proc      (avg)   t_wall      (avg)    n_eval\n",
      "       nlp_f  | 201.00us (  1.31us) 188.70us (  1.23us)       154\n",
      "       nlp_g  |   1.78ms ( 11.55us)   1.42ms (  9.22us)       154\n",
      "    nlp_grad  |  24.00us ( 24.00us)  24.17us ( 24.17us)         1\n",
      "  nlp_grad_f  | 369.00us (  2.38us) 335.91us (  2.17us)       155\n",
      "  nlp_hess_l  | 909.00us (  5.94us) 877.58us (  5.74us)       153\n",
      "   nlp_jac_g  |   3.00ms ( 19.34us)   3.01ms ( 19.45us)       155\n",
      "       total  | 751.40ms (751.40ms) 761.19ms (761.19ms)         1\n"
     ]
    }
   ],
   "source": [
    "p_opts = {\"expand\": True}\n",
    "s_opts = {\"print_level\":0, \"max_iter\": 1000, \"acceptable_tol\": 1e-3, \"acceptable_obj_change_tol\":1e-7, \"tol\":1e-8, \"slack_bound_push\": 0.1, \"slack_bound_frac\":0.5}\n",
    "opti.solver('ipopt', p_opts, s_opts)\n",
    "\n",
    "# And choose a concrete value for p\n",
    "opti.set_value(x_init, [0.1,0.4, 0.5]+ [0.01]*3+[0.]*6)\n",
    "# opti.set_value(pf, [1.1 ,0.])\n",
    "sol = opti.solve()"
   ]
  },
  {
   "cell_type": "code",
   "execution_count": 5,
   "id": "2c07529e",
   "metadata": {},
   "outputs": [],
   "source": [
    "(x,lam, pf) = (sol.value(x).T, sol.value(lam).T, sol.value(foot_poses).T)"
   ]
  },
  {
   "cell_type": "code",
   "execution_count": 6,
   "id": "f6b4eb91",
   "metadata": {},
   "outputs": [
    {
     "data": {
      "text/plain": [
       "[<matplotlib.lines.Line2D at 0x11791b310>,\n",
       " <matplotlib.lines.Line2D at 0x11791b1c0>,\n",
       " <matplotlib.lines.Line2D at 0x117926430>]"
      ]
     },
     "execution_count": 6,
     "metadata": {},
     "output_type": "execute_result"
    },
    {
     "data": {
      "image/png": "[encoded data removed]",
      "text/plain": [
       "<Figure size 432x288 with 1 Axes>"
      ]
     },
     "metadata": {
      "needs_background": "light"
     },
     "output_type": "display_data"
    }
   ],
   "source": [
    "# plt.plot(opti.debug.value(x).T)\n",
    "# plt.plot(opti.debug.value(u).T)\n",
    "plt.plot(x[:,:3])\n",
    "# plt.plot(x[:,0], x[:,1])\n",
    "# plt.plot(t/hopper_model._dt, 2*np.sin(t * 2*2 * np.pi)+2)\n",
    "# plt.plot(lam[:])"
   ]
  },
  {
   "cell_type": "code",
   "execution_count": 7,
   "id": "ccabe2bc",
   "metadata": {},
   "outputs": [
    {
     "data": {
      "text/plain": [
       "[<matplotlib.lines.Line2D at 0x117ec9b20>,\n",
       " <matplotlib.lines.Line2D at 0x117ec9b80>,\n",
       " <matplotlib.lines.Line2D at 0x117ec9ca0>,\n",
       " <matplotlib.lines.Line2D at 0x117ec9dc0>,\n",
       " <matplotlib.lines.Line2D at 0x117ec9ee0>,\n",
       " <matplotlib.lines.Line2D at 0x117ed9040>,\n",
       " <matplotlib.lines.Line2D at 0x117ed9160>,\n",
       " <matplotlib.lines.Line2D at 0x117ed9280>,\n",
       " <matplotlib.lines.Line2D at 0x117ed93a0>,\n",
       " <matplotlib.lines.Line2D at 0x117ed94c0>,\n",
       " <matplotlib.lines.Line2D at 0x117ec9b50>,\n",
       " <matplotlib.lines.Line2D at 0x117ed95e0>]"
      ]
     },
     "execution_count": 7,
     "metadata": {},
     "output_type": "execute_result"
    },
    {
     "data": {
      "image/png": "[encoded data removed]",
      "text/plain": [
       "<Figure size 432x288 with 1 Axes>"
      ]
     },
     "metadata": {
      "needs_background": "light"
     },
     "output_type": "display_data"
    }
   ],
   "source": [
    "plt.plot(pf)"
   ]
  },
  {
   "cell_type": "code",
   "execution_count": null,
   "id": "76e5ca38",
   "metadata": {},
   "outputs": [],
   "source": []
  },
  {
   "cell_type": "code",
   "execution_count": null,
   "id": "76ce4588",
   "metadata": {},
   "outputs": [],
   "source": []
  }
 ],
 "metadata": {
  "kernelspec": {
   "display_name": "Python 3.9.10 ('base')",
   "language": "python",
   "name": "python3"
  },
  "language_info": {
   "codemirror_mode": {
    "name": "ipython",
    "version": 3
   },
   "file_extension": ".py",
   "mimetype": "text/x-python",
   "name": "python",
   "nbconvert_exporter": "python",
   "pygments_lexer": "ipython3",
   "version": "3.9.10"
  },
  "vscode": {
   "interpreter": {
    "hash": "798b538306534186ead633776371254f522515bdb811fa2fd0b251c0d7733175"
   }
  }
 },
 "nbformat": 4,
 "nbformat_minor": 5
}
