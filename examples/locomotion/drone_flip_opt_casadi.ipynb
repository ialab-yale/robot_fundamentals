{
 "cells": [
  {
   "cell_type": "markdown",
   "id": "ea15eb8d-c2b3-48d2-98a7-9279819d3fa9",
   "metadata": {},
   "source": [
    "### Import mujoco and numpy"
   ]
  },
  {
   "cell_type": "code",
   "execution_count": 1,
   "id": "8a242e6e-aa40-499d-8871-20c6b4a2fffd",
   "metadata": {},
   "outputs": [],
   "source": [
    "import casadi as ca\n",
    "import numpy as np\n",
    "import matplotlib.pyplot as plt\n"
   ]
  },
  {
   "cell_type": "code",
   "execution_count": 2,
   "id": "4fdc367f",
   "metadata": {},
   "outputs": [],
   "source": [
    "class PlanarDroneDynamics(object):\n",
    "    def __init__(self, dt=0.1) -> None:\n",
    "        self._m  = 0.1\n",
    "        # self._I = np.diag([1.0, 1.0, 1.0])\n",
    "        self._g  = 9.81 \n",
    "        self._I = 0.1\n",
    "        self._r = 0.25\n",
    "        self._dt = dt\n",
    "\n",
    "\n",
    "        def dfdt(q, tau):\n",
    "            x, y, th = q[0], q[1], q[2]\n",
    "            xdot, ydot, thdot = q[3], q[4], q[5]\n",
    "            u1, u2 = tau[0], tau[1]\n",
    "            xddot = (-(u1 + u2) * ca.sin(th))/self._m\n",
    "            yddot = ((u1+u2) * ca.cos(th) - self._m * self._g)/self._m\n",
    "            thddot = (self._r * (u1-u2))/self._I\n",
    "            return ca.vertcat(xdot, ydot, thdot, xddot, yddot, thddot) \n",
    "\n",
    "        def f(x, u):\n",
    "            return x + self._dt * self.dfdt(x, u)\n",
    "        self.dfdt = dfdt \n",
    "        self.f = f \n",
    "\n",
    "model = PlanarDroneDynamics()\n",
    "\n",
    "def loss(x, u):\n",
    "    return ca.sumsqr(x-np.array([0.,0., 2*np.pi,0., 0., 0.])) + 0.01*ca.sumsqr(u)"
   ]
  },
  {
   "cell_type": "code",
   "execution_count": 3,
   "id": "385e74e3",
   "metadata": {},
   "outputs": [],
   "source": [
    "# xnext = hopper_model.f(x, u)\n",
    "# F = ca.Function('F',[x,u], [xnext])#, ['x, y'], ['ode1', 'ode2'])"
   ]
  },
  {
   "cell_type": "code",
   "execution_count": 10,
   "id": "0ea37bc7",
   "metadata": {},
   "outputs": [],
   "source": [
    "opti = ca.Opti()\n",
    "tf = 10\n",
    "N = int(tf/model._dt)\n",
    "x = opti.variable(6, N+1) # Decision variables for state trajetcory\n",
    "u = opti.variable(2, N)\n",
    "p  = opti.parameter(6, 1)  # initial cond Parameter (not optimized over)\n",
    "pf = opti.parameter(2,1)\n",
    "opti.minimize(loss(x,u)/N)\n",
    "\n",
    "for k in range(N):\n",
    "  opti.subject_to(x[:,k+1]==model.f(x[:,k],u[:,k]))\n",
    "\n",
    "opti.subject_to(opti.bounded(0,u,10))\n",
    "opti.subject_to(x[:,0]==p) #np.array([2.,0.]))\n",
    "# opti.subject_to(u>=0)\n",
    "# opti.subject_to(x[:,-1]==pf) #np.array([10.,0.]))\n"
   ]
  },
  {
   "cell_type": "code",
   "execution_count": 11,
   "id": "8693f38e",
   "metadata": {},
   "outputs": [
    {
     "name": "stdout",
     "output_type": "stream",
     "text": [
      "This is Ipopt version 3.14.5, running with linear solver MUMPS 5.2.1.\n",
      "\n",
      "Number of nonzeros in equality constraint Jacobian...:     2306\n",
      "Number of nonzeros in inequality constraint Jacobian.:      200\n",
      "Number of nonzeros in Lagrangian Hessian.............:     1006\n",
      "\n",
      "Total number of variables............................:      806\n",
      "                     variables with only lower bounds:        0\n",
      "                variables with lower and upper bounds:        0\n",
      "                     variables with only upper bounds:        0\n",
      "Total number of equality constraints.................:      606\n",
      "Total number of inequality constraints...............:      200\n",
      "        inequality constraints with only lower bounds:        0\n",
      "   inequality constraints with lower and upper bounds:      200\n",
      "        inequality constraints with only upper bounds:        0\n",
      "\n",
      "iter    objective    inf_pr   inf_du lg(mu)  ||d||  lg(rg) alpha_du alpha_pr  ls\n",
      "   0  3.9873202e+01 9.81e-01 1.26e-01  -1.0 0.00e+00    -  0.00e+00 0.00e+00   0\n",
      "   1  8.5330819e+03 1.48e+00 1.14e+03  -1.0 3.02e+01    -  1.33e-02 1.00e+00H  1\n",
      "   2  8.5320980e+03 4.14e-01 1.47e+02  -1.0 7.66e-01   2.0 9.23e-01 1.00e+00h  1\n",
      "   3  8.5316640e+03 3.94e-01 1.40e+02  -1.0 1.14e+00   1.5 5.28e-01 4.58e-02h  1\n",
      "   4  8.5301002e+03 3.83e-01 1.37e+02  -1.0 6.59e+00   1.0 2.54e-02 2.75e-02h  1\n",
      "   5  8.5295408e+03 3.60e-01 1.29e+02  -1.0 1.07e+00   1.5 1.00e+00 5.78e-02h  1\n",
      "   6  8.5256786e+03 3.21e-01 1.15e+02  -1.0 1.80e+00   1.0 2.06e-01 1.06e-01f  1\n",
      "   7  8.5237062e+03 2.55e-01 9.25e+01  -1.0 7.90e-01   1.4 1.00e+00 1.90e-01f  1\n",
      "   8  8.5183533e+03 2.15e-01 7.83e+01  -1.0 2.14e+00   0.9 8.67e-02 1.52e-01f  1\n",
      "   9  8.5149009e+03 1.53e-01 5.66e+01  -1.0 4.97e-01   1.4 7.78e-01 2.73e-01f  1\n",
      "iter    objective    inf_pr   inf_du lg(mu)  ||d||  lg(rg) alpha_du alpha_pr  ls\n",
      "  10  8.5049936e+03 1.17e-01 4.33e+01  -1.0 6.75e-01   0.9 8.17e-01 2.35e-01f  1\n",
      "  11  8.4936524e+03 3.40e-02 1.09e+01  -1.0 2.13e-01   1.3 1.00e+00 7.46e-01f  1\n",
      "  12  8.4453763e+03 1.36e-03 3.37e+00  -1.0 4.86e-01   0.8 1.00e+00 1.00e+00f  1\n",
      "  13  8.3025697e+03 1.47e-03 3.35e+00  -1.0 1.45e+00   0.4 1.00e+00 1.00e+00f  1\n",
      "  14  7.8907582e+03 4.16e-03 3.27e+00  -1.0 4.24e+00  -0.1 1.00e+00 1.00e+00f  1\n",
      "  15  6.7991581e+03 2.34e-02 3.04e+00  -1.0 1.18e+01  -0.6 1.00e+00 1.00e+00f  1\n",
      "  16  4.4822432e+03 2.14e-01 2.46e+00  -1.0 2.87e+01  -1.1 1.00e+00 1.00e+00f  1\n",
      "  17  4.2161176e+03 8.26e-01 2.38e+00  -1.0 4.98e+01  -1.5 2.48e-02 7.34e-02f  1\n",
      "  18  2.6567073e+03 1.30e-01 1.89e+00  -1.0 2.49e+01  -1.1 1.00e+00 1.00e+00f  1\n",
      "  19  8.5425686e+02 5.67e-01 1.05e+00  -1.0 4.15e+01  -1.6 1.00e+00 1.00e+00f  1\n",
      "iter    objective    inf_pr   inf_du lg(mu)  ||d||  lg(rg) alpha_du alpha_pr  ls\n",
      "  20  5.2151026e+02 8.53e-03 8.16e-01  -1.0 1.21e+01  -1.2 1.00e+00 1.00e+00f  1\n",
      "  21  1.6787262e+02 1.19e-01 4.33e-01  -1.7 1.92e+01  -1.6 8.42e-01 1.00e+00f  1\n",
      "  22  6.8563076e+01 1.24e+00 2.38e-01  -1.7 1.58e+01  -2.1 3.09e-01 6.47e-01f  1\n",
      "  23  3.8329156e+01 8.44e-03 1.15e-01  -1.7 5.73e+00  -1.7 8.73e-01 1.00e+00f  1\n",
      "  24  3.8260547e+01 2.95e-01 1.14e-01  -2.5 6.23e+02    -  2.06e-03 2.72e-03f  1\n",
      "  25  3.0627292e+01 4.40e-01 5.93e-02  -2.5 4.30e+00  -2.2 5.83e-01 6.44e-01f  1\n",
      "  26  2.8497754e+01 1.32e-01 3.64e-02  -2.5 1.56e+00  -1.7 1.00e+00 7.28e-01f  1\n",
      "  27  2.7459295e+01 4.84e-01 8.17e-02  -2.5 2.32e+00  -2.2 3.17e-01 8.95e-01f  1\n",
      "  28  2.7038157e+01 1.42e-01 3.72e-02  -2.5 1.01e+00  -1.8 1.00e+00 7.18e-01h  1\n",
      "  29  2.7019376e+01 4.88e-01 9.09e-02  -2.5 2.41e+00  -2.3 1.90e-01 8.82e-01h  1\n",
      "iter    objective    inf_pr   inf_du lg(mu)  ||d||  lg(rg) alpha_du alpha_pr  ls\n",
      "  30  2.6541904e+01 6.93e-02 4.15e-02  -2.5 1.21e+00  -1.9 9.69e-01 8.64e-01h  1\n",
      "  31  2.6312373e+01 2.46e-01 3.48e-02  -2.5 3.49e+00  -2.3 5.82e-01 5.69e-01H  1\n",
      "  32  2.6233419e+01 5.90e-01 8.06e-02  -2.5 1.04e+01  -2.8 8.28e-02 1.93e-01F  1\n",
      "  33  2.6210376e+01 5.86e-01 1.01e-01  -2.5 1.46e+01  -2.4 1.58e-01 6.84e-03h  1\n",
      "  34  2.5808213e+01 4.92e-01 2.85e-02  -2.5 2.35e+00  -2.0 1.00e+00 9.79e-01f  1\n",
      "  35  2.5643561e+01 4.86e-01 4.18e-02  -2.5 7.36e+00  -2.4 2.34e-01 1.52e-01h  1\n",
      "  36  2.5225018e+01 2.06e-01 5.98e-02  -2.5 1.55e+00  -2.0 4.87e-01 1.00e+00h  1\n",
      "  37  2.5138957e+01 2.62e-01 6.05e-02  -2.5 1.60e+01  -2.5 1.25e-01 5.12e-02h  1\n",
      "  38  2.4917584e+01 1.60e-01 2.43e-02  -2.5 1.47e+00  -2.1 5.40e-01 6.42e-01h  1\n",
      "  39  2.4702076e+01 3.61e-02 1.35e-02  -2.5 5.76e-01  -1.6 1.00e+00 9.52e-01h  1\n",
      "iter    objective    inf_pr   inf_du lg(mu)  ||d||  lg(rg) alpha_du alpha_pr  ls\n",
      "  40  2.4606264e+01 1.08e-01 2.11e-02  -2.5 1.92e+00  -2.1 4.16e-01 4.46e-01h  1\n",
      "  41  2.4479107e+01 5.18e-01 9.53e-02  -2.5 6.46e+00  -2.6 1.81e-01 3.86e-01F  1\n",
      "  42  2.4339050e+01 4.00e-01 7.40e-02  -2.5 2.40e+00  -2.2 7.12e-01 2.23e-01h  1\n",
      "  43  2.4044685e+01 1.15e-01 1.93e-02  -2.5 1.04e+00  -1.7 9.46e-01 1.00e+00h  1\n",
      "  44  2.3930370e+01 2.07e-01 4.45e-02  -2.5 2.24e+00  -2.2 5.99e-01 5.69e-01h  1\n",
      "  45  2.3903206e+01 2.08e-01 6.19e-02  -2.5 1.20e+02  -2.7 9.65e-03 1.51e-03h  1\n",
      "  46  2.3842333e+01 7.21e-01 5.20e-02  -2.5 7.77e+00  -2.3 3.30e-01 3.40e-01F  1\n",
      "  47  2.3572501e+01 4.62e-01 4.71e-02  -2.5 1.38e+00  -1.8 7.98e-01 3.66e-01h  1\n",
      "  48  2.3552267e+01 7.16e-01 6.20e-02  -2.5 6.93e+00  -2.3 3.39e-01 2.86e-01h  1\n",
      "  49  2.3286937e+01 5.17e-01 8.94e-02  -2.5 1.82e+00  -1.9 1.00e+00 2.83e-01h  1\n",
      "iter    objective    inf_pr   inf_du lg(mu)  ||d||  lg(rg) alpha_du alpha_pr  ls\n",
      "  50  2.3017594e+01 4.97e-01 8.30e-02  -2.5 4.14e+00  -2.4 4.04e-01 5.18e-01h  1\n",
      "  51  2.2690315e+01 2.17e-01 5.75e-02  -2.5 1.30e+00  -1.9 1.00e+00 5.53e-01h  1\n",
      "  52  2.2640006e+01 3.50e-01 6.76e-02  -2.5 4.95e+00  -2.4 9.15e-02 3.86e-01h  1\n",
      "  53  2.2225444e+01 1.40e-01 2.77e-02  -2.5 1.43e+00  -2.0 8.31e-01 7.20e-01h  1\n",
      "  54  2.2186049e+01 4.82e-01 3.48e-02  -2.5 1.01e+01  -2.5 2.18e-01 1.85e-01H  1\n",
      "  55  2.1776071e+01 1.85e-01 2.91e-02  -2.5 1.50e+00  -2.0 5.13e-01 7.53e-01h  1\n",
      "  56  2.1744155e+01 3.99e-01 3.86e-02  -2.5 3.14e+01  -2.5 6.25e-02 4.54e-02f  1\n",
      "  57  2.1430337e+01 2.34e-01 2.06e-02  -2.5 1.77e+00  -2.1 4.45e-01 5.64e-01h  1\n",
      "  58  2.1151752e+01 4.57e-02 1.41e-02  -2.5 6.81e-01  -1.7 1.00e+00 9.13e-01h  1\n",
      "  59  2.1050951e+01 1.07e-01 1.83e-02  -2.5 2.10e+00  -2.1 4.10e-01 3.97e-01h  1\n",
      "iter    objective    inf_pr   inf_du lg(mu)  ||d||  lg(rg) alpha_du alpha_pr  ls\n",
      "  60  2.0934576e+01 5.23e-01 9.49e-02  -2.5 6.79e+00  -2.6 1.60e-01 3.65e-01F  1\n",
      "  61  2.0801827e+01 4.17e-01 7.59e-02  -2.5 2.62e+00  -2.2 6.71e-01 1.98e-01h  1\n",
      "  62  2.0494120e+01 1.40e-01 1.96e-02  -2.5 1.15e+00  -1.8 9.46e-01 1.00e+00h  1\n",
      "  63  2.0374574e+01 2.18e-01 4.41e-02  -2.5 2.58e+00  -2.2 5.63e-01 4.99e-01h  1\n",
      "  64  2.0294612e+01 3.67e-01 4.12e-02  -2.5 1.77e+01  -2.7 5.69e-02 7.81e-02h  2\n",
      "  65  2.0193011e+01 3.61e-01 6.80e-02  -2.5 1.02e+01  -2.3 2.26e-01 1.07e-01h  1\n",
      "  66  2.0074893e+01 2.95e-01 8.36e-02  -2.5 1.48e+00  -1.9 1.00e+00 1.83e-01h  1\n",
      "  67  2.0038300e+01 7.09e-01 1.00e-01  -2.5 4.41e+00  -2.3 9.64e-02 5.22e-01h  1\n",
      "  68  1.9665507e+01 3.51e-01 6.26e-02  -2.5 1.36e+00  -1.9 9.04e-01 5.04e-01h  1\n",
      "  69  1.9581822e+01 7.40e-01 5.90e-02  -2.5 9.60e+00  -2.4 2.45e-01 2.75e-01H  1\n",
      "iter    objective    inf_pr   inf_du lg(mu)  ||d||  lg(rg) alpha_du alpha_pr  ls\n",
      "  70  1.8988458e+01 1.46e-01 2.30e-02  -2.5 1.45e+00  -2.0 6.24e-01 8.26e-01h  1\n",
      "  71  1.8917019e+01 3.05e-01 3.45e-02  -2.5 6.60e+00  -2.4 2.87e-01 1.86e-01h  1\n",
      "  72  1.8878294e+01 3.12e-01 4.76e-02  -2.5 6.40e+01  -2.9 7.68e-03 4.05e-03h  1\n",
      "  73  1.8485016e+01 4.13e-02 1.51e-02  -2.5 5.94e-01  -1.6 1.00e+00 1.00e+00f  1\n",
      "  74  1.8429394e+01 2.45e-01 3.79e-02  -2.5 2.87e+01    -  6.26e-02 5.14e-02f  1\n",
      "  75  1.8207666e+01 1.54e-01 1.87e-02  -2.5 1.46e+00  -2.1 7.75e-01 7.67e-01h  1\n",
      "  76  1.8158698e+01 1.85e-01 3.50e-02  -2.5 2.61e+02  -2.6 6.64e-04 3.63e-03f  2\n",
      "  77  1.8016002e+01 1.79e-01 7.09e-02  -2.5 2.49e+00  -2.1 6.78e-01 2.46e-01h  1\n",
      "  78  1.7753849e+01 7.44e-02 1.46e-02  -2.5 7.27e-01  -1.7 1.00e+00 1.00e+00h  1\n",
      "  79  1.7663268e+01 2.44e-01 5.71e-02  -2.5 1.84e+00  -2.2 6.54e-01 7.78e-01h  1\n",
      "iter    objective    inf_pr   inf_du lg(mu)  ||d||  lg(rg) alpha_du alpha_pr  ls\n",
      "  80  1.7577403e+01 1.95e-01 4.60e-02  -2.5 8.48e-01  -1.7 1.00e+00 2.18e-01h  1\n",
      "  81  1.7530751e+01 5.72e-01 1.00e-01  -2.5 2.23e+00  -2.2 1.87e-01 9.70e-01h  1\n",
      "  82  1.7321908e+01 3.67e-01 9.08e-02  -2.5 1.14e+00  -1.8 1.00e+00 3.59e-01h  1\n",
      "  83  1.6868138e+01 3.53e-01 5.12e-02  -2.5 4.46e+00  -2.3 3.89e-01 6.06e-01H  1\n",
      "  84  1.6839400e+01 7.77e-01 1.06e-01  -2.5 1.21e+01  -2.8 7.72e-02 1.81e-01h  1\n",
      "  85  1.6640150e+01 6.08e-01 7.07e-02  -2.5 3.69e+00  -2.3 5.48e-01 2.02e-01h  1\n",
      "  86  1.6149372e+01 3.14e-01 2.19e-02  -2.5 1.76e+00  -1.9 8.73e-01 1.00e+00h  1\n",
      "  87  1.6033275e+01 2.98e-01 8.17e-02  -2.5 5.27e+00  -2.4 3.58e-01 1.35e-01h  1\n",
      "  88  1.5840033e+01 3.63e-01 2.19e-02  -2.5 1.36e+00  -2.0 1.00e+00 1.00e+00h  1\n",
      "  89  1.5710801e+01 3.69e-01 6.59e-02  -2.5 7.69e+00  -2.4 2.44e-01 1.18e-01h  1\n",
      "iter    objective    inf_pr   inf_du lg(mu)  ||d||  lg(rg) alpha_du alpha_pr  ls\n",
      "  90  1.5495312e+01 3.80e-01 2.00e-02  -2.5 1.86e+00  -2.0 8.86e-01 8.07e-01h  1\n",
      "  91  1.5372943e+01 4.07e-01 6.42e-02  -2.5 1.29e+01  -2.5 1.26e-01 6.88e-02h  1\n",
      "  92  1.5158561e+01 4.54e-01 2.32e-02  -2.5 2.17e+00  -2.1 7.97e-01 7.09e-01h  1\n",
      "  93  1.5050993e+01 4.97e-01 6.23e-02  -2.5 8.55e+01  -2.5 1.56e-02 9.10e-03f  1\n",
      "  94  1.4847435e+01 5.66e-01 3.88e-02  -2.5 2.91e+00  -2.1 7.37e-01 5.98e-01h  1\n",
      "  95  1.4311292e+01 9.69e-02 1.96e-02  -2.5 8.52e-01  -1.7 9.73e-01 9.00e-01h  1\n",
      "  96  1.4282561e+01 4.36e-01 7.02e-02  -2.5 1.89e+01    -  4.69e-02 1.06e-01F  1\n",
      "  97  1.4133264e+01 3.15e-01 7.63e-02  -2.5 1.92e+00  -2.2 8.46e-01 2.69e-01h  1\n",
      "  98  1.3804159e+01 7.55e-02 1.66e-02  -2.5 9.00e-01  -1.7 1.00e+00 1.00e+00h  1\n",
      "  99  1.3691505e+01 1.59e-01 3.08e-02  -2.5 1.94e+00  -2.2 6.26e-01 5.73e-01h  1\n",
      "iter    objective    inf_pr   inf_du lg(mu)  ||d||  lg(rg) alpha_du alpha_pr  ls\n",
      " 100  1.3579220e+01 1.13e-01 3.22e-02  -2.5 7.30e-01  -1.8 1.00e+00 3.79e-01h  1\n",
      " 101  1.3544346e+01 4.76e-01 7.68e-02  -2.5 2.00e+00  -2.3 4.28e-01 1.00e+00f  1\n",
      " 102  1.3380255e+01 3.32e-01 5.30e-02  -2.5 1.02e+00  -1.8 1.00e+00 3.03e-01h  1\n",
      " 103  1.3311478e+01 3.60e-01 5.08e-02  -2.5 2.60e+01    -  2.97e-02 4.08e-02h  2\n",
      " 104  1.3155734e+01 2.78e-01 4.45e-02  -2.5 3.55e+00  -2.3 1.40e-01 3.89e-01h  1\n",
      " 105  1.3085775e+01 3.64e-01 5.69e-02  -2.5 1.75e+01  -2.8 1.51e-01 7.14e-02h  1\n",
      " 106  1.3033935e+01 3.89e-01 1.58e-01  -2.5 5.10e+00  -2.4 5.52e-01 2.93e-01h  1\n",
      " 107  1.3002599e+01 5.85e-01 1.07e-01  -2.5 1.02e+01  -2.8 4.91e-02 1.70e-01H  1\n",
      " 108  1.2822396e+01 4.60e-01 1.14e-01  -2.5 2.50e+00  -2.4 9.76e-01 2.13e-01h  1\n",
      " 109  1.2799205e+01 4.64e-01 1.06e-01  -2.5 1.07e+01  -2.9 8.96e-02 1.40e-01h  1\n",
      "iter    objective    inf_pr   inf_du lg(mu)  ||d||  lg(rg) alpha_du alpha_pr  ls\n",
      " 110  1.2693321e+01 3.39e-01 1.40e-01  -2.5 4.55e+00  -2.5 7.19e-01 3.97e-01h  1\n",
      " 111  1.2668823e+01 3.44e-01 1.75e-01  -2.5 4.57e+01  -2.9 3.17e-02 1.92e-02h  2\n",
      " 112  1.2017946e+01 2.21e-02 3.33e-01  -2.5 6.19e-01  -1.6 4.25e-01 1.00e+00h  1\n",
      " 113  1.1953792e+01 5.76e-02 1.18e-01  -2.5 2.25e+00    -  8.17e-01 7.45e-01H  1\n",
      " 114  1.1930038e+01 5.82e-02 1.48e-01  -2.5 2.85e+00    -  5.65e-01 1.67e-01h  1\n",
      " 115  1.1934628e+01 1.07e-01 4.69e-02  -2.5 2.11e+00    -  1.00e+00 9.89e-01h  1\n",
      " 116  1.1836962e+01 2.82e-03 6.44e-03  -2.5 3.45e-01    -  1.00e+00 1.00e+00h  1\n",
      " 117  1.1725573e+01 1.30e-03 4.08e-03  -3.8 1.87e-01    -  8.66e-01 1.00e+00h  1\n",
      " 118  1.1717289e+01 3.41e-04 1.10e-04  -3.8 1.58e-01    -  1.00e+00 1.00e+00h  1\n",
      " 119  1.1709742e+01 9.47e-05 2.56e-04  -5.7 7.75e-02    -  9.18e-01 9.83e-01h  1\n",
      "iter    objective    inf_pr   inf_du lg(mu)  ||d||  lg(rg) alpha_du alpha_pr  ls\n",
      " 120  1.1709379e+01 1.28e-05 1.60e-05  -5.7 5.40e-02    -  1.00e+00 1.00e+00h  1\n",
      " 121  1.1709356e+01 2.49e-06 4.51e-06  -5.7 3.03e-02    -  1.00e+00 1.00e+00h  1\n",
      " 122  1.1709264e+01 1.32e-06 1.44e-05  -8.6 2.00e-02    -  9.71e-01 9.95e-01h  1\n",
      " 123  1.1709262e+01 4.75e-07 1.15e-05  -8.6 1.16e-02    -  9.63e-01 1.00e+00h  1\n",
      " 124  1.1709262e+01 1.16e-07 4.68e-08  -8.6 5.69e-03    -  1.00e+00 1.00e+00h  1\n",
      " 125  1.1709262e+01 2.67e-08 1.84e-09  -8.6 2.72e-03    -  1.00e+00 1.00e+00h  1\n",
      " 126  1.1709262e+01 3.70e-09 1.66e-10  -8.6 1.01e-03    -  1.00e+00 1.00e+00h  1\n",
      "\n",
      "Number of Iterations....: 126\n",
      "\n",
      "                                   (scaled)                 (unscaled)\n",
      "Objective...............:   1.1709261739150350e+01    1.1709261739150350e+01\n",
      "Dual infeasibility......:   1.6641610095166626e-10    1.6641610095166626e-10\n",
      "Constraint violation....:   3.6981004647440585e-09    3.6981004647440585e-09\n",
      "Variable bound violation:   0.0000000000000000e+00    0.0000000000000000e+00\n",
      "Complementarity.........:   5.1980759596067696e-09    5.1980759596067696e-09\n",
      "Overall NLP error.......:   5.1980759596067696e-09    5.1980759596067696e-09\n",
      "\n",
      "\n",
      "Number of objective function evaluations             = 150\n",
      "Number of objective gradient evaluations             = 127\n",
      "Number of equality constraint evaluations            = 150\n",
      "Number of inequality constraint evaluations          = 150\n",
      "Number of equality constraint Jacobian evaluations   = 127\n",
      "Number of inequality constraint Jacobian evaluations = 127\n",
      "Number of Lagrangian Hessian evaluations             = 126\n",
      "Total seconds in IPOPT                               = 0.387\n",
      "\n",
      "EXIT: Optimal Solution Found.\n",
      "      solver  :   t_proc      (avg)   t_wall      (avg)    n_eval\n",
      "       nlp_f  | 629.00us (  4.19us) 629.00us (  4.19us)       150\n",
      "       nlp_g  |   1.63ms ( 10.87us)   1.34ms (  8.96us)       150\n",
      "    nlp_grad  |  25.00us ( 25.00us)  24.79us ( 24.79us)         1\n",
      "  nlp_grad_f  | 932.00us (  7.28us) 867.50us (  6.78us)       128\n",
      "  nlp_hess_l  | 965.00us (  7.66us) 952.84us (  7.56us)       126\n",
      "   nlp_jac_g  |   1.59ms ( 12.42us)   1.59ms ( 12.39us)       128\n",
      "       total  | 387.71ms (387.71ms) 387.44ms (387.44ms)         1\n"
     ]
    }
   ],
   "source": [
    "p_opts = {\"expand\": True}\n",
    "s_opts = {\"max_iter\": 100000}\n",
    "opti.solver('ipopt', p_opts, s_opts)\n",
    "\n",
    "# And choose a concrete value for p\n",
    "opti.set_value(p, [0.,0.,0.,0.,0.,0.])\n",
    "# opti.set_value(pf, [1.1 ,0.])\n",
    "sol = opti.solve()"
   ]
  },
  {
   "cell_type": "code",
   "execution_count": 12,
   "id": "f6b4eb91",
   "metadata": {},
   "outputs": [
    {
     "data": {
      "text/plain": [
       "[<matplotlib.lines.Line2D at 0x117f407f0>,\n",
       " <matplotlib.lines.Line2D at 0x117f40850>,\n",
       " <matplotlib.lines.Line2D at 0x117f40970>]"
      ]
     },
     "execution_count": 12,
     "metadata": {},
     "output_type": "execute_result"
    },
    {
     "data": {
      "image/png": "[encoded data removed]",
      "text/plain": [
       "<Figure size 432x288 with 1 Axes>"
      ]
     },
     "metadata": {
      "needs_background": "light"
     },
     "output_type": "display_data"
    }
   ],
   "source": [
    "# plt.plot(opti.debug.value(x).T)\n",
    "# plt.plot(opti.debug.value(u).T)\n",
    "\n",
    "plt.plot(sol.value(x).T[:,:3])\n",
    "# plt.plot(sol.value(u).T)"
   ]
  },
  {
   "cell_type": "code",
   "execution_count": 13,
   "id": "d37c6705",
   "metadata": {},
   "outputs": [
    {
     "data": {
      "text/plain": [
       "<bound method OptiSol.stats of OptiSol(Opti {\n",
       "  instance #2\n",
       "  #variables: 2 (nx = 806)\n",
       "  #parameters: 1 (np = 6)\n",
       "  #constraints: 102 (ng = 806)\n",
       "  CasADi solver allocated.\n",
       "  CasADi solver was called: Solve_Succeeded\n",
       "})>"
      ]
     },
     "execution_count": 13,
     "metadata": {},
     "output_type": "execute_result"
    }
   ],
   "source": [
    "sol.stats"
   ]
  },
  {
   "cell_type": "code",
   "execution_count": 3,
   "id": "8dba86ef",
   "metadata": {},
   "outputs": [],
   "source": [
    "def ineq_constr(x, args):\n",
    "    q = x[:,:2]\n",
    "    f = x[:,2:]\n",
    "    _phi_out = vmap(phi)(q)\n",
    "    return jnp.concatenate([-_phi_out, -f[:,0]])\n",
    "\n",
    "def eq_constr(x, args):\n",
    "    q = x[:,:2]\n",
    "    f = x[:,2:]\n",
    "    q0 = args['q0']\n",
    "    qf = args['qf']\n",
    "    _phi_out = vmap(phi)(q)\n",
    "    return jnp.concatenate([\n",
    "        (q[0] - q0).flatten(),\n",
    "        (q[1:,:]-vmap(hopper_model.f)(q[:-1,:], f[:-1,:])).flatten(),\n",
    "        (_phi_out*f[:,0]).flatten(),\n",
    "        (q[-1] - qf).flatten()\n",
    "    ])"
   ]
  },
  {
   "cell_type": "code",
   "execution_count": 4,
   "id": "9de76120",
   "metadata": {},
   "outputs": [],
   "source": [
    "args = {\n",
    "    'q0' : np.array([5.,0.]),\n",
    "    'qf' : np.array([10.,0.]) \n",
    "}\n",
    "\n",
    "def loss(x, args):\n",
    "    q, f = x[:,:2], x[:,2:]\n",
    "    return jnp.array(0.)#jnp.mean(f**2)\n"
   ]
  },
  {
   "cell_type": "code",
   "execution_count": 5,
   "id": "003bb31c",
   "metadata": {},
   "outputs": [
    {
     "name": "stderr",
     "output_type": "stream",
     "text": [
      "WARNING:absl:No GPU/TPU found, falling back to CPU. (Set TF_CPP_MIN_LOG_LEVEL=0 and rerun for more info.)\n"
     ]
    }
   ],
   "source": [
    "time_horizon = int(6/hopper_model._dt)\n",
    "# q = jnp.linspace(args['q0'], args['qf'], time_horizon, endpoint=True)\n",
    "q = jnp.zeros((time_horizon, 2))\n",
    "u = jnp.zeros((time_horizon, 1))\n",
    "x = jnp.concatenate([q, u], axis=1)"
   ]
  },
  {
   "cell_type": "code",
   "execution_count": 6,
   "id": "06c59e19",
   "metadata": {},
   "outputs": [],
   "source": [
    "opt_solver = AugmentedLagrangian(x, loss, eq_constr, ineq_constr, args=args, step_size=1e-3, c=1.0)"
   ]
  },
  {
   "cell_type": "code",
   "execution_count": 7,
   "id": "f2a20dee",
   "metadata": {},
   "outputs": [
    {
     "data": {
      "text/plain": [
       "False"
      ]
     },
     "execution_count": 7,
     "metadata": {},
     "output_type": "execute_result"
    }
   ],
   "source": [
    "opt_solver.solve(eps=1e-5)"
   ]
  },
  {
   "cell_type": "code",
   "execution_count": 8,
   "id": "c8f7b798",
   "metadata": {},
   "outputs": [],
   "source": [
    "sol = opt_solver.get_solution()"
   ]
  },
  {
   "cell_type": "code",
   "execution_count": 12,
   "id": "d905199c",
   "metadata": {},
   "outputs": [
    {
     "data": {
      "text/plain": [
       "[<matplotlib.lines.Line2D at 0x7f292c02fc10>]"
      ]
     },
     "execution_count": 12,
     "metadata": {},
     "output_type": "execute_result"
    },
    {
     "data": {
      "image/png": "[encoded data removed]",
      "text/plain": [
       "<Figure size 640x480 with 1 Axes>"
      ]
     },
     "metadata": {},
     "output_type": "display_data"
    }
   ],
   "source": [
    "plt.plot(sol['x'][:,0])"
   ]
  },
  {
   "cell_type": "code",
   "execution_count": 35,
   "id": "4f0ff73c",
   "metadata": {},
   "outputs": [
    {
     "data": {
      "text/plain": [
       "[<matplotlib.lines.Line2D at 0x7fc76810bfd0>]"
      ]
     },
     "execution_count": 35,
     "metadata": {},
     "output_type": "execute_result"
    },
    {
     "data": {
      "image/png": "[encoded data removed]",
      "text/plain": [
       "<Figure size 640x480 with 1 Axes>"
      ]
     },
     "metadata": {},
     "output_type": "display_data"
    }
   ],
   "source": [
    "plt.plot(eq_constr(sol['x'], args))"
   ]
  },
  {
   "cell_type": "code",
   "execution_count": 25,
   "id": "4b826d45",
   "metadata": {},
   "outputs": [
    {
     "data": {
      "text/plain": [
       "[<matplotlib.lines.Line2D at 0x7fc80b90b6a0>,\n",
       " <matplotlib.lines.Line2D at 0x7fc7683476a0>,\n",
       " <matplotlib.lines.Line2D at 0x7fc768347b20>]"
      ]
     },
     "execution_count": 25,
     "metadata": {},
     "output_type": "execute_result"
    },
    {
     "data": {
      "image/png": "[encoded data removed]",
      "text/plain": [
       "<Figure size 640x480 with 1 Axes>"
      ]
     },
     "metadata": {},
     "output_type": "display_data"
    }
   ],
   "source": [
    "plt.plot(sol['x'])"
   ]
  },
  {
   "cell_type": "code",
   "execution_count": null,
   "id": "cc413585",
   "metadata": {},
   "outputs": [],
   "source": []
  }
 ],
 "metadata": {
  "kernelspec": {
   "display_name": "Python 3.9.10 ('base')",
   "language": "python",
   "name": "python3"
  },
  "language_info": {
   "codemirror_mode": {
    "name": "ipython",
    "version": 3
   },
   "file_extension": ".py",
   "mimetype": "text/x-python",
   "name": "python",
   "nbconvert_exporter": "python",
   "pygments_lexer": "ipython3",
   "version": "3.9.10"
  },
  "vscode": {
   "interpreter": {
    "hash": "798b538306534186ead633776371254f522515bdb811fa2fd0b251c0d7733175"
   }
  }
 },
 "nbformat": 4,
 "nbformat_minor": 5
}
