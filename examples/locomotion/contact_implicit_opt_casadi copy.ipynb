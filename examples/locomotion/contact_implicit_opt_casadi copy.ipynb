{
 "cells": [
  {
   "cell_type": "markdown",
   "id": "ea15eb8d-c2b3-48d2-98a7-9279819d3fa9",
   "metadata": {},
   "source": [
    "### Import mujoco and numpy"
   ]
  },
  {
   "cell_type": "code",
   "execution_count": 1,
   "id": "8a242e6e-aa40-499d-8871-20c6b4a2fffd",
   "metadata": {},
   "outputs": [],
   "source": [
    "import casadi as ca\n",
    "import numpy as np\n",
    "import matplotlib.pyplot as plt\n"
   ]
  },
  {
   "cell_type": "code",
   "execution_count": 2,
   "id": "4fdc367f",
   "metadata": {},
   "outputs": [],
   "source": [
    "class HopperDynamics(object):\n",
    "    def __init__(self, dt=0.1) -> None:\n",
    "        self._m  = 0.1\n",
    "        # self._I = np.diag([1.0, 1.0, 1.0])\n",
    "        self._g  = 9.81 \n",
    "        self._dt = dt\n",
    "\n",
    "        def manip_eq(xk1, xk, uk):\n",
    "            pk, pkdot = xk[0], xk[1]\n",
    "            pk1, pk1dot = xk1[0], xk1[1]\n",
    "            f, b = uk[0], uk[1]\n",
    "            return ca.vertcat(\n",
    "                pk-pk1+self._dt*pk1dot,\n",
    "                self._m*(pk1dot-pkdot) + self._dt*(self._g*self._m-b-f)\n",
    "            )\n",
    "\n",
    "        def dfdt(x, u):\n",
    "            p, pdot = x[0], x[1]\n",
    "            f, b = u[0], u[1]\n",
    "            pddot = (f+b)/self._m - self._g\n",
    "            return ca.vertcat(pdot, pddot) \n",
    "        def f(x, u):\n",
    "            return x + self._dt * self.dfdt(x, u)\n",
    "        self.manip_eq = manip_eq\n",
    "        self.dfdt = dfdt \n",
    "        self.f = f \n",
    "\n",
    "hopper_model = HopperDynamics()\n",
    "\n",
    "def loss(x, u):\n",
    "    return ca.sumsqr(x-np.array([5.,0.]))\n",
    "# ca.sumsqr(u) + \n",
    "def phi(x):\n",
    "    return x[0]"
   ]
  },
  {
   "cell_type": "code",
   "execution_count": 3,
   "id": "3a60068d",
   "metadata": {},
   "outputs": [],
   "source": [
    "x  = ca.SX.sym('x', 2)\n",
    "u  = ca.SX.sym('u', 2)"
   ]
  },
  {
   "cell_type": "code",
   "execution_count": 4,
   "id": "385e74e3",
   "metadata": {},
   "outputs": [],
   "source": [
    "xnext = hopper_model.f(x, u)\n",
    "F = ca.Function('F',[x,u], [xnext])#, ['x, y'], ['ode1', 'ode2'])"
   ]
  },
  {
   "cell_type": "code",
   "execution_count": null,
   "id": "0ea37bc7",
   "metadata": {},
   "outputs": [],
   "source": [
    "opti = ca.Opti()\n",
    "tf = 5\n",
    "N = int(tf/hopper_model._dt)\n",
    "x = opti.variable(2, N+1) # Decision variables for state trajetcory\n",
    "u = opti.variable(2, N)\n",
    "p  = opti.parameter(2, 1)  # initial cond Parameter (not optimized over)\n",
    "pf = opti.parameter(2,1)\n",
    "opti.minimize(loss(x,u))\n",
    "\n",
    "for k in range(N):\n",
    "  # opti.subject_to(x[:,k+1]==hopper_model.f(x[:,k],u[:,k]))\n",
    "  opti.subject_to(hopper_model.manip_eq(x[:,k+1],x[:,k],u[:,k])==0)\n",
    "  opti.subject_to(phi(x[:,k+1])>=0)\n",
    "  opti.subject_to((phi(x[:,k+1])*u[0,k])==0)\n",
    "  opti.subject_to(u[0,k]>=0)\n",
    "  # opti.subject_to(u[1,k]<=0)\n",
    "\n",
    "opti.subject_to(opti.bounded(-1,u[1,:],0))\n",
    "opti.subject_to(x[:,0]==p) #np.array([2.,0.]))\n",
    "# opti.subject_to(u>=0)\n",
    "# opti.subject_to(x[:,-1]==pf) #np.array([10.,0.]))\n"
   ]
  },
  {
   "cell_type": "code",
   "execution_count": null,
   "id": "8693f38e",
   "metadata": {},
   "outputs": [
    {
     "name": "stdout",
     "output_type": "stream",
     "text": [
      "This is Ipopt version 3.14.5, running with linear solver MUMPS 5.2.1.\n",
      "\n",
      "Number of nonzeros in equality constraint Jacobian...:      452\n",
      "Number of nonzeros in inequality constraint Jacobian.:      150\n",
      "Number of nonzeros in Lagrangian Hessian.............:      152\n",
      "\n",
      "Total number of variables............................:      202\n",
      "                     variables with only lower bounds:        0\n",
      "                variables with lower and upper bounds:        0\n",
      "                     variables with only upper bounds:        0\n",
      "Total number of equality constraints.................:      152\n",
      "Total number of inequality constraints...............:      150\n",
      "        inequality constraints with only lower bounds:      100\n",
      "   inequality constraints with lower and upper bounds:       50\n",
      "        inequality constraints with only upper bounds:        0\n",
      "\n",
      "iter    objective    inf_pr   inf_du lg(mu)  ||d||  lg(rg) alpha_du alpha_pr  ls\n",
      "   0  1.2750000e+03 5.00e+00 1.00e+01  -1.0 0.00e+00    -  0.00e+00 0.00e+00   0\n",
      "   1  1.2735132e+03 4.98e+00 9.95e+00  -1.0 8.00e+00    -  2.26e-03 4.98e-03f  1\n",
      "   2  1.2735368e+03 4.96e+00 4.07e+01  -1.0 1.76e+01    -  7.22e-05 2.07e-03h  1\n",
      "   3  1.2729662e+03 4.96e+00 4.06e+01  -1.0 2.76e+01    -  1.19e-03 1.63e-03f  1\n",
      "   4  1.2693567e+03 4.86e+00 2.64e+02  -1.0 9.74e+00    -  3.79e-03 1.93e-02f  1\n",
      "   5  1.2686789e+03 4.84e+00 2.60e+02  -1.0 7.17e+00   2.0 2.00e-03 3.31e-03h  1\n",
      "   6  1.2672810e+03 4.81e+00 2.49e+02  -1.0 8.48e+00   1.5 1.15e-02 6.46e-03f  1\n",
      "   7  1.2627423e+03 4.71e+00 4.18e+02  -1.0 8.98e+00   1.0 4.97e-03 2.17e-02f  1\n",
      "   8  1.2594213e+03 4.62e+00 4.07e+02  -1.0 8.76e+00   1.5 5.00e-02 1.86e-02f  1\n",
      "   9  1.2552459e+03 4.50e+00 1.40e+02  -1.0 8.66e+00   1.0 1.78e-02 2.61e-02f  1\n",
      "iter    objective    inf_pr   inf_du lg(mu)  ||d||  lg(rg) alpha_du alpha_pr  ls\n",
      "  10  1.2549095e+03 4.49e+00 1.05e+03  -1.0 8.47e+00    -  1.46e-01 2.13e-03h  1\n",
      "  11  1.2544684e+03 4.48e+00 6.43e+03  -1.0 8.55e+00    -  1.69e-02 2.82e-03f  1\n",
      "  12  1.2544378e+03 4.48e+00 1.95e+03  -1.0 4.86e+02    -  9.16e-05 2.27e-04h  1\n",
      "  13  1.2544342e+03 4.48e+00 3.06e+04  -1.0 2.62e+03    -  9.79e-05 2.64e-05h  1\n",
      "  14  1.2544249e+03 4.48e+00 5.08e+03  -1.0 3.31e+03    -  1.83e-05 6.26e-05h  1\n",
      "  15r 1.2544249e+03 4.48e+00 1.00e+03   0.7 0.00e+00    -  0.00e+00 4.19e-07R  4\n",
      "  16r 1.2383724e+03 3.03e+00 9.48e+02   0.7 4.70e+01    -  1.42e-01 5.08e-02f  1\n",
      "  17  1.2391705e+03 2.99e+00 7.26e+01  -1.0 6.01e+00    -  2.12e-01 1.45e-02h  1\n",
      "  18  1.2394404e+03 2.97e+00 1.16e+02  -1.0 3.18e+01    -  7.98e-03 4.61e-03h  1\n",
      "  19  1.2398562e+03 2.95e+00 8.83e+01  -1.0 5.25e+01    -  1.42e-04 6.34e-03h  1\n",
      "iter    objective    inf_pr   inf_du lg(mu)  ||d||  lg(rg) alpha_du alpha_pr  ls\n",
      "  20  1.2403815e+03 2.93e+00 3.19e+02  -1.0 8.21e+01    -  1.56e-02 8.00e-03h  1\n",
      "  21  1.2404155e+03 2.93e+00 9.42e+03  -1.0 1.56e+02    -  5.68e-03 5.54e-04h  1\n",
      "  22  1.2404271e+03 2.93e+00 6.75e+04  -1.0 3.06e+02    -  1.53e-03 2.47e-04h  1\n",
      "  23  1.2404244e+03 2.93e+00 4.47e+04  -1.0 8.25e+03    -  3.38e-05 4.97e-05h  1\n",
      "  24  1.2404319e+03 2.93e+00 1.03e+05  -1.0 1.29e+04    -  1.20e-05 7.01e-06h  1\n",
      "  25  1.2405231e+03 2.93e+00 4.18e+04  -1.0 3.93e+04    -  2.72e-06 9.18e-06h  1\n",
      "  26  1.2405698e+03 2.93e+00 2.05e+04  -1.0 5.88e+04    -  4.59e-06 4.26e-06h  1\n",
      "  27  1.2406075e+03 2.93e+00 4.12e+05  -1.0 8.75e+04    -  5.89e-06 3.38e-06h  1\n",
      "  28  1.2406256e+03 2.93e+00 2.66e+06  -1.0 1.06e+05    -  3.68e-06 1.55e-06h  1\n",
      "  29  1.2406648e+03 2.93e+00 1.03e+06  -1.0 8.29e+05    -  1.19e-07 3.66e-07h  1\n",
      "iter    objective    inf_pr   inf_du lg(mu)  ||d||  lg(rg) alpha_du alpha_pr  ls\n",
      "  30  1.2406775e+03 2.93e+00 1.06e+07  -1.0 2.59e+06    -  1.54e-07 5.95e-08h  1\n",
      "  31  1.2407017e+03 2.93e+00 4.30e+07  -1.0 5.06e+06    -  1.13e-07 5.05e-08h  1\n",
      "  32  1.2407681e+03 2.93e+00 1.07e+07  -1.0 1.00e+07    -  9.09e-09 2.55e-08h  1\n",
      "In iteration 32, 1 Slack too small, adjusting variable bound\n",
      "  33  1.2408207e+03 2.93e+00 1.86e+07  -1.0 2.12e+07    -  9.81e-09 1.06e-08h  1\n",
      "In iteration 33, 1 Slack too small, adjusting variable bound\n",
      "  34  1.2408759e+03 2.93e+00 3.32e+07  -1.0 4.06e+07    -  7.89e-09 8.48e-09h  1\n",
      "In iteration 34, 1 Slack too small, adjusting variable bound\n",
      "  35  1.2409013e+03 2.93e+00 7.62e+08  -1.0 2.53e+07    -  2.64e-08 8.86e-09h  1\n",
      "In iteration 35, 1 Slack too small, adjusting variable bound\n",
      "  36  1.2409249e+03 2.93e+00 3.45e+08  -1.0 1.90e+07    -  5.00e-09 6.78e-09h  1\n",
      "In iteration 36, 1 Slack too small, adjusting variable bound\n",
      "  37  1.2409501e+03 2.93e+00 2.44e+08  -1.0 4.91e+06    -  4.53e-08 4.70e-08h  1\n",
      "In iteration 37, 3 Slacks too small, adjusting variable bounds\n",
      "  38  1.2409689e+03 2.93e+00 6.24e+09  -1.0 8.83e+07    -  5.10e-09 2.41e-09h  1\n",
      "In iteration 38, 1 Slack too small, adjusting variable bound\n",
      "  39  1.2409931e+03 2.93e+00 1.99e+10  -1.0 5.87e+05    -  6.91e-07 3.80e-07h  1\n",
      "In iteration 39, 1 Slack too small, adjusting variable bound\n",
      "iter    objective    inf_pr   inf_du lg(mu)  ||d||  lg(rg) alpha_du alpha_pr  ls\n",
      "  40  1.2410802e+03 2.93e+00 1.36e+10  -1.0 5.01e+05    -  2.17e-07 7.67e-07h  1\n",
      "In iteration 40, 3 Slacks too small, adjusting variable bounds\n",
      "  41  1.2411204e+03 2.93e+00 1.48e+10  -1.0 5.25e+06    -  3.29e-08 3.36e-08h  1\n",
      "In iteration 41, 1 Slack too small, adjusting variable bound\n",
      "  42  1.2411701e+03 2.93e+00 2.11e+10  -1.0 2.47e+05    -  1.37e-06 1.44e-06h  1\n",
      "In iteration 42, 1 Slack too small, adjusting variable bound\n",
      "  43  1.2411920e+03 2.93e+00 5.17e+11  -1.0 7.66e+04    -  9.56e-06 2.82e-06h  1\n",
      "In iteration 43, 1 Slack too small, adjusting variable bound\n",
      "  44  1.2412253e+03 2.93e+00 1.55e+10  -1.0 1.29e+04    -  7.70e-06 1.68e-05h  1\n",
      "In iteration 44, 1 Slack too small, adjusting variable bound\n",
      "  45  1.2412445e+03 2.93e+00 8.89e+11  -1.0 1.22e+04    -  2.61e-05 1.59e-05h  1\n",
      "  46  1.2412445e+03 2.93e+00 5.21e+08  -1.0 7.54e-07  14.8 1.00e+00 1.00e+00f  1\n",
      "  47  1.2412445e+03 2.93e+00 5.21e+08  -1.0 5.69e+03  14.4 6.30e-13 6.30e-13s  2\n",
      "  48  1.2412445e+03 2.93e+00 1.03e+09  -1.0 6.36e-07  15.2 9.87e-01 9.87e-01s  2\n",
      "  49r 1.2412445e+03 2.93e+00 1.00e+03   0.5 0.00e+00  14.7 0.00e+00 0.00e+00R  1\n",
      "iter    objective    inf_pr   inf_du lg(mu)  ||d||  lg(rg) alpha_du alpha_pr  ls\n",
      "  50r 1.2750444e+03 2.02e+00 9.92e+02   0.5 2.15e+02    -  7.83e-03 7.50e-03f  1\n",
      "  51  1.2750475e+03 2.02e+00 1.03e+01  -1.0 4.92e+00    -  1.47e-04 3.02e-05h  1\n",
      "  52  1.2846559e+03 1.90e+00 8.65e+05  -1.0 4.45e+01    -  1.56e-04 6.11e-02f  4\n",
      "  53  1.2850969e+03 1.89e+00 2.04e+12  -1.0 2.74e+00  14.3 3.92e-01 4.09e-03h  1\n",
      "  54  1.2851014e+03 1.89e+00 2.05e+12  -1.0 2.73e+00  13.8 1.50e-02 4.11e-05h  1\n",
      "  55r 1.2851014e+03 1.89e+00 1.00e+03   0.3 0.00e+00  13.3 0.00e+00 2.06e-07R  2\n",
      "  56r 1.3245812e+03 1.28e+00 9.96e+02   0.3 3.13e+02    -  3.85e-03 4.32e-03f  1\n",
      "  57  1.3857112e+03 6.45e-01 1.60e+02  -1.0 3.85e+00    -  5.67e-01 4.96e-01h  1\n",
      "  58  1.4546475e+03 9.46e-02 1.03e+02  -1.0 2.95e+00    -  2.86e-01 8.53e-01h  1\n",
      "  59  1.4656845e+03 1.54e-02 2.04e+02  -1.0 5.03e-01    -  9.53e-01 8.37e-01h  1\n",
      "iter    objective    inf_pr   inf_du lg(mu)  ||d||  lg(rg) alpha_du alpha_pr  ls\n",
      "  60  1.4677943e+03 3.26e-03 3.37e+04  -1.0 6.87e-01    -  1.00e+00 7.88e-01h  1\n",
      "  61  1.4678184e+03 1.66e-03 2.23e+04  -1.0 2.12e+00    -  6.01e-01 4.93e-01h  1\n",
      "  62  1.4679738e+03 1.60e-04 8.78e+03  -1.0 3.34e-01    -  1.00e+00 9.03e-01h  1\n",
      "  63  1.4680364e+03 2.36e-06 8.16e+04  -1.0 3.49e-01    -  1.00e+00 9.85e-01h  1\n",
      "  64  1.4679955e+03 7.07e-09 1.87e+05  -1.0 2.31e-01    -  1.00e+00 1.00e+00h  1\n",
      "  65  1.4679980e+03 3.04e-10 3.06e+05  -1.0 7.21e-02    -  1.00e+00 1.00e+00f  1\n",
      "  66  1.4679972e+03 6.36e-12 5.36e+04  -1.0 3.13e-02    -  1.00e+00 1.00e+00h  1\n",
      "  67  1.4679972e+03 6.03e-16 1.95e+00  -1.0 1.48e-04    -  1.00e+00 1.00e+00f  1\n",
      "  68  1.4674549e+03 5.60e-14 2.72e+05  -5.7 7.80e-02    -  9.69e-01 9.77e-01f  1\n",
      "  69  1.4674173e+03 8.38e-14 9.40e+02  -5.7 5.15e-03    -  9.99e-01 1.00e+00f  1\n",
      "iter    objective    inf_pr   inf_du lg(mu)  ||d||  lg(rg) alpha_du alpha_pr  ls\n",
      "  70  1.4674172e+03 2.50e-16 8.33e-03  -5.7 2.28e-05    -  1.00e+00 1.00e+00f  1\n",
      "  71  1.4674172e+03 4.44e-16 4.39e-08  -5.7 2.06e-05    -  1.00e+00 1.00e+00h  1\n",
      "  72  1.4674172e+03 1.39e-16 1.11e-04  -8.6 1.54e-06    -  1.00e+00 1.00e+00f  1\n",
      "  73  1.4674172e+03 1.11e-16 2.51e-14  -8.6 2.52e-10    -  1.00e+00 1.00e+00h  1\n",
      "\n",
      "Number of Iterations....: 73\n",
      "\n",
      "                                   (scaled)                 (unscaled)\n",
      "Objective...............:   1.4674171623952914e+03    1.4674171623952914e+03\n",
      "Dual infeasibility......:   2.5091040356528538e-14    2.5091040356528538e-14\n",
      "Constraint violation....:   1.1102230246251565e-16    1.1102230246251565e-16\n",
      "Variable bound violation:   0.0000000000000000e+00    0.0000000000000000e+00\n",
      "Complementarity.........:   2.5059035596801263e-09    2.5059035596801263e-09\n",
      "Overall NLP error.......:   2.5059035596801263e-09    2.5059035596801263e-09\n",
      "\n",
      "\n",
      "Number of objective function evaluations             = 87\n",
      "Number of objective gradient evaluations             = 74\n",
      "Number of equality constraint evaluations            = 87\n",
      "Number of inequality constraint evaluations          = 87\n",
      "Number of equality constraint Jacobian evaluations   = 77\n",
      "Number of inequality constraint Jacobian evaluations = 77\n",
      "Number of Lagrangian Hessian evaluations             = 73\n",
      "Total seconds in IPOPT                               = 0.089\n",
      "\n",
      "EXIT: Optimal Solution Found.\n",
      "      solver  :   t_proc      (avg)   t_wall      (avg)    n_eval\n",
      "       nlp_f  | 118.00us (  1.36us) 113.54us (  1.31us)        87\n",
      "       nlp_g  | 311.00us (  3.57us) 225.71us (  2.59us)        87\n",
      "    nlp_grad  |  14.00us ( 14.00us)  10.13us ( 10.13us)         1\n",
      "  nlp_grad_f  | 135.00us (  1.80us) 125.71us (  1.68us)        75\n",
      "  nlp_hess_l  |  84.00us (  1.20us)  75.16us (  1.07us)        70\n",
      "   nlp_jac_g  | 237.00us (  3.04us) 232.30us (  2.98us)        78\n",
      "       total  |  90.45ms ( 90.45ms)  89.62ms ( 89.62ms)         1\n"
     ]
    }
   ],
   "source": [
    "p_opts = {\"expand\": True}\n",
    "s_opts = {\"max_iter\": 100000}\n",
    "opti.solver('ipopt', p_opts, s_opts)\n",
    "\n",
    "# And choose a concrete value for p\n",
    "opti.set_value(p, [5.,0.])\n",
    "# opti.set_value(pf, [1.1 ,0.])\n",
    "sol = opti.solve()"
   ]
  },
  {
   "cell_type": "code",
   "execution_count": null,
   "id": "f6b4eb91",
   "metadata": {},
   "outputs": [
    {
     "data": {
      "text/plain": [
       "[<matplotlib.lines.Line2D at 0x141831e50>,\n",
       " <matplotlib.lines.Line2D at 0x141831e80>]"
      ]
     },
     "execution_count": 55,
     "metadata": {},
     "output_type": "execute_result"
    },
    {
     "data": {
      "image/png": "[encoded data removed]",
      "text/plain": [
       "<Figure size 432x288 with 1 Axes>"
      ]
     },
     "metadata": {
      "needs_background": "light"
     },
     "output_type": "display_data"
    }
   ],
   "source": [
    "# plt.plot(opti.debug.value(x).T)\n",
    "# plt.plot(opti.debug.value(u).T)\n",
    "\n",
    "plt.plot(sol.value(x).T)\n",
    "plt.plot(sol.value(u).T)"
   ]
  },
  {
   "cell_type": "code",
   "execution_count": 153,
   "id": "d37c6705",
   "metadata": {},
   "outputs": [
    {
     "data": {
      "text/plain": [
       "<bound method OptiSol.stats of OptiSol(Opti {\n",
       "  instance #28\n",
       "  #variables: 2 (nx = 202)\n",
       "  #parameters: 1 (np = 2)\n",
       "  #constraints: 251 (ng = 302)\n",
       "  CasADi solver allocated.\n",
       "  CasADi solver was called: Solve_Succeeded\n",
       "})>"
      ]
     },
     "execution_count": 153,
     "metadata": {},
     "output_type": "execute_result"
    }
   ],
   "source": [
    "sol.stats"
   ]
  },
  {
   "cell_type": "code",
   "execution_count": 3,
   "id": "8dba86ef",
   "metadata": {},
   "outputs": [],
   "source": [
    "def ineq_constr(x, args):\n",
    "    q = x[:,:2]\n",
    "    f = x[:,2:]\n",
    "    _phi_out = vmap(phi)(q)\n",
    "    return jnp.concatenate([-_phi_out, -f[:,0]])\n",
    "\n",
    "def eq_constr(x, args):\n",
    "    q = x[:,:2]\n",
    "    f = x[:,2:]\n",
    "    q0 = args['q0']\n",
    "    qf = args['qf']\n",
    "    _phi_out = vmap(phi)(q)\n",
    "    return jnp.concatenate([\n",
    "        (q[0] - q0).flatten(),\n",
    "        (q[1:,:]-vmap(hopper_model.f)(q[:-1,:], f[:-1,:])).flatten(),\n",
    "        (_phi_out*f[:,0]).flatten(),\n",
    "        (q[-1] - qf).flatten()\n",
    "    ])"
   ]
  },
  {
   "cell_type": "code",
   "execution_count": 4,
   "id": "9de76120",
   "metadata": {},
   "outputs": [],
   "source": [
    "args = {\n",
    "    'q0' : np.array([5.,0.]),\n",
    "    'qf' : np.array([10.,0.]) \n",
    "}\n",
    "\n",
    "def loss(x, args):\n",
    "    q, f = x[:,:2], x[:,2:]\n",
    "    return jnp.array(0.)#jnp.mean(f**2)\n"
   ]
  },
  {
   "cell_type": "code",
   "execution_count": 5,
   "id": "003bb31c",
   "metadata": {},
   "outputs": [
    {
     "name": "stderr",
     "output_type": "stream",
     "text": [
      "WARNING:absl:No GPU/TPU found, falling back to CPU. (Set TF_CPP_MIN_LOG_LEVEL=0 and rerun for more info.)\n"
     ]
    }
   ],
   "source": [
    "time_horizon = int(6/hopper_model._dt)\n",
    "# q = jnp.linspace(args['q0'], args['qf'], time_horizon, endpoint=True)\n",
    "q = jnp.zeros((time_horizon, 2))\n",
    "u = jnp.zeros((time_horizon, 1))\n",
    "x = jnp.concatenate([q, u], axis=1)"
   ]
  },
  {
   "cell_type": "code",
   "execution_count": 6,
   "id": "06c59e19",
   "metadata": {},
   "outputs": [],
   "source": [
    "opt_solver = AugmentedLagrangian(x, loss, eq_constr, ineq_constr, args=args, step_size=1e-3, c=1.0)"
   ]
  },
  {
   "cell_type": "code",
   "execution_count": 7,
   "id": "f2a20dee",
   "metadata": {},
   "outputs": [
    {
     "data": {
      "text/plain": [
       "False"
      ]
     },
     "execution_count": 7,
     "metadata": {},
     "output_type": "execute_result"
    }
   ],
   "source": [
    "opt_solver.solve(eps=1e-5)"
   ]
  },
  {
   "cell_type": "code",
   "execution_count": 8,
   "id": "c8f7b798",
   "metadata": {},
   "outputs": [],
   "source": [
    "sol = opt_solver.get_solution()"
   ]
  },
  {
   "cell_type": "code",
   "execution_count": 12,
   "id": "d905199c",
   "metadata": {},
   "outputs": [
    {
     "data": {
      "text/plain": [
       "[<matplotlib.lines.Line2D at 0x7f292c02fc10>]"
      ]
     },
     "execution_count": 12,
     "metadata": {},
     "output_type": "execute_result"
    },
    {
     "data": {
      "image/png": "[encoded data removed]",
      "text/plain": [
       "<Figure size 640x480 with 1 Axes>"
      ]
     },
     "metadata": {},
     "output_type": "display_data"
    }
   ],
   "source": [
    "plt.plot(sol['x'][:,0])"
   ]
  },
  {
   "cell_type": "code",
   "execution_count": 35,
   "id": "4f0ff73c",
   "metadata": {},
   "outputs": [
    {
     "data": {
      "text/plain": [
       "[<matplotlib.lines.Line2D at 0x7fc76810bfd0>]"
      ]
     },
     "execution_count": 35,
     "metadata": {},
     "output_type": "execute_result"
    },
    {
     "data": {
      "image/png": "[encoded data removed]",
      "text/plain": [
       "<Figure size 640x480 with 1 Axes>"
      ]
     },
     "metadata": {},
     "output_type": "display_data"
    }
   ],
   "source": [
    "plt.plot(eq_constr(sol['x'], args))"
   ]
  },
  {
   "cell_type": "code",
   "execution_count": 25,
   "id": "4b826d45",
   "metadata": {},
   "outputs": [
    {
     "data": {
      "text/plain": [
       "[<matplotlib.lines.Line2D at 0x7fc80b90b6a0>,\n",
       " <matplotlib.lines.Line2D at 0x7fc7683476a0>,\n",
       " <matplotlib.lines.Line2D at 0x7fc768347b20>]"
      ]
     },
     "execution_count": 25,
     "metadata": {},
     "output_type": "execute_result"
    },
    {
     "data": {
      "image/png": "[encoded data removed]",
      "text/plain": [
       "<Figure size 640x480 with 1 Axes>"
      ]
     },
     "metadata": {},
     "output_type": "display_data"
    }
   ],
   "source": [
    "plt.plot(sol['x'])"
   ]
  },
  {
   "cell_type": "code",
   "execution_count": null,
   "id": "cc413585",
   "metadata": {},
   "outputs": [],
   "source": []
  }
 ],
 "metadata": {
  "kernelspec": {
   "display_name": "Python 3.9.12 ('base')",
   "language": "python",
   "name": "python3"
  },
  "language_info": {
   "codemirror_mode": {
    "name": "ipython",
    "version": 3
   },
   "file_extension": ".py",
   "mimetype": "text/x-python",
   "name": "python",
   "nbconvert_exporter": "python",
   "pygments_lexer": "ipython3",
   "version": "3.9.12"
  },
  "vscode": {
   "interpreter": {
    "hash": "124f82865e6799d231a33f8c2a341184b91ec874be3ef3d3c175a1ae6d68a66e"
   }
  }
 },
 "nbformat": 4,
 "nbformat_minor": 5
}
