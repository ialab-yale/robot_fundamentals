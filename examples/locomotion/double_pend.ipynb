{
 "cells": [
  {
   "cell_type": "code",
   "execution_count": 1,
   "metadata": {},
   "outputs": [
    {
     "name": "stderr",
     "output_type": "stream",
     "text": [
      "<frozen importlib._bootstrap>:228: RuntimeWarning: scipy._lib.messagestream.MessageStream size changed, may indicate binary incompatibility. Expected 56 from C header, got 64 from PyObject\n"
     ]
    }
   ],
   "source": [
    "import jax\n",
    "import jax.numpy as jnp\n",
    "from jax import jit, grad, jacfwd, hessian\n",
    "import numpy as np\n",
    "from numpy.linalg import inv, pinv\n",
    "import matplotlib.pyplot as plt\n",
    "\n",
    "from viewer import DoublePendViewer\n",
    "import time"
   ]
  },
  {
   "cell_type": "code",
   "execution_count": 2,
   "metadata": {},
   "outputs": [],
   "source": [
    "def rk4_step(f, x, h):\n",
    "    # one step of runge-kutta integration\n",
    "    k1 = h * f(x)\n",
    "    k2 = h * f(x + k1/2)\n",
    "    k3 = h * f(x + k2/2)\n",
    "    k4 = h * f(x + k3)\n",
    "    return x + 1/6 * (k1 + 2 * k2 + 2 * k3 + k4)"
   ]
  },
  {
   "cell_type": "code",
   "execution_count": 3,
   "metadata": {},
   "outputs": [],
   "source": [
    "l1 = 1.0\n",
    "l2 = 1.0 \n",
    "m1 = 1.0 \n",
    "m2 = 1.0\n",
    "def p1(q):\n",
    "    th1, th2 = q\n",
    "    return jnp.array([\n",
    "        l1 * jnp.sin(th1),\n",
    "        -l1 * jnp.cos(th1)\n",
    "    ])\n",
    "jac_p1 = jacfwd(p1)\n",
    "def p2(q):\n",
    "    th1, th2 = q\n",
    "    return p1(q) + jnp.array([\n",
    "        l2 * jnp.sin(th1+th2),\n",
    "        -l2 * jnp.cos(th1+th2)\n",
    "    ])\n",
    "jac_p2 = jacfwd(p2)\n",
    "\n",
    "def phi(q):\n",
    "    x,y = p2(q)\n",
    "    return x\n",
    "\n",
    "def contact_loc(q):\n",
    "    return p2(q)\n",
    "\n",
    "contact_jac = jacfwd(contact_loc)"
   ]
  },
  {
   "cell_type": "code",
   "execution_count": 4,
   "metadata": {},
   "outputs": [],
   "source": [
    "q = np.array([0.7, 0.6])\n",
    "qdot = np.array([7.8,6.07])\n",
    "_M1 = np.diag([m1, m1])\n",
    "_M2 = np.diag([m2, m2])\n",
    "\n",
    "def K(q, qdot):\n",
    "    v1 = jac_p1(q) @ qdot \n",
    "    v2 = jac_p2(q) @ qdot \n",
    "    return 0.5 * v1 @ _M1 @ v1 + 0.5 * v2 @ _M2 @ v2\n",
    "    # return 0.5 * m1* v1 @ v1 + 0.5 * m2* v2 @ v2\n",
    "\n",
    "def V(q):\n",
    "    return m1 * 9.81 * p1(q)[1] + m2 * 9.81 * p2(q)[1]\n",
    "\n",
    "def L(q, qdot):\n",
    "    return K(q, qdot) - V(q)\n",
    "\n",
    "def M_derived(q, qdot):\n",
    "    return hessian(L, 1)(q, qdot)\n",
    "\n",
    "def C_derived(q, qdot):\n",
    "    return jacfwd(jacfwd(L,1),0)(q, qdot)\n",
    "\n",
    "def G_derived(q, qdot):\n",
    "    return jacfwd(L, 0)(q, qdot)\n",
    "\n",
    "@jit\n",
    "def f_derived(state):\n",
    "    q, qdot = jnp.split(state, 2)\n",
    "    qddot = jnp.linalg.pinv(M_derived(q, qdot)) \\\n",
    "            @ (G_derived(q, qdot) - C_derived(q,qdot) @ qdot )\n",
    "    return jnp.concatenate([qdot, qddot])\n",
    "\n",
    "def reset_map(q, qdot, q_c):\n",
    "    J = contact_jac(q_c)\n",
    "    _M_inv = inv(M_derived(q, qdot))\n",
    "    return (np.eye(qdot.shape[0]) - _M_inv@J.T@np.diag([2.0,2.0])@pinv(J@_M_inv@J.T)@J)@qdot"
   ]
  },
  {
   "cell_type": "code",
   "execution_count": 5,
   "metadata": {},
   "outputs": [],
   "source": [
    "def K_analytical(q,qdot):\n",
    "    return 0.5*(m1+m2)*l1**2*qdot[0]**2 \\\n",
    "            + 0.5 * m2*l2**2*(qdot[0]+qdot[1])**2 \\\n",
    "            + m2*l1*l2*qdot[0]*(qdot[0] + qdot[1])*np.cos(q[1])"
   ]
  },
  {
   "cell_type": "code",
   "execution_count": 6,
   "metadata": {},
   "outputs": [
    {
     "data": {
      "text/plain": [
       "246.31820883461847"
      ]
     },
     "execution_count": 6,
     "metadata": {},
     "output_type": "execute_result"
    }
   ],
   "source": [
    "K_analytical(q, qdot)"
   ]
  },
  {
   "cell_type": "code",
   "execution_count": 7,
   "metadata": {},
   "outputs": [
    {
     "data": {
      "text/plain": [
       "DeviceArray(246.31822, dtype=float32)"
      ]
     },
     "execution_count": 7,
     "metadata": {},
     "output_type": "execute_result"
    }
   ],
   "source": [
    "K(q,qdot)"
   ]
  },
  {
   "cell_type": "code",
   "execution_count": 8,
   "metadata": {},
   "outputs": [],
   "source": [
    "def M_analytical(q):\n",
    "    th1, th2 = q\n",
    "    c2 = np.cos(th2)\n",
    "    return np.array([\n",
    "        [(m1+m2)*l1**2 + m2*l2**2 + 2*m2*l1*l2*c2, m2*l2**2 + m2*l1*l2*c2],\n",
    "        [m2*l2**2 + m2*l1*l2*c2, m2*l2**2]\n",
    "    ])\n",
    "\n",
    "def C_analytical(q, qdot):\n",
    "    th1, th2 = q\n",
    "    th1d, th2d = qdot\n",
    "    s2 = np.sin(th2)\n",
    "    return np.array([\n",
    "        [0.0, -m2*l1*l2*(2*th1d+th2d)*s2],\n",
    "        [0.0, -m2*l1*l2*th1d*s2]\n",
    "    ])\n",
    "\n",
    "def G_analytical(q, qdot):\n",
    "    th1, th2 = q\n",
    "    th1d, th2d = qdot\n",
    "    s1 = np.sin(th1)\n",
    "    s2 = np.sin(th2)\n",
    "    s12 = np.sin(th1+th2)\n",
    "    return np.array([\n",
    "            -9.81 * (m1+m2)*l1*s1 + -9.81 * m2*l2*s12,\n",
    "            -m2*l1*l2*(th1d + th2d)*th1d*s2 - 9.81 * m2*l2*s12\n",
    "    ])\n",
    "\n",
    "def f_analytical(state):\n",
    "    q, qdot = np.split(state, 2)\n",
    "    qddot = np.linalg.pinv(M_analytical(q)) \\\n",
    "            @ (G_analytical(q, qdot) - C_analytical(q, qdot) @ qdot )\n",
    "    return np.concatenate([qdot, qddot])"
   ]
  },
  {
   "cell_type": "code",
   "execution_count": 9,
   "metadata": {},
   "outputs": [
    {
     "name": "stdout",
     "output_type": "stream",
     "text": [
      "[-22.092066 -70.53893 ]\n"
     ]
    },
    {
     "data": {
      "text/plain": [
       "array([-22.09205682, -70.53891643])"
      ]
     },
     "execution_count": 9,
     "metadata": {},
     "output_type": "execute_result"
    }
   ],
   "source": [
    "print(grad(L, 0)(q, qdot))\n",
    "G_analytical(q, qdot)"
   ]
  },
  {
   "cell_type": "code",
   "execution_count": 10,
   "metadata": {},
   "outputs": [
    {
     "name": "stdout",
     "output_type": "stream",
     "text": [
      "[[-1.2363261e-06 -1.2235803e+01]\n",
      " [ 4.7683716e-07 -4.4042115e+00]]\n"
     ]
    },
    {
     "data": {
      "text/plain": [
       "array([[  0.        , -12.2358024 ],\n",
       "       [  0.        ,  -4.40421129]])"
      ]
     },
     "execution_count": 10,
     "metadata": {},
     "output_type": "execute_result"
    }
   ],
   "source": [
    "print(jacfwd(jacfwd(L,1),0)(q, qdot))\n",
    "C_analytical(q,qdot)"
   ]
  },
  {
   "cell_type": "code",
   "execution_count": 11,
   "metadata": {},
   "outputs": [
    {
     "name": "stdout",
     "output_type": "stream",
     "text": [
      "[[4.650672  1.8253357]\n",
      " [1.8253357 1.       ]]\n"
     ]
    },
    {
     "data": {
      "text/plain": [
       "array([[4.65067123, 1.82533561],\n",
       "       [1.82533561, 1.        ]])"
      ]
     },
     "execution_count": 11,
     "metadata": {},
     "output_type": "execute_result"
    }
   ],
   "source": [
    "print(hessian(L, 1)(q, qdot))\n",
    "M_analytical(q)"
   ]
  },
  {
   "cell_type": "code",
   "execution_count": 12,
   "metadata": {},
   "outputs": [
    {
     "name": "stdout",
     "output_type": "stream",
     "text": [
      "You can open the visualizer by visiting the following URL:\n",
      "http://127.0.0.1:7017/static/\n",
      "-0.01889214 [-0.01889214 -1.8854644 ]\n",
      "-0.018891156 [-0.01889116 -1.8854644 ]\n",
      "-0.01889062 [-0.01889062 -1.8854645 ]\n",
      "-0.018891513 [-0.01889151 -1.8854644 ]\n",
      "-0.018890828 [-0.01889083 -1.8854644 ]\n",
      "-0.018891037 [-0.01889104 -1.8854644 ]\n",
      "-0.018890828 [-0.01889083 -1.8854645 ]\n"
     ]
    }
   ],
   "source": [
    "trajectory = {'analytical' : [], 'derived' : [], 'lagrangian' : []}\n",
    "dt = 0.005\n",
    "tf = 10\n",
    "N = int(tf/dt)\n",
    "x0 = np.array([0.6,1.2,0.,0.])\n",
    "x0A = x0.copy()\n",
    "x0D = x0.copy()\n",
    "viewer = DoublePendViewer()\n",
    "viewer.open()\n",
    "for t in range(N):\n",
    "    # trajectory['analytical'].append(x0A[:2])\n",
    "    trajectory['derived'].append(x0D[:2])\n",
    "    # trajectory['lagrangian'].append(lagrangian(*np.split(x0A,2)))\n",
    "#     x0A = x0A + f_analytical(x0A)*dt\n",
    "#     x0D = x0D + f_derived(x0D)*dt\n",
    "    # x0A = rk4_step(f_analytical, x0A, dt)\n",
    "    x0D =  rk4_step(f_derived, x0D, dt)\n",
    "    q, qdot = np.split(x0D, 2)\n",
    "    if phi(q) <= 0:\n",
    "        print(phi(q), p2(q))\n",
    "        q_c = np.array([q[0], q[1]])\n",
    "        qdot = reset_map(q, qdot, q_c)\n",
    "        x0D = np.concatenate([q,qdot])\n",
    "    viewer.render(q)\n",
    "    time.sleep(dt)\n",
    "    "
   ]
  },
  {
   "cell_type": "code",
   "execution_count": 36,
   "metadata": {},
   "outputs": [
    {
     "data": {
      "text/plain": [
       "[<matplotlib.lines.Line2D at 0x17f3af730>,\n",
       " <matplotlib.lines.Line2D at 0x17e3dfd00>]"
      ]
     },
     "execution_count": 36,
     "metadata": {},
     "output_type": "execute_result"
    },
    {
     "data": {
      "image/png": "[encoded data removed]",
      "text/plain": [
       "<Figure size 432x288 with 1 Axes>"
      ]
     },
     "metadata": {
      "needs_background": "light"
     },
     "output_type": "display_data"
    }
   ],
   "source": [
    "# plt.plot(trajectory['analytical'], 'r')\n",
    "plt.plot(trajectory['derived'], 'k')"
   ]
  },
  {
   "cell_type": "code",
   "execution_count": 37,
   "metadata": {},
   "outputs": [
    {
     "data": {
      "text/plain": [
       "[<matplotlib.lines.Line2D at 0x17ef6fe20>,\n",
       " <matplotlib.lines.Line2D at 0x17effdcd0>]"
      ]
     },
     "execution_count": 37,
     "metadata": {},
     "output_type": "execute_result"
    },
    {
     "data": {
      "image/png": "[encoded data removed]",
      "text/plain": [
       "<Figure size 432x288 with 1 Axes>"
      ]
     },
     "metadata": {
      "needs_background": "light"
     },
     "output_type": "display_data"
    }
   ],
   "source": [
    "plt.plot(jax.vmap(p2)(jnp.array(trajectory['derived'])[:,:2]))"
   ]
  },
  {
   "cell_type": "code",
   "execution_count": null,
   "metadata": {},
   "outputs": [],
   "source": []
  }
 ],
 "metadata": {
  "kernelspec": {
   "display_name": "Python 3.9.10 ('base')",
   "language": "python",
   "name": "python3"
  },
  "language_info": {
   "codemirror_mode": {
    "name": "ipython",
    "version": 3
   },
   "file_extension": ".py",
   "mimetype": "text/x-python",
   "name": "python",
   "nbconvert_exporter": "python",
   "pygments_lexer": "ipython3",
   "version": "3.9.10"
  },
  "orig_nbformat": 4,
  "vscode": {
   "interpreter": {
    "hash": "798b538306534186ead633776371254f522515bdb811fa2fd0b251c0d7733175"
   }
  }
 },
 "nbformat": 4,
 "nbformat_minor": 2
}
