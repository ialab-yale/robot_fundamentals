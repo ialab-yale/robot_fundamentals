{
 "cells": [
  {
   "cell_type": "markdown",
   "id": "a6297dea-f1c8-4f1c-8135-271ac5c641db",
   "metadata": {},
   "source": [
    "# Inverse Kinematics and PID control\n",
    "In this homework assignemnt, you will be tasked with creating an IK solver and controlling a robot arm using PID control (specifically the Franka Panda 7DoF robot). We will be creating two versions of the controller, one that uses pure velocity control and another that using torque control with feedforward dynamics. "
   ]
  },
  {
   "cell_type": "markdown",
   "id": "ea15eb8d-c2b3-48d2-98a7-9279819d3fa9",
   "metadata": {},
   "source": [
    "### Import mujoco and numpy"
   ]
  },
  {
   "cell_type": "code",
   "execution_count": 1,
   "id": "8a242e6e-aa40-499d-8871-20c6b4a2fffd",
   "metadata": {},
   "outputs": [],
   "source": [
    "import mujoco\n",
    "import mujoco_viewer\n",
    "import numpy as np\n",
    "from numpy.linalg import inv, pinv\n",
    "import scipy as sp\n",
    "\n",
    "from utils import rot_err, getSitePose, getSiteJacobian, getMassMatrix, getBiasTerms, getOSMassMatrix\n",
    "from autograder import autograder\n",
    "from sim import Sim\n",
    "\n",
    "sim = Sim(fname='./a1/xml/a1.xml')"
   ]
  },
  {
   "cell_type": "code",
   "execution_count": 2,
   "id": "8dba86ef",
   "metadata": {},
   "outputs": [],
   "source": [
    "\n",
    "class OperationalSpaceControl(object):\n",
    "    def __init__(self, model, data) -> None:\n",
    "        self._model = model\n",
    "        self._data  = data \n",
    "        self._foot_site_names = [\n",
    "            \"FR_foot\", \"FL_foot\", \"RR_foot\", \"RL_foot\"\n",
    "        ]\n",
    "        self._kp = 300.\n",
    "        self._kd = 20.\n",
    "\n",
    "    def __call__(self, ref_foot_pos):\n",
    "        mass_matrix = getMassMatrix(self._model, self._data)\n",
    "        bias        = getBiasTerms(self._model, self._data)\n",
    "        tau = bias \n",
    "\n",
    "        for _foot_name in self._foot_site_names:\n",
    "            (R_f, p_f) = getSitePose(self._model, self._data, _foot_name)\n",
    "            jac_f      = getSiteJacobian(self._model, self._data, _foot_name)\n",
    "            v_f        = jac_f @ self._data.qvel\n",
    "            (R_d, p_d) = ref_foot_pos[_foot_name]\n",
    "\n",
    "            err_p   = p_d - p_f\n",
    "            err_rot = rot_err(R_d, R_f)\n",
    "            err     = np.concatenate([err_p, err_rot])\n",
    "\n",
    "            ### calculate the xddot_des in operational space \n",
    "            xddot_des = self._kp * err + self._kd *(-v_f)\n",
    "\n",
    "            ### calculate the operational space mass matrix \n",
    "            op_mass_matrix = getOSMassMatrix(mass_matrix, jac_f)\n",
    "\n",
    "            tau += inv(mass_matrix) @ jac_f.T @ op_mass_matrix @ xddot_des\n",
    "\n",
    "        return tau\n",
    "        "
   ]
  },
  {
   "cell_type": "code",
   "execution_count": 3,
   "id": "003bb31c",
   "metadata": {},
   "outputs": [],
   "source": [
    "ctrlr = OperationalSpaceControl(sim.model, sim.data)\n",
    "ref_foot_pos = {}\n",
    "for _ft_name in ctrlr._foot_site_names:\n",
    "    ref_foot_pos[_ft_name] = (np.eye(3), np.array([0., 0., 0.]))"
   ]
  },
  {
   "cell_type": "code",
   "execution_count": 4,
   "id": "06c59e19",
   "metadata": {},
   "outputs": [
    {
     "name": "stderr",
     "output_type": "stream",
     "text": [
      "/home/anon/miniconda3/envs/meng443arm/lib/python3.10/site-packages/glfw/__init__.py:906: GLFWError: (65544) b'Wayland: Standard cursor shape unavailable'\n",
      "  warnings.warn(message, GLFWError)\n"
     ]
    },
    {
     "name": "stdout",
     "output_type": "stream",
     "text": [
      "Pressed ESC\n",
      "Quitting.\n"
     ]
    },
    {
     "ename": "KeyboardInterrupt",
     "evalue": "",
     "output_type": "error",
     "traceback": [
      "\u001b[0;31m---------------------------------------------------------------------------\u001b[0m",
      "\u001b[0;31mKeyboardInterrupt\u001b[0m                         Traceback (most recent call last)",
      "\u001b[1;32m/home/anon/Courses/robot_fundamentals/examples/locomotion/hw4.ipynb Cell 6\u001b[0m in \u001b[0;36m<cell line: 10>\u001b[0;34m()\u001b[0m\n\u001b[1;32m     <a href='vscode-notebook-cell:/home/anon/Courses/robot_fundamentals/examples/locomotion/hw4.ipynb#W4sZmlsZQ%3D%3D?line=10'>11</a>\u001b[0m \u001b[39mfor\u001b[39;00m _ft_name \u001b[39min\u001b[39;00m ctrlr\u001b[39m.\u001b[39m_foot_site_names:\n\u001b[1;32m     <a href='vscode-notebook-cell:/home/anon/Courses/robot_fundamentals/examples/locomotion/hw4.ipynb#W4sZmlsZQ%3D%3D?line=11'>12</a>\u001b[0m     ref_foot_pos[_ft_name] \u001b[39m=\u001b[39m (np\u001b[39m.\u001b[39meye(\u001b[39m3\u001b[39m), np\u001b[39m.\u001b[39marray([np\u001b[39m.\u001b[39msin(t\u001b[39m*\u001b[39m\u001b[39m0.01\u001b[39m), \u001b[39m0.\u001b[39m, \u001b[39m0.\u001b[39m]))\n\u001b[0;32m---> <a href='vscode-notebook-cell:/home/anon/Courses/robot_fundamentals/examples/locomotion/hw4.ipynb#W4sZmlsZQ%3D%3D?line=12'>13</a>\u001b[0m tau \u001b[39m=\u001b[39m ctrlr(ref_foot_pos)\n\u001b[1;32m     <a href='vscode-notebook-cell:/home/anon/Courses/robot_fundamentals/examples/locomotion/hw4.ipynb#W4sZmlsZQ%3D%3D?line=13'>14</a>\u001b[0m sim\u001b[39m.\u001b[39mdata\u001b[39m.\u001b[39mctrl \u001b[39m=\u001b[39m tau\n\u001b[1;32m     <a href='vscode-notebook-cell:/home/anon/Courses/robot_fundamentals/examples/locomotion/hw4.ipynb#W4sZmlsZQ%3D%3D?line=14'>15</a>\u001b[0m mujoco\u001b[39m.\u001b[39mmj_step(sim\u001b[39m.\u001b[39mmodel, sim\u001b[39m.\u001b[39mdata)\n",
      "\u001b[1;32m/home/anon/Courses/robot_fundamentals/examples/locomotion/hw4.ipynb Cell 6\u001b[0m in \u001b[0;36mOperationalSpaceControl.__call__\u001b[0;34m(self, ref_foot_pos)\u001b[0m\n\u001b[1;32m     <a href='vscode-notebook-cell:/home/anon/Courses/robot_fundamentals/examples/locomotion/hw4.ipynb#W4sZmlsZQ%3D%3D?line=26'>27</a>\u001b[0m     xddot_des \u001b[39m=\u001b[39m \u001b[39mself\u001b[39m\u001b[39m.\u001b[39m_kp \u001b[39m*\u001b[39m err \u001b[39m+\u001b[39m \u001b[39mself\u001b[39m\u001b[39m.\u001b[39m_kd \u001b[39m*\u001b[39m(\u001b[39m-\u001b[39mv_f)\n\u001b[1;32m     <a href='vscode-notebook-cell:/home/anon/Courses/robot_fundamentals/examples/locomotion/hw4.ipynb#W4sZmlsZQ%3D%3D?line=28'>29</a>\u001b[0m     \u001b[39m### calculate the operational space mass matrix \u001b[39;00m\n\u001b[0;32m---> <a href='vscode-notebook-cell:/home/anon/Courses/robot_fundamentals/examples/locomotion/hw4.ipynb#W4sZmlsZQ%3D%3D?line=29'>30</a>\u001b[0m     op_mass_matrix \u001b[39m=\u001b[39m getOSMassMatrix(mass_matrix, jac_f)\n\u001b[1;32m     <a href='vscode-notebook-cell:/home/anon/Courses/robot_fundamentals/examples/locomotion/hw4.ipynb#W4sZmlsZQ%3D%3D?line=31'>32</a>\u001b[0m     tau \u001b[39m+\u001b[39m\u001b[39m=\u001b[39m inv(mass_matrix) \u001b[39m@\u001b[39m jac_f\u001b[39m.\u001b[39mT \u001b[39m@\u001b[39m op_mass_matrix \u001b[39m@\u001b[39m xddot_des\n\u001b[1;32m     <a href='vscode-notebook-cell:/home/anon/Courses/robot_fundamentals/examples/locomotion/hw4.ipynb#W4sZmlsZQ%3D%3D?line=33'>34</a>\u001b[0m \u001b[39mreturn\u001b[39;00m tau\n",
      "File \u001b[0;32m~/Courses/robot_fundamentals/examples/locomotion/utils.py:95\u001b[0m, in \u001b[0;36mgetOSMassMatrix\u001b[0;34m(mass_matrix, jac)\u001b[0m\n\u001b[1;32m     90\u001b[0m \u001b[39mdef\u001b[39;00m \u001b[39mgetOSMassMatrix\u001b[39m(mass_matrix, jac):\n\u001b[1;32m     91\u001b[0m     \u001b[39m\"\"\"\u001b[39;00m\n\u001b[1;32m     92\u001b[0m \u001b[39m        This function takes in the mass matrix and a jacobian matrix and returns \u001b[39;00m\n\u001b[1;32m     93\u001b[0m \u001b[39m        the operational space matrix M_x(q) = (J M^{-1} J.T)^{-1}\u001b[39;00m\n\u001b[1;32m     94\u001b[0m \u001b[39m    \"\"\"\u001b[39;00m\n\u001b[0;32m---> 95\u001b[0m     \u001b[39mreturn\u001b[39;00m pinv(jac\u001b[39m@np\u001b[39m\u001b[39m.\u001b[39;49mlinalg\u001b[39m.\u001b[39;49minv(mass_matrix)\u001b[39m@jac\u001b[39m\u001b[39m.\u001b[39mT)\n",
      "File \u001b[0;32m<__array_function__ internals>:180\u001b[0m, in \u001b[0;36minv\u001b[0;34m(*args, **kwargs)\u001b[0m\n",
      "File \u001b[0;32m~/miniconda3/envs/meng443arm/lib/python3.10/site-packages/numpy/linalg/linalg.py:552\u001b[0m, in \u001b[0;36minv\u001b[0;34m(a)\u001b[0m\n\u001b[1;32m    550\u001b[0m signature \u001b[39m=\u001b[39m \u001b[39m'\u001b[39m\u001b[39mD->D\u001b[39m\u001b[39m'\u001b[39m \u001b[39mif\u001b[39;00m isComplexType(t) \u001b[39melse\u001b[39;00m \u001b[39m'\u001b[39m\u001b[39md->d\u001b[39m\u001b[39m'\u001b[39m\n\u001b[1;32m    551\u001b[0m extobj \u001b[39m=\u001b[39m get_linalg_error_extobj(_raise_linalgerror_singular)\n\u001b[0;32m--> 552\u001b[0m ainv \u001b[39m=\u001b[39m _umath_linalg\u001b[39m.\u001b[39;49minv(a, signature\u001b[39m=\u001b[39;49msignature, extobj\u001b[39m=\u001b[39;49mextobj)\n\u001b[1;32m    553\u001b[0m \u001b[39mreturn\u001b[39;00m wrap(ainv\u001b[39m.\u001b[39mastype(result_t, copy\u001b[39m=\u001b[39m\u001b[39mFalse\u001b[39;00m))\n",
      "\u001b[0;31mKeyboardInterrupt\u001b[0m: "
     ]
    }
   ],
   "source": [
    "t_max = 10000\n",
    "render = True\n",
    "if len(sim.model.key_qpos) != 0:\n",
    "    sim.data.qpos = sim.model.key_qpos\n",
    "mujoco.mj_step(sim.model, sim.data)\n",
    "log = []\n",
    "if render:\n",
    "    viewer = mujoco_viewer.MujocoViewer(sim.model, sim.data)\n",
    "    # viewer.vopt.frame = 3\n",
    "for t in range(t_max):\n",
    "    for _ft_name in ctrlr._foot_site_names:\n",
    "        ref_foot_pos[_ft_name] = (np.eye(3), np.array([np.sin(t*0.01), 0., 0.]))\n",
    "    tau = ctrlr(ref_foot_pos)\n",
    "    sim.data.ctrl = tau\n",
    "    mujoco.mj_step(sim.model, sim.data)\n",
    "    if render:\n",
    "        if viewer.is_alive:\n",
    "            viewer.render()\n",
    "if render:\n",
    "    viewer.close()"
   ]
  },
  {
   "cell_type": "code",
   "execution_count": null,
   "id": "f2a20dee",
   "metadata": {},
   "outputs": [],
   "source": []
  }
 ],
 "metadata": {
  "kernelspec": {
   "display_name": "Python 3.10.6 ('meng443arm')",
   "language": "python",
   "name": "python3"
  },
  "language_info": {
   "codemirror_mode": {
    "name": "ipython",
    "version": 3
   },
   "file_extension": ".py",
   "mimetype": "text/x-python",
   "name": "python",
   "nbconvert_exporter": "python",
   "pygments_lexer": "ipython3",
   "version": "3.10.6"
  },
  "vscode": {
   "interpreter": {
    "hash": "7e1205e302398dd02bd48c71bb7eceb4729eb3a245520ba0a632d0a1f7a8e35a"
   }
  }
 },
 "nbformat": 4,
 "nbformat_minor": 5
}
