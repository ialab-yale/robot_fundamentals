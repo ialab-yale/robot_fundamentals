{
 "cells": [
  {
   "cell_type": "code",
   "execution_count": 7,
   "metadata": {},
   "outputs": [],
   "source": [
    "from viewer import BallViewer\n",
    "import jax \n",
    "import jax.numpy as np\n",
    "from jax import jacfwd\n",
    "from jax.numpy.linalg import pinv\n",
    "import numpy as onp\n",
    "import time "
   ]
  },
  {
   "cell_type": "code",
   "execution_count": 8,
   "metadata": {},
   "outputs": [
    {
     "name": "stdout",
     "output_type": "stream",
     "text": [
      "You can open the visualizer by visiting the following URL:\n",
      "http://127.0.0.1:7003/static/\n"
     ]
    },
    {
     "data": {
      "text/plain": [
       "<Visualizer using: <meshcat.visualizer.ViewerWindow object at 0x7f2956d3da50> at path: <meshcat.path.Path object at 0x7f2822d01d80>>"
      ]
     },
     "execution_count": 8,
     "metadata": {},
     "output_type": "execute_result"
    }
   ],
   "source": [
    "viewer = BallViewer()\n",
    "viewer.open()"
   ]
  },
  {
   "cell_type": "code",
   "execution_count": 12,
   "metadata": {},
   "outputs": [],
   "source": [
    "def rk4_step(f, x, h):\n",
    "    # one step of runge-kutta integration\n",
    "    k1 = h * f(x)\n",
    "    k2 = h * f(x + k1/2)\n",
    "    k3 = h * f(x + k2/2)\n",
    "    k4 = h * f(x + k3)\n",
    "    return x + 1/6 * (k1 + 2 * k2 + 2 * k3 + k4)"
   ]
  },
  {
   "cell_type": "code",
   "execution_count": 23,
   "metadata": {},
   "outputs": [],
   "source": [
    "\n",
    "_m = 1. \n",
    "_r = 1.\n",
    "_M = onp.diag([_m, _m, (2./3.) * _m *  _r**2])\n",
    "_M_inv = onp.linalg.inv(_M)\n",
    "_g = 9.81\n",
    "def f_analytical_ball(x):\n",
    "    q, qdot = np.split(x, 2)\n",
    "    b = np.array([0, -_g, 0])\n",
    "    return np.concatenate([qdot, _M_inv @ b]) \n",
    "\n",
    "def phi(q):\n",
    "    return q[1] - _r\n",
    "\n",
    "def contact_loc(q):\n",
    "    x,z,th = q\n",
    "    return np.array([\n",
    "        x + _r * np.cos(th),\n",
    "        z + _r * np.sin(th)\n",
    "    ])\n",
    "\n",
    "contact_jac = jacfwd(contact_loc)\n",
    "# def contact_jac(q):\n",
    "#     return np.array([\n",
    "#         [1.0, 0.0, _r],\n",
    "#         [0.0, 1.0, 0.]\n",
    "#     ])\n",
    "\n",
    "def reset_map(q, qdot, q_c):\n",
    "    J = contact_jac(q_c)\n",
    "    return (np.eye(qdot.shape[0]) - _M_inv@J.T@onp.diag([1.9,1.9])@pinv(J@_M_inv@J.T)@J)@qdot\n",
    "\n",
    "q0    = np.array([0.0, 4.0, 0.0])\n",
    "qdot0 = np.array([-1.0, 0.0, 5.0])\n",
    "x     = np.concatenate([q0, qdot0])\n",
    "\n",
    "contact_jac(q0)\n",
    "\n",
    "dt = 0.01\n",
    "for t in range(500):\n",
    "    x = rk4_step(f_analytical_ball, x, dt)\n",
    "    # dxdt = f_analytical_ball(x)\n",
    "    # x  = x + dt*dxdt\n",
    "    q, qdot = np.split(x, 2)\n",
    "    if phi(q) <= 0:\n",
    "        q_c = np.array([q[0], q[1], -np.pi/2.0])\n",
    "        qdot = reset_map(q, qdot, q_c)\n",
    "        x = np.concatenate([q,qdot])\n",
    "    viewer.render(np.split(x,2)[0])\n",
    "    time.sleep(0.001)"
   ]
  },
  {
   "cell_type": "code",
   "execution_count": null,
   "metadata": {},
   "outputs": [],
   "source": []
  }
 ],
 "metadata": {
  "kernelspec": {
   "display_name": "Python 3.10.6 ('meng443arm')",
   "language": "python",
   "name": "python3"
  },
  "language_info": {
   "codemirror_mode": {
    "name": "ipython",
    "version": 3
   },
   "file_extension": ".py",
   "mimetype": "text/x-python",
   "name": "python",
   "nbconvert_exporter": "python",
   "pygments_lexer": "ipython3",
   "version": "3.10.6"
  },
  "orig_nbformat": 4,
  "vscode": {
   "interpreter": {
    "hash": "7e1205e302398dd02bd48c71bb7eceb4729eb3a245520ba0a632d0a1f7a8e35a"
   }
  }
 },
 "nbformat": 4,
 "nbformat_minor": 2
}
