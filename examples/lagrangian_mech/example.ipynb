{
 "cells": [
  {
   "cell_type": "code",
   "execution_count": 1,
   "metadata": {},
   "outputs": [],
   "source": [
    "from viewer import BallViewer\n",
    "import jax \n",
    "import jax.numpy as np\n",
    "from jax.numpy.linalg import pinv\n",
    "import numpy as onp\n",
    "import time "
   ]
  },
  {
   "cell_type": "code",
   "execution_count": 2,
   "metadata": {},
   "outputs": [
    {
     "name": "stdout",
     "output_type": "stream",
     "text": [
      "You can open the visualizer by visiting the following URL:\n",
      "http://127.0.0.1:7000/static/\n"
     ]
    },
    {
     "data": {
      "text/plain": [
       "<Visualizer using: <meshcat.visualizer.ViewerWindow object at 0x7f90925d3460> at path: <meshcat.path.Path object at 0x7f90f4da12a0>>"
      ]
     },
     "execution_count": 2,
     "metadata": {},
     "output_type": "execute_result"
    }
   ],
   "source": [
    "viewer = BallViewer()\n",
    "viewer.open()"
   ]
  },
  {
   "cell_type": "code",
   "execution_count": 9,
   "metadata": {},
   "outputs": [
    {
     "ename": "TypeError",
     "evalue": "dot_general requires contracting dimensions to have the same shape, got (3,) and (2,).",
     "output_type": "error",
     "traceback": [
      "\u001b[0;31m---------------------------------------------------------------------------\u001b[0m",
      "\u001b[0;31mTypeError\u001b[0m                                 Traceback (most recent call last)",
      "\u001b[1;32m/home/anon/Courses/robot_fundamentals/examples/lagrangian_mech/example.ipynb Cell 3\u001b[0m in \u001b[0;36m<cell line: 30>\u001b[0;34m()\u001b[0m\n\u001b[1;32m     <a href='vscode-notebook-cell:/home/anon/Courses/robot_fundamentals/examples/lagrangian_mech/example.ipynb#W2sZmlsZQ%3D%3D?line=32'>33</a>\u001b[0m q, qdot \u001b[39m=\u001b[39m np\u001b[39m.\u001b[39msplit(x, \u001b[39m2\u001b[39m)\n\u001b[1;32m     <a href='vscode-notebook-cell:/home/anon/Courses/robot_fundamentals/examples/lagrangian_mech/example.ipynb#W2sZmlsZQ%3D%3D?line=33'>34</a>\u001b[0m \u001b[39mif\u001b[39;00m phi(q) \u001b[39m<\u001b[39m\u001b[39m=\u001b[39m \u001b[39m0\u001b[39m:\n\u001b[0;32m---> <a href='vscode-notebook-cell:/home/anon/Courses/robot_fundamentals/examples/lagrangian_mech/example.ipynb#W2sZmlsZQ%3D%3D?line=34'>35</a>\u001b[0m     qdot \u001b[39m=\u001b[39m reset_map(q, qdot)\n\u001b[1;32m     <a href='vscode-notebook-cell:/home/anon/Courses/robot_fundamentals/examples/lagrangian_mech/example.ipynb#W2sZmlsZQ%3D%3D?line=35'>36</a>\u001b[0m     x \u001b[39m=\u001b[39m np\u001b[39m.\u001b[39mconcatenate([q,qdot])\n\u001b[1;32m     <a href='vscode-notebook-cell:/home/anon/Courses/robot_fundamentals/examples/lagrangian_mech/example.ipynb#W2sZmlsZQ%3D%3D?line=36'>37</a>\u001b[0m viewer\u001b[39m.\u001b[39mrender(np\u001b[39m.\u001b[39msplit(x,\u001b[39m2\u001b[39m)[\u001b[39m0\u001b[39m])\n",
      "\u001b[1;32m/home/anon/Courses/robot_fundamentals/examples/lagrangian_mech/example.ipynb Cell 3\u001b[0m in \u001b[0;36mreset_map\u001b[0;34m(q, qdot)\u001b[0m\n\u001b[1;32m     <a href='vscode-notebook-cell:/home/anon/Courses/robot_fundamentals/examples/lagrangian_mech/example.ipynb#W2sZmlsZQ%3D%3D?line=20'>21</a>\u001b[0m \u001b[39mdef\u001b[39;00m \u001b[39mreset_map\u001b[39m(q, qdot):\n\u001b[1;32m     <a href='vscode-notebook-cell:/home/anon/Courses/robot_fundamentals/examples/lagrangian_mech/example.ipynb#W2sZmlsZQ%3D%3D?line=21'>22</a>\u001b[0m     J \u001b[39m=\u001b[39m contact_jac(q)\n\u001b[0;32m---> <a href='vscode-notebook-cell:/home/anon/Courses/robot_fundamentals/examples/lagrangian_mech/example.ipynb#W2sZmlsZQ%3D%3D?line=22'>23</a>\u001b[0m     \u001b[39mprint\u001b[39m((np\u001b[39m.\u001b[39meye(qdot\u001b[39m.\u001b[39mshape[\u001b[39m0\u001b[39m]) \u001b[39m-\u001b[39m \u001b[39m2\u001b[39;49m\u001b[39m*\u001b[39;49m_M_inv\u001b[39m@J\u001b[39;49m\u001b[39m.\u001b[39;49mT\u001b[39m@onp\u001b[39m\u001b[39m.\u001b[39mdiag([\u001b[39m2\u001b[39m, \u001b[39m1\u001b[39m, \u001b[39m1\u001b[39m])\u001b[39m@pinv\u001b[39m(J\u001b[39m@_M_inv\u001b[39m\u001b[39m@J\u001b[39m\u001b[39m.\u001b[39mT)\u001b[39m@J\u001b[39m)\u001b[39m.\u001b[39mshape)\n\u001b[1;32m     <a href='vscode-notebook-cell:/home/anon/Courses/robot_fundamentals/examples/lagrangian_mech/example.ipynb#W2sZmlsZQ%3D%3D?line=23'>24</a>\u001b[0m     \u001b[39mreturn\u001b[39;00m (np\u001b[39m.\u001b[39meye(qdot\u001b[39m.\u001b[39mshape[\u001b[39m0\u001b[39m]) \u001b[39m-\u001b[39m \u001b[39m2\u001b[39m\u001b[39m*\u001b[39m_M_inv\u001b[39m@J\u001b[39m\u001b[39m.\u001b[39mT\u001b[39m@onp\u001b[39m\u001b[39m.\u001b[39mdiag([\u001b[39m2\u001b[39m, \u001b[39m1\u001b[39m, \u001b[39m1\u001b[39m])\u001b[39m@pinv\u001b[39m(J\u001b[39m@_M_inv\u001b[39m\u001b[39m@J\u001b[39m\u001b[39m.\u001b[39mT)\u001b[39m@J\u001b[39m)\u001b[39m@qdot\u001b[39m\n",
      "File \u001b[0;32m~/miniconda3/envs/meng443arm/lib/python3.10/site-packages/jax/_src/numpy/lax_numpy.py:4658\u001b[0m, in \u001b[0;36m_defer_to_unrecognized_arg.<locals>.deferring_binary_op\u001b[0;34m(self, other)\u001b[0m\n\u001b[1;32m   4656\u001b[0m args \u001b[39m=\u001b[39m (other, \u001b[39mself\u001b[39m) \u001b[39mif\u001b[39;00m swap \u001b[39melse\u001b[39;00m (\u001b[39mself\u001b[39m, other)\n\u001b[1;32m   4657\u001b[0m \u001b[39mif\u001b[39;00m \u001b[39misinstance\u001b[39m(other, _accepted_binop_types):\n\u001b[0;32m-> 4658\u001b[0m   \u001b[39mreturn\u001b[39;00m binary_op(\u001b[39m*\u001b[39;49margs)\n\u001b[1;32m   4659\u001b[0m \u001b[39mif\u001b[39;00m \u001b[39misinstance\u001b[39m(other, _rejected_binop_types):\n\u001b[1;32m   4660\u001b[0m   \u001b[39mraise\u001b[39;00m \u001b[39mTypeError\u001b[39;00m(\u001b[39mf\u001b[39m\u001b[39m\"\u001b[39m\u001b[39munsupported operand type(s) for \u001b[39m\u001b[39m{\u001b[39;00mopchar\u001b[39m}\u001b[39;00m\u001b[39m: \u001b[39m\u001b[39m\"\u001b[39m\n\u001b[1;32m   4661\u001b[0m                   \u001b[39mf\u001b[39m\u001b[39m\"\u001b[39m\u001b[39m{\u001b[39;00m\u001b[39mtype\u001b[39m(args[\u001b[39m0\u001b[39m])\u001b[39m.\u001b[39m\u001b[39m__name__\u001b[39m\u001b[39m!r}\u001b[39;00m\u001b[39m and \u001b[39m\u001b[39m{\u001b[39;00m\u001b[39mtype\u001b[39m(args[\u001b[39m1\u001b[39m])\u001b[39m.\u001b[39m\u001b[39m__name__\u001b[39m\u001b[39m!r}\u001b[39;00m\u001b[39m\"\u001b[39m)\n",
      "    \u001b[0;31m[... skipping hidden 14 frame]\u001b[0m\n",
      "File \u001b[0;32m~/miniconda3/envs/meng443arm/lib/python3.10/site-packages/jax/_src/numpy/lax_numpy.py:2829\u001b[0m, in \u001b[0;36mmatmul\u001b[0;34m(a, b, precision)\u001b[0m\n\u001b[1;32m   2827\u001b[0m a \u001b[39m=\u001b[39m lax\u001b[39m.\u001b[39msqueeze(a, \u001b[39mtuple\u001b[39m(a_squeeze))\n\u001b[1;32m   2828\u001b[0m b \u001b[39m=\u001b[39m lax\u001b[39m.\u001b[39msqueeze(b, \u001b[39mtuple\u001b[39m(b_squeeze))\n\u001b[0;32m-> 2829\u001b[0m out \u001b[39m=\u001b[39m lax\u001b[39m.\u001b[39;49mdot_general(\n\u001b[1;32m   2830\u001b[0m   a, b, (((ndim(a) \u001b[39m-\u001b[39;49m \u001b[39m1\u001b[39;49m,), (ndim(b) \u001b[39m-\u001b[39;49m \u001b[39m1\u001b[39;49m \u001b[39m-\u001b[39;49m b_is_mat,)), (a_batch, b_batch)),\n\u001b[1;32m   2831\u001b[0m   precision\u001b[39m=\u001b[39;49mprecision)\n\u001b[1;32m   2832\u001b[0m \u001b[39mreturn\u001b[39;00m lax\u001b[39m.\u001b[39mtranspose(out, perm)\n",
      "    \u001b[0;31m[... skipping hidden 7 frame]\u001b[0m\n",
      "File \u001b[0;32m~/miniconda3/envs/meng443arm/lib/python3.10/site-packages/jax/_src/lax/lax.py:2510\u001b[0m, in \u001b[0;36m_dot_general_shape_rule\u001b[0;34m(lhs, rhs, dimension_numbers, precision, preferred_element_type)\u001b[0m\n\u001b[1;32m   2507\u001b[0m \u001b[39mif\u001b[39;00m \u001b[39mnot\u001b[39;00m core\u001b[39m.\u001b[39msymbolic_equal_shape(lhs_contracting_shape, rhs_contracting_shape):\n\u001b[1;32m   2508\u001b[0m   msg \u001b[39m=\u001b[39m (\u001b[39m\"\u001b[39m\u001b[39mdot_general requires contracting dimensions to have the same \u001b[39m\u001b[39m\"\u001b[39m\n\u001b[1;32m   2509\u001b[0m          \u001b[39m\"\u001b[39m\u001b[39mshape, got \u001b[39m\u001b[39m{}\u001b[39;00m\u001b[39m and \u001b[39m\u001b[39m{}\u001b[39;00m\u001b[39m.\u001b[39m\u001b[39m\"\u001b[39m)\n\u001b[0;32m-> 2510\u001b[0m   \u001b[39mraise\u001b[39;00m \u001b[39mTypeError\u001b[39;00m(msg\u001b[39m.\u001b[39mformat(lhs_contracting_shape, rhs_contracting_shape))\n\u001b[1;32m   2512\u001b[0m \u001b[39mreturn\u001b[39;00m _dot_general_shape_computation(lhs\u001b[39m.\u001b[39mshape, rhs\u001b[39m.\u001b[39mshape, dimension_numbers)\n",
      "\u001b[0;31mTypeError\u001b[0m: dot_general requires contracting dimensions to have the same shape, got (3,) and (2,)."
     ]
    }
   ],
   "source": [
    "\n",
    "\n",
    "_m = 1. \n",
    "_r = 1.\n",
    "_M = onp.diag([_m, _m, (2./3.) * _m * _r **2])\n",
    "_M_inv = onp.linalg.inv(_M)\n",
    "_g = 9.81\n",
    "def f_analytical_ball(x):\n",
    "    q, qdot = np.split(x, 2)\n",
    "    b = np.array([0, -_g, 0])\n",
    "    return np.concatenate([qdot, _M_inv @ b]) \n",
    "\n",
    "def phi(q):\n",
    "    return q[1] - _r\n",
    "\n",
    "def contact_jac(q):\n",
    "    return np.array([\n",
    "        [1.0, 0.0],\n",
    "        [0.0, 1.0],\n",
    "        [_r,  0.0]\n",
    "    ])\n",
    "\n",
    "def reset_map(q, qdot):\n",
    "    J = contact_jac(q)\n",
    "    print((np.eye(qdot.shape[0]) - 2*_M_inv@J.T@onp.diag([2, 1, 1])@pinv(J@_M_inv@J.T)@J).shape)\n",
    "    return (np.eye(qdot.shape[0]) - 2*_M_inv@J.T@onp.diag([2, 1, 1])@pinv(J@_M_inv@J.T)@J)@qdot\n",
    "\n",
    "q0    = np.array([0., 2.0, 0.])\n",
    "qdot0 = np.array([0., 0., 1.0])\n",
    "x     = np.concatenate([q0, qdot0])\n",
    "\n",
    "for t in range(100):\n",
    "    dxdt = f_analytical_ball(x)\n",
    "    x  = x + 0.01*dxdt\n",
    "    q, qdot = np.split(x, 2)\n",
    "    if phi(q) <= 0:\n",
    "        qdot = reset_map(q, qdot)\n",
    "        x = np.concatenate([q,qdot])\n",
    "    viewer.render(np.split(x,2)[0])\n",
    "    time.sleep(0.01)"
   ]
  },
  {
   "cell_type": "code",
   "execution_count": null,
   "metadata": {},
   "outputs": [],
   "source": []
  }
 ],
 "metadata": {
  "kernelspec": {
   "display_name": "Python 3.10.6 ('meng443arm')",
   "language": "python",
   "name": "python3"
  },
  "language_info": {
   "codemirror_mode": {
    "name": "ipython",
    "version": 3
   },
   "file_extension": ".py",
   "mimetype": "text/x-python",
   "name": "python",
   "nbconvert_exporter": "python",
   "pygments_lexer": "ipython3",
   "version": "3.10.6"
  },
  "orig_nbformat": 4,
  "vscode": {
   "interpreter": {
    "hash": "7e1205e302398dd02bd48c71bb7eceb4729eb3a245520ba0a632d0a1f7a8e35a"
   }
  }
 },
 "nbformat": 4,
 "nbformat_minor": 2
}
