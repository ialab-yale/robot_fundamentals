{
 "cells": [
  {
   "cell_type": "code",
   "execution_count": 1,
   "metadata": {},
   "outputs": [],
   "source": [
    "from viewer import BallViewer\n",
    "import jax \n",
    "import jax.numpy as np\n",
    "from jax import jacfwd\n",
    "from jax.numpy.linalg import pinv\n",
    "import numpy as onp\n",
    "import time "
   ]
  },
  {
   "cell_type": "code",
   "execution_count": 2,
   "metadata": {},
   "outputs": [
    {
     "name": "stdout",
     "output_type": "stream",
     "text": [
      "You can open the visualizer by visiting the following URL:\n",
      "http://127.0.0.1:7001/static/\n"
     ]
    },
    {
     "data": {
      "text/plain": [
       "<Visualizer using: <meshcat.visualizer.ViewerWindow object at 0x7fa1ef26b460> at path: <meshcat.path.Path object at 0x7fa260295f60>>"
      ]
     },
     "execution_count": 2,
     "metadata": {},
     "output_type": "execute_result"
    }
   ],
   "source": [
    "viewer = BallViewer()\n",
    "viewer.open()"
   ]
  },
  {
   "cell_type": "code",
   "execution_count": 3,
   "metadata": {},
   "outputs": [
    {
     "name": "stderr",
     "output_type": "stream",
     "text": [
      "WARNING:absl:No GPU/TPU found, falling back to CPU. (Set TF_CPP_MIN_LOG_LEVEL=0 and rerun for more info.)\n"
     ]
    },
    {
     "ename": "KeyboardInterrupt",
     "evalue": "",
     "output_type": "error",
     "traceback": [
      "\u001b[0;31m---------------------------------------------------------------------------\u001b[0m",
      "\u001b[0;31mKeyboardInterrupt\u001b[0m                         Traceback (most recent call last)",
      "\u001b[1;32m/home/anon/Courses/robot_fundamentals/examples/lagrangian_mech/example.ipynb Cell 3\u001b[0m in \u001b[0;36m<cell line: 36>\u001b[0;34m()\u001b[0m\n\u001b[1;32m     <a href='vscode-notebook-cell:/home/anon/Courses/robot_fundamentals/examples/lagrangian_mech/example.ipynb#W2sZmlsZQ%3D%3D?line=36'>37</a>\u001b[0m dxdt \u001b[39m=\u001b[39m f_analytical_ball(x)\n\u001b[1;32m     <a href='vscode-notebook-cell:/home/anon/Courses/robot_fundamentals/examples/lagrangian_mech/example.ipynb#W2sZmlsZQ%3D%3D?line=37'>38</a>\u001b[0m x  \u001b[39m=\u001b[39m x \u001b[39m+\u001b[39m \u001b[39m0.001\u001b[39m\u001b[39m*\u001b[39mdxdt\n\u001b[0;32m---> <a href='vscode-notebook-cell:/home/anon/Courses/robot_fundamentals/examples/lagrangian_mech/example.ipynb#W2sZmlsZQ%3D%3D?line=38'>39</a>\u001b[0m q, qdot \u001b[39m=\u001b[39m np\u001b[39m.\u001b[39;49msplit(x, \u001b[39m2\u001b[39;49m)\n\u001b[1;32m     <a href='vscode-notebook-cell:/home/anon/Courses/robot_fundamentals/examples/lagrangian_mech/example.ipynb#W2sZmlsZQ%3D%3D?line=39'>40</a>\u001b[0m \u001b[39mif\u001b[39;00m phi(q) \u001b[39m<\u001b[39m\u001b[39m=\u001b[39m \u001b[39m0\u001b[39m:\n\u001b[1;32m     <a href='vscode-notebook-cell:/home/anon/Courses/robot_fundamentals/examples/lagrangian_mech/example.ipynb#W2sZmlsZQ%3D%3D?line=40'>41</a>\u001b[0m     q_c \u001b[39m=\u001b[39m np\u001b[39m.\u001b[39marray([q[\u001b[39m0\u001b[39m], q[\u001b[39m1\u001b[39m], \u001b[39m-\u001b[39mnp\u001b[39m.\u001b[39mpi\u001b[39m/\u001b[39m\u001b[39m2.0\u001b[39m])\n",
      "File \u001b[0;32m~/miniconda3/envs/meng443arm/lib/python3.10/site-packages/jax/_src/numpy/lax_numpy.py:1129\u001b[0m, in \u001b[0;36msplit\u001b[0;34m(ary, indices_or_sections, axis)\u001b[0m\n\u001b[1;32m   1127\u001b[0m \u001b[39m@_wraps\u001b[39m(np\u001b[39m.\u001b[39msplit, lax_description\u001b[39m=\u001b[39m_ARRAY_VIEW_DOC)\n\u001b[1;32m   1128\u001b[0m \u001b[39mdef\u001b[39;00m \u001b[39msplit\u001b[39m(ary, indices_or_sections, axis: \u001b[39mint\u001b[39m \u001b[39m=\u001b[39m \u001b[39m0\u001b[39m):\n\u001b[0;32m-> 1129\u001b[0m   \u001b[39mreturn\u001b[39;00m _split(\u001b[39m\"\u001b[39;49m\u001b[39msplit\u001b[39;49m\u001b[39m\"\u001b[39;49m, ary, indices_or_sections, axis\u001b[39m=\u001b[39;49maxis)\n",
      "File \u001b[0;32m~/miniconda3/envs/meng443arm/lib/python3.10/site-packages/jax/_src/numpy/lax_numpy.py:1091\u001b[0m, in \u001b[0;36m_split\u001b[0;34m(op, ary, indices_or_sections, axis)\u001b[0m\n\u001b[1;32m   1090\u001b[0m \u001b[39mdef\u001b[39;00m \u001b[39m_split\u001b[39m(op, ary, indices_or_sections, axis\u001b[39m=\u001b[39m\u001b[39m0\u001b[39m):\n\u001b[0;32m-> 1091\u001b[0m   _check_arraylike(op, ary)\n\u001b[1;32m   1092\u001b[0m   ary \u001b[39m=\u001b[39m asarray(ary)\n\u001b[1;32m   1093\u001b[0m   axis \u001b[39m=\u001b[39m core\u001b[39m.\u001b[39mconcrete_or_error(operator\u001b[39m.\u001b[39mindex, axis, \u001b[39mf\u001b[39m\u001b[39m\"\u001b[39m\u001b[39min jax.numpy.\u001b[39m\u001b[39m{\u001b[39;00mop\u001b[39m}\u001b[39;00m\u001b[39m argument `axis`\u001b[39m\u001b[39m\"\u001b[39m)\n",
      "File \u001b[0;32m~/miniconda3/envs/meng443arm/lib/python3.10/site-packages/jax/_src/numpy/util.py:331\u001b[0m, in \u001b[0;36m_check_arraylike\u001b[0;34m(fun_name, *args)\u001b[0m\n\u001b[1;32m    329\u001b[0m \u001b[39m\"\"\"Check if all args fit JAX's definition of arraylike.\"\"\"\u001b[39;00m\n\u001b[1;32m    330\u001b[0m \u001b[39massert\u001b[39;00m \u001b[39misinstance\u001b[39m(fun_name, \u001b[39mstr\u001b[39m), \u001b[39mf\u001b[39m\u001b[39m\"\u001b[39m\u001b[39mfun_name must be a string. Got \u001b[39m\u001b[39m{\u001b[39;00mfun_name\u001b[39m}\u001b[39;00m\u001b[39m\"\u001b[39m\n\u001b[0;32m--> 331\u001b[0m \u001b[39mif\u001b[39;00m \u001b[39many\u001b[39m(\u001b[39mnot\u001b[39;00m _arraylike(arg) \u001b[39mfor\u001b[39;00m arg \u001b[39min\u001b[39;00m args):\n\u001b[1;32m    332\u001b[0m   pos, arg \u001b[39m=\u001b[39m \u001b[39mnext\u001b[39m((i, arg) \u001b[39mfor\u001b[39;00m i, arg \u001b[39min\u001b[39;00m \u001b[39menumerate\u001b[39m(args)\n\u001b[1;32m    333\u001b[0m                   \u001b[39mif\u001b[39;00m \u001b[39mnot\u001b[39;00m _arraylike(arg))\n\u001b[1;32m    334\u001b[0m   msg \u001b[39m=\u001b[39m \u001b[39m\"\u001b[39m\u001b[39m{}\u001b[39;00m\u001b[39m requires ndarray or scalar arguments, got \u001b[39m\u001b[39m{}\u001b[39;00m\u001b[39m at position \u001b[39m\u001b[39m{}\u001b[39;00m\u001b[39m.\u001b[39m\u001b[39m\"\u001b[39m\n",
      "\u001b[0;31mKeyboardInterrupt\u001b[0m: "
     ]
    }
   ],
   "source": [
    "\n",
    "_m = 1. \n",
    "_r = 1.\n",
    "_M = onp.diag([_m, _m, (2./3.) * _m *  _r**2])\n",
    "_M_inv = onp.linalg.inv(_M)\n",
    "_g = 9.81\n",
    "def f_analytical_ball(x):\n",
    "    q, qdot = np.split(x, 2)\n",
    "    b = np.array([0, -_g, 0])\n",
    "    return np.concatenate([qdot, _M_inv @ b]) \n",
    "\n",
    "def phi(q):\n",
    "    return q[1] - _r\n",
    "\n",
    "def contact_loc(q):\n",
    "    x,z,th = q\n",
    "    return np.array([\n",
    "        x + _r * np.cos(th),\n",
    "        z + _r * np.sin(th)\n",
    "    ])\n",
    "\n",
    "contact_jac = jacfwd(contact_loc)\n",
    "# def contact_jac(q):\n",
    "#     return np.array([\n",
    "#         [1.0, 0.0, _r],\n",
    "#         [0.0, 1.0, 0.]\n",
    "#     ])\n",
    "\n",
    "def reset_map(q, qdot, q_c):\n",
    "    J = contact_jac(q_c)\n",
    "    return (np.eye(qdot.shape[0]) - _M_inv@J.T@onp.diag([2.0,2.0])@pinv(J@_M_inv@J.T)@J)@qdot\n",
    "\n",
    "q0    = np.array([0.0, 4.0, 0.0])\n",
    "qdot0 = np.array([0.0, 0.0, 5.0])\n",
    "x     = np.concatenate([q0, qdot0])\n",
    "\n",
    "for t in range(10000):\n",
    "    dxdt = f_analytical_ball(x)\n",
    "    x  = x + 0.001*dxdt\n",
    "    q, qdot = np.split(x, 2)\n",
    "    if phi(q) <= 0:\n",
    "        q_c = np.array([q[0], q[1], -np.pi/2.0])\n",
    "        qdot = reset_map(q, qdot, q_c)\n",
    "        x = np.concatenate([q,qdot])\n",
    "    viewer.render(np.split(x,2)[0])\n",
    "    time.sleep(0.001)"
   ]
  },
  {
   "cell_type": "code",
   "execution_count": null,
   "metadata": {},
   "outputs": [],
   "source": []
  }
 ],
 "metadata": {
  "kernelspec": {
   "display_name": "Python 3.10.6 ('meng443arm')",
   "language": "python",
   "name": "python3"
  },
  "language_info": {
   "codemirror_mode": {
    "name": "ipython",
    "version": 3
   },
   "file_extension": ".py",
   "mimetype": "text/x-python",
   "name": "python",
   "nbconvert_exporter": "python",
   "pygments_lexer": "ipython3",
   "version": "3.10.6"
  },
  "orig_nbformat": 4,
  "vscode": {
   "interpreter": {
    "hash": "7e1205e302398dd02bd48c71bb7eceb4729eb3a245520ba0a632d0a1f7a8e35a"
   }
  }
 },
 "nbformat": 4,
 "nbformat_minor": 2
}
