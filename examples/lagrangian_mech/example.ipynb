{
 "cells": [
  {
   "cell_type": "code",
   "execution_count": 1,
   "metadata": {},
   "outputs": [],
   "source": [
    "from viewer import BallViewer\n",
    "import jax \n",
    "import jax.numpy as np\n",
    "from jax import jacfwd\n",
    "from jax.numpy.linalg import pinv\n",
    "\n",
    "import numpy as onp\n",
    "import time "
   ]
  },
  {
   "cell_type": "code",
   "execution_count": 2,
   "metadata": {},
   "outputs": [
    {
     "name": "stdout",
     "output_type": "stream",
     "text": [
      "You can open the visualizer by visiting the following URL:\n",
      "http://127.0.0.1:7015/static/\n"
     ]
    },
    {
     "data": {
      "text/plain": [
       "<Visualizer using: <meshcat.visualizer.ViewerWindow object at 0x139156890> at path: <meshcat.path.Path object at 0x1083d17e0>>"
      ]
     },
     "execution_count": 2,
     "metadata": {},
     "output_type": "execute_result"
    }
   ],
   "source": [
    "viewer = BallViewer()\n",
    "viewer.open()"
   ]
  },
  {
   "cell_type": "markdown",
   "metadata": {},
   "source": [
    "$$\n",
    "\\dot{x} = f(x), x = \\begin{bmatrix} q \\\\ \\dot{q} \\end{bmatrix}\n",
    "$$"
   ]
  },
  {
   "cell_type": "code",
   "execution_count": 3,
   "metadata": {},
   "outputs": [],
   "source": [
    "# xdot = f(x), x = [q, qdot]\n",
    "def rk4_step(f, x, h):\n",
    "    # one step of runge-kutta integration\n",
    "    k1 = h * f(x)\n",
    "    k2 = h * f(x + k1/2)\n",
    "    k3 = h * f(x + k2/2)\n",
    "    k4 = h * f(x + k3)\n",
    "    return x + 1/6 * (k1 + 2 * k2 + 2 * k3 + k4)\n",
    "\n",
    "def euler_step(f, x, h):\n",
    "    return x + f(x) * h"
   ]
  },
  {
   "cell_type": "code",
   "execution_count": 4,
   "metadata": {},
   "outputs": [],
   "source": [
    "_m = 1. \n",
    "_r = 1.\n",
    "_M = onp.diag([_m, _m, (2./3.) * _m *  _r**2])\n",
    "_M_inv = onp.linalg.inv(_M)\n",
    "_g = 9.81\n",
    "\n",
    "def f_analytical_ball(x):\n",
    "    # \\dot{x} = f(x)\n",
    "    q, qdot = np.split(x, 2)\n",
    "    b = np.array([0, -_g, 0])\n",
    "    return np.concatenate([qdot, _M_inv @ b]) "
   ]
  },
  {
   "cell_type": "code",
   "execution_count": 6,
   "metadata": {},
   "outputs": [],
   "source": [
    "def phi(q):\n",
    "    return q[1] - _r\n",
    "\n",
    "def contact_loc(q):\n",
    "    x,z,th = q\n",
    "    return np.array([\n",
    "        x + _r * np.cos(th),\n",
    "        z + _r * np.sin(th)\n",
    "    ])\n",
    "\n",
    "contact_jac = jacfwd(contact_loc)\n",
    "# def contact_jac(q):\n",
    "#     return np.array([\n",
    "#         [1.0, 0.0, _r],\n",
    "#         [0.0, 1.0, 0.]\n",
    "#     ])\n"
   ]
  },
  {
   "cell_type": "code",
   "execution_count": 7,
   "metadata": {},
   "outputs": [
    {
     "data": {
      "text/plain": [
       "DeviceArray([[ 1.000000e+00,  0.000000e+00,  1.000000e+00],\n",
       "             [ 0.000000e+00,  1.000000e+00, -4.371139e-08]],            dtype=float32)"
      ]
     },
     "execution_count": 7,
     "metadata": {},
     "output_type": "execute_result"
    }
   ],
   "source": [
    "q_c = np.array([0, _r, -np.pi/2.0])\n",
    "contact_jac(q_c)"
   ]
  },
  {
   "cell_type": "code",
   "execution_count": 13,
   "metadata": {},
   "outputs": [],
   "source": [
    "def reset_map(q, qdot, q_c):\n",
    "    # qdot+ \n",
    "    J = contact_jac(q_c)\n",
    "    return (np.eye(qdot.shape[0]) - _M_inv@J.T@onp.diag([1.,1.])@pinv(J@_M_inv@J.T)@J)@qdot\n"
   ]
  },
  {
   "cell_type": "code",
   "execution_count": 14,
   "metadata": {},
   "outputs": [],
   "source": [
    "q0    = np.array([0.0, 4.0, 0.0])\n",
    "qdot0 = np.array([0.0, 0.0, -5.0])\n",
    "x     = np.concatenate([q0, qdot0])\n",
    "\n",
    "dt = 0.01\n",
    "for t in range(500):\n",
    "    x = rk4_step(f_analytical_ball, x, dt)\n",
    "    # dxdt = f_analytical_ball(x)\n",
    "    # x  = x + dt*dxdt\n",
    "    # euler step \n",
    "    # x = euler_step(f_analytical_ball, x, dt)\n",
    "    q, qdot = np.split(x, 2)\n",
    "    if phi(q) <= 0:\n",
    "        q_c = np.array([q[0], q[1], -np.pi/2.0])\n",
    "        qdot = reset_map(q, qdot, q_c)\n",
    "        x = np.concatenate([q,qdot])\n",
    "    viewer.render(np.split(x,2)[0])\n",
    "    time.sleep(dt)"
   ]
  },
  {
   "cell_type": "code",
   "execution_count": null,
   "metadata": {},
   "outputs": [],
   "source": []
  }
 ],
 "metadata": {
  "kernelspec": {
   "display_name": "Python 3.10.6 ('meng443arm')",
   "language": "python",
   "name": "python3"
  },
  "language_info": {
   "codemirror_mode": {
    "name": "ipython",
    "version": 3
   },
   "file_extension": ".py",
   "mimetype": "text/x-python",
   "name": "python",
   "nbconvert_exporter": "python",
   "pygments_lexer": "ipython3",
   "version": "3.10.6"
  },
  "orig_nbformat": 4,
  "vscode": {
   "interpreter": {
    "hash": "8a4c8fcd1d64603278e49ea51704004ebbaed6d078e5ae6c40f7c8af5a01823a"
   }
  }
 },
 "nbformat": 4,
 "nbformat_minor": 2
}
