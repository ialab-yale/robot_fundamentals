{
 "cells": [
  {
   "cell_type": "code",
   "execution_count": 8,
   "id": "90674dab",
   "metadata": {},
   "outputs": [],
   "source": [
    "import mujoco"
   ]
  },
  {
   "cell_type": "code",
   "execution_count": null,
   "id": "c195f6be",
   "metadata": {},
   "outputs": [],
   "source": [
    "mujoco.mjd_transitionFD"
   ]
  },
  {
   "cell_type": "code",
   "execution_count": 1,
   "id": "8a242e6e-aa40-499d-8871-20c6b4a2fffd",
   "metadata": {},
   "outputs": [],
   "source": [
    "import casadi as ca\n",
    "import numpy as np\n",
    "import matplotlib.pyplot as plt\n"
   ]
  },
  {
   "cell_type": "code",
   "execution_count": 2,
   "id": "4fdc367f",
   "metadata": {},
   "outputs": [],
   "source": [
    "class PlanarDroneDynamics(object):\n",
    "    def __init__(self, dt=0.1) -> None:\n",
    "        self._m  = 0.1\n",
    "        # self._I = np.diag([1.0, 1.0, 1.0])\n",
    "        self._g  = 9.81 \n",
    "        self._I = 0.1\n",
    "        self._r = 0.1\n",
    "        self._dt = dt\n",
    "\n",
    "\n",
    "        def dfdt(q, tau):\n",
    "            x, y, th = q[0], q[1], q[2]\n",
    "            xdot, ydot, thdot = q[3], q[4], q[5]\n",
    "            u1, u2 = tau[0], tau[1]\n",
    "            xddot = (-(u1 + u2) * ca.sin(th))/self._m\n",
    "            yddot = ((u1+u2) * ca.cos(th) - self._m * self._g)/self._m\n",
    "            thddot = (self._r * (u1-u2))/self._I\n",
    "            return ca.vertcat(xdot, ydot, thdot, xddot, yddot, thddot) \n",
    "\n",
    "        def f(x, u):\n",
    "            return x + self._dt * self.dfdt(x, u)\n",
    "        self.dfdt = dfdt \n",
    "        self.f = f \n",
    "\n",
    "model = PlanarDroneDynamics()\n",
    "\n",
    "def loss(x, u):\n",
    "    return 40*ca.sumsqr(x-np.array([0.,0., 2*np.pi,0., 0., 0.])) + 0.0001*ca.sumsqr(u)"
   ]
  },
  {
   "cell_type": "code",
   "execution_count": 3,
   "id": "0ea37bc7",
   "metadata": {},
   "outputs": [],
   "source": [
    "opti = ca.Opti()\n",
    "tf = 6\n",
    "N = int(tf/model._dt)\n",
    "x = opti.variable(6, N+1) # Decision variables for state trajetcory\n",
    "u = opti.variable(2, N)\n",
    "p  = opti.parameter(6, 1)  # initial cond Parameter (not optimized over)\n",
    "pf = opti.parameter(2,1)\n",
    "opti.minimize(loss(x,u)/N)\n",
    "\n",
    "for k in range(N):\n",
    "  opti.subject_to(x[:,k+1]==model.f(x[:,k],u[:,k]))\n",
    "\n",
    "opti.subject_to(opti.bounded(0,u,2))\n",
    "opti.subject_to(x[:,0]==p) #np.array([2.,0.]))\n",
    "# opti.subject_to(u>=0)\n",
    "# opti.subject_to(x[:,-1]==pf) #np.array([10.,0.]))\n"
   ]
  },
  {
   "cell_type": "code",
   "execution_count": 5,
   "id": "8693f38e",
   "metadata": {},
   "outputs": [
    {
     "name": "stdout",
     "output_type": "stream",
     "text": [
      "This is Ipopt version 3.14.5, running with linear solver MUMPS 5.2.1.\n",
      "\n",
      "Number of nonzeros in equality constraint Jacobian...:     1386\n",
      "Number of nonzeros in inequality constraint Jacobian.:      120\n",
      "Number of nonzeros in Lagrangian Hessian.............:      606\n",
      "\n",
      "Total number of variables............................:      486\n",
      "                     variables with only lower bounds:        0\n",
      "                variables with lower and upper bounds:        0\n",
      "                     variables with only upper bounds:        0\n",
      "Total number of equality constraints.................:      366\n",
      "Total number of inequality constraints...............:      120\n",
      "        inequality constraints with only lower bounds:        0\n",
      "   inequality constraints with lower and upper bounds:      120\n",
      "        inequality constraints with only upper bounds:        0\n",
      "\n",
      "iter    objective    inf_pr   inf_du lg(mu)  ||d||  lg(rg) alpha_du alpha_pr  ls\n",
      "   0  1.6054556e+03 9.81e-01 8.50e+00  -1.0 0.00e+00    -  0.00e+00 0.00e+00   0\n",
      "   1  7.7716840e+02 1.96e+00 8.65e+01  -1.0 6.19e+00    -  1.13e-02 1.00e+00f  1\n",
      "   2  7.8822310e+02 1.83e+00 8.04e+01  -1.0 1.19e+01    -  3.99e-02 7.01e-02h  1\n",
      "   3  7.9855981e+02 1.71e+00 7.60e+01  -1.0 5.23e+00    -  2.58e-01 6.29e-02h  1\n",
      "   4  8.1842576e+02 1.43e+00 6.33e+01  -1.0 3.31e+00    -  1.06e-01 1.67e-01h  1\n",
      "   5  8.2257756e+02 1.32e+00 5.87e+01  -1.0 3.03e+00    -  3.57e-01 7.57e-02h  1\n",
      "   6  8.2577339e+02 1.22e+00 5.43e+01  -1.0 4.53e+00    -  1.08e-01 7.63e-02h  1\n",
      "   7  8.3155914e+02 1.12e+00 5.00e+01  -1.0 9.94e+00    -  2.40e-02 7.77e-02h  1\n",
      "   8  8.3647413e+02 1.09e+00 4.84e+01  -1.0 1.67e+01    -  2.61e-02 3.16e-02h  1\n",
      "   9  8.3947645e+02 1.06e+00 4.73e+01  -1.0 2.77e+01    -  1.70e-02 2.27e-02h  1\n",
      "iter    objective    inf_pr   inf_du lg(mu)  ||d||  lg(rg) alpha_du alpha_pr  ls\n",
      "  10  8.4844265e+02 1.02e+00 4.56e+01  -1.0 1.49e+01    -  2.01e-02 3.57e-02h  1\n",
      "  11  8.5859702e+02 9.91e-01 4.41e+01  -1.0 1.87e+01    -  3.10e-02 3.32e-02h  1\n",
      "  12  8.7005086e+02 9.60e-01 4.28e+01  -1.0 1.63e+01    -  4.65e-02 3.10e-02h  1\n",
      "  13  8.8183250e+02 9.35e-01 4.16e+01  -1.0 9.44e+00    -  4.18e-02 2.62e-02h  1\n",
      "  14  9.3774901e+02 8.46e-01 3.77e+01  -1.0 9.32e+00    -  8.99e-02 9.54e-02h  1\n",
      "  15  9.7989344e+02 7.87e-01 3.50e+01  -1.0 8.91e+00    -  4.30e-02 7.00e-02h  1\n",
      "  16  1.0080026e+03 7.51e-01 3.36e+01  -1.0 1.35e+01    -  1.21e-01 4.58e-02h  1\n",
      "  17  1.0607664e+03 6.96e-01 3.06e+01  -1.0 1.63e+01    -  5.47e-03 7.22e-02h  1\n",
      "  18  1.0831714e+03 6.71e-01 3.12e+01  -1.0 1.52e+01    -  1.04e-01 3.58e-02h  1\n",
      "  19  1.0971445e+03 6.56e-01 2.98e+01  -1.0 1.16e+01    -  5.23e-03 2.26e-02h  1\n",
      "iter    objective    inf_pr   inf_du lg(mu)  ||d||  lg(rg) alpha_du alpha_pr  ls\n",
      "  20  1.1544957e+03 6.00e-01 2.78e+01  -1.0 1.26e+01    -  1.00e-01 8.49e-02h  1\n",
      "  21  1.1970587e+03 5.57e-01 2.66e+01  -1.0 8.70e+00    -  1.00e-01 7.28e-02h  1\n",
      "  22  1.2271397e+03 5.28e-01 2.36e+01  -1.0 1.25e+01    -  7.76e-03 5.07e-02h  1\n",
      "  23  1.2786123e+03 4.82e-01 3.13e+01  -1.0 1.16e+01    -  3.09e-01 8.84e-02h  1\n",
      "  24  1.3197512e+03 4.44e-01 2.45e+01  -1.0 6.18e+00    -  6.65e-03 7.86e-02h  1\n",
      "  25  1.3638646e+03 4.18e-01 3.04e+01  -1.0 2.26e+01    -  1.13e-01 5.87e-02h  1\n",
      "  26  1.3848221e+03 3.96e-01 3.38e+01  -1.0 4.30e+00    -  2.36e-01 5.24e-02h  1\n",
      "  27  1.4546127e+03 3.29e-01 2.85e+01  -1.0 6.38e+00    -  3.88e-01 1.69e-01h  1\n",
      "  28  1.5370617e+03 2.53e-01 3.33e+01  -1.0 3.49e+00   0.0 5.63e-01 2.32e-01h  1\n",
      "  29  1.6032132e+03 1.95e-01 2.62e+01  -1.0 4.38e+00  -0.5 1.80e-01 2.29e-01h  1\n",
      "iter    objective    inf_pr   inf_du lg(mu)  ||d||  lg(rg) alpha_du alpha_pr  ls\n",
      "  30  1.6078297e+03 1.91e-01 2.44e+01  -1.0 5.30e+00    -  3.66e-01 2.29e-02h  1\n",
      "  31  1.6083087e+03 1.90e-01 1.87e+01  -1.0 4.28e+00    -  3.44e-01 2.60e-03h  1\n",
      "  32  1.6811184e+03 2.45e-01 1.83e+01  -1.0 7.50e+00    -  5.05e-03 2.60e-01h  1\n",
      "  33  1.6820911e+03 2.43e-01 1.82e+01  -1.0 2.62e+00    -  6.27e-01 7.47e-03h  1\n",
      "  34  1.7800604e+03 9.67e-02 1.50e+01  -1.0 1.36e+00    -  9.81e-02 5.99e-01h  1\n",
      "  35  1.8573449e+03 9.84e-02 1.36e+01  -1.0 1.08e+00  -0.1 6.86e-01 1.00e+00h  1\n",
      "  36  1.8543093e+03 1.12e-01 1.24e+01  -1.0 6.98e+00  -0.5 1.58e-01 7.57e-02f  1\n",
      "  37  1.8530110e+03 1.11e-01 2.54e+01  -1.0 6.85e+00  -1.0 2.27e-01 2.18e-02f  1\n",
      "  38  1.8509051e+03 8.42e-02 7.58e+00  -1.0 3.20e-01    -  1.00e+00 2.44e-01f  1\n",
      "  39  1.8446816e+03 1.27e-03 6.24e-01  -1.0 1.67e-01    -  1.00e+00 1.00e+00f  1\n",
      "iter    objective    inf_pr   inf_du lg(mu)  ||d||  lg(rg) alpha_du alpha_pr  ls\n",
      "  40  1.8377511e+03 7.42e-04 2.62e-01  -1.7 1.62e-01    -  9.09e-01 1.00e+00f  1\n",
      "  41  1.8374459e+03 3.67e-05 1.05e-02  -1.7 7.63e-02    -  1.00e+00 1.00e+00f  1\n",
      "  42  1.8356211e+03 6.59e-05 1.14e-01  -3.8 1.02e-01    -  8.45e-01 9.90e-01f  1\n",
      "  43  1.8355578e+03 6.89e-06 1.32e-02  -3.8 6.99e-02    -  9.19e-01 1.00e+00f  1\n",
      "  44  1.8355546e+03 2.82e-07 4.01e-05  -3.8 1.01e-01    -  1.00e+00 1.00e+00h  1\n",
      "  45  1.8355400e+03 2.23e-08 4.53e-04  -5.7 3.05e-02    -  9.36e-01 1.00e+00f  1\n",
      "  46  1.8355400e+03 8.90e-10 6.67e-09  -5.7 5.73e-03    -  1.00e+00 1.00e+00h  1\n",
      "  47  1.8355398e+03 2.15e-11 1.31e-09  -8.6 4.93e-04    -  1.00e+00 1.00e+00f  1\n",
      "  48  1.8355398e+03 8.88e-16 7.24e-14  -9.0 1.78e-06    -  1.00e+00 1.00e+00h  1\n",
      "\n",
      "Number of Iterations....: 48\n",
      "\n",
      "                                   (scaled)                 (unscaled)\n",
      "Objective...............:   1.8355397982458728e+03    1.8355397982458728e+03\n",
      "Dual infeasibility......:   7.2386541205560206e-14    7.2386541205560206e-14\n",
      "Constraint violation....:   8.8817841970012523e-16    8.8817841970012523e-16\n",
      "Variable bound violation:   0.0000000000000000e+00    0.0000000000000000e+00\n",
      "Complementarity.........:   9.0924071307834501e-10    9.0924071307834501e-10\n",
      "Overall NLP error.......:   9.0924071307834501e-10    9.0924071307834501e-10\n",
      "\n",
      "\n",
      "Number of objective function evaluations             = 49\n",
      "Number of objective gradient evaluations             = 49\n",
      "Number of equality constraint evaluations            = 49\n",
      "Number of inequality constraint evaluations          = 49\n",
      "Number of equality constraint Jacobian evaluations   = 49\n",
      "Number of inequality constraint Jacobian evaluations = 49\n",
      "Number of Lagrangian Hessian evaluations             = 48\n",
      "Total seconds in IPOPT                               = 0.071\n",
      "\n",
      "EXIT: Optimal Solution Found.\n",
      "      solver  :   t_proc      (avg)   t_wall      (avg)    n_eval\n",
      "       nlp_f  | 104.00us (  2.12us)  98.80us (  2.02us)        49\n",
      "       nlp_g  |   1.27ms ( 25.88us)   1.22ms ( 24.97us)        49\n",
      "    nlp_grad  |  54.00us ( 54.00us)  49.88us ( 49.88us)         1\n",
      "  nlp_grad_f  | 136.00us (  2.72us) 137.45us (  2.75us)        50\n",
      "  nlp_hess_l  |   1.68ms ( 35.06us)   1.68ms ( 35.10us)        48\n",
      "   nlp_jac_g  |   5.72ms (114.38us)   5.74ms (114.82us)        50\n",
      "       total  |  72.35ms ( 72.35ms)  71.48ms ( 71.48ms)         1\n"
     ]
    }
   ],
   "source": [
    "# p_opts = {\"expand\": True}\n",
    "# s_opts = {\"max_iter\": 1000000}\n",
    "# opti.solver('ipopt', p_opts, s_opts)\n",
    "opti.solver(\"ipopt\")\n",
    "# And choose a concrete value for p\n",
    "opti.set_value(p, [0.,0.,0.,0.,0.,0.])\n",
    "# opti.set_value(pf, [1.1 ,0.])\n",
    "sol = opti.solve()"
   ]
  },
  {
   "cell_type": "code",
   "execution_count": 6,
   "id": "f6b4eb91",
   "metadata": {},
   "outputs": [
    {
     "data": {
      "text/plain": [
       "[<matplotlib.lines.Line2D at 0x11f9483a0>,\n",
       " <matplotlib.lines.Line2D at 0x11f948340>,\n",
       " <matplotlib.lines.Line2D at 0x11f948460>]"
      ]
     },
     "execution_count": 6,
     "metadata": {},
     "output_type": "execute_result"
    },
    {
     "data": {
      "image/png": "[encoded data removed]",
      "text/plain": [
       "<Figure size 432x288 with 1 Axes>"
      ]
     },
     "metadata": {
      "needs_background": "light"
     },
     "output_type": "display_data"
    }
   ],
   "source": [
    "# plt.plot(opti.debug.value(x).T)\n",
    "# plt.plot(opti.debug.value(u).T)\n",
    "\n",
    "plt.plot(sol.value(x).T[:,:3])\n"
   ]
  },
  {
   "cell_type": "code",
   "execution_count": 7,
   "id": "26fbc32e",
   "metadata": {},
   "outputs": [
    {
     "data": {
      "text/plain": [
       "[<matplotlib.lines.Line2D at 0x128179910>,\n",
       " <matplotlib.lines.Line2D at 0x128179970>]"
      ]
     },
     "execution_count": 7,
     "metadata": {},
     "output_type": "execute_result"
    },
    {
     "data": {
      "image/png": "[encoded data removed]",
      "text/plain": [
       "<Figure size 432x288 with 1 Axes>"
      ]
     },
     "metadata": {
      "needs_background": "light"
     },
     "output_type": "display_data"
    }
   ],
   "source": [
    "plt.plot(sol.value(u).T)"
   ]
  },
  {
   "cell_type": "code",
   "execution_count": null,
   "id": "be7e7cf5",
   "metadata": {},
   "outputs": [],
   "source": []
  }
 ],
 "metadata": {
  "kernelspec": {
   "display_name": "Python 3.9.10 ('base')",
   "language": "python",
   "name": "python3"
  },
  "language_info": {
   "codemirror_mode": {
    "name": "ipython",
    "version": 3
   },
   "file_extension": ".py",
   "mimetype": "text/x-python",
   "name": "python",
   "nbconvert_exporter": "python",
   "pygments_lexer": "ipython3",
   "version": "3.9.10"
  },
  "vscode": {
   "interpreter": {
    "hash": "798b538306534186ead633776371254f522515bdb811fa2fd0b251c0d7733175"
   }
  }
 },
 "nbformat": 4,
 "nbformat_minor": 5
}
