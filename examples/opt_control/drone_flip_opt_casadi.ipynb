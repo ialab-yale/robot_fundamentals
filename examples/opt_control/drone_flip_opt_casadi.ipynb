{
 "cells": [
  {
   "cell_type": "code",
   "execution_count": 1,
   "id": "8a242e6e-aa40-499d-8871-20c6b4a2fffd",
   "metadata": {},
   "outputs": [],
   "source": [
    "import casadi as ca\n",
    "import numpy as np\n",
    "import matplotlib.pyplot as plt\n"
   ]
  },
  {
   "cell_type": "code",
   "execution_count": 42,
   "id": "4fdc367f",
   "metadata": {},
   "outputs": [],
   "source": [
    "class PlanarDroneDynamics(object):\n",
    "    def __init__(self, dt=0.1) -> None:\n",
    "        self._m  = 0.1\n",
    "        # self._I = np.diag([1.0, 1.0, 1.0])\n",
    "        self._g  = 9.81 \n",
    "        self._I = 0.1\n",
    "        self._r = 0.1\n",
    "        self._dt = dt\n",
    "\n",
    "\n",
    "        def dfdt(q, tau):\n",
    "            x, y, th = q[0], q[1], q[2]\n",
    "            xdot, ydot, thdot = q[3], q[4], q[5]\n",
    "            u1, u2 = tau[0], tau[1]\n",
    "            xddot = (-(u1 + u2) * ca.sin(th))/self._m\n",
    "            yddot = ((u1+u2) * ca.cos(th) - self._m * self._g)/self._m\n",
    "            thddot = (self._r * (u1-u2))/self._I\n",
    "            return ca.vertcat(xdot, ydot, thdot, xddot, yddot, thddot) \n",
    "\n",
    "        def f(x, u):\n",
    "            return x + self._dt * self.dfdt(x, u)\n",
    "        self.dfdt = dfdt \n",
    "        self.f = f \n",
    "\n",
    "model = PlanarDroneDynamics()\n",
    "\n",
    "def loss(x, u):\n",
    "    return 40*ca.sumsqr(x-np.array([0.,0., 2*np.pi,0., 0., 0.])) + 0.0001*ca.sumsqr(u)"
   ]
  },
  {
   "cell_type": "code",
   "execution_count": 43,
   "id": "0ea37bc7",
   "metadata": {},
   "outputs": [],
   "source": [
    "opti = ca.Opti()\n",
    "tf = 5\n",
    "N = int(tf/model._dt)\n",
    "x = opti.variable(6, N+1) # Decision variables for state trajetcory\n",
    "u = opti.variable(2, N)\n",
    "p  = opti.parameter(6, 1)  # initial cond Parameter (not optimized over)\n",
    "pf = opti.parameter(2,1)\n",
    "opti.minimize(loss(x,u)/N)\n",
    "\n",
    "for k in range(N):\n",
    "  opti.subject_to(x[:,k+1]==model.f(x[:,k],u[:,k]))\n",
    "\n",
    "opti.subject_to(opti.bounded(0,u,2))\n",
    "opti.subject_to(x[:,0]==p) #np.array([2.,0.]))\n",
    "# opti.subject_to(u>=0)\n",
    "# opti.subject_to(x[:,-1]==pf) #np.array([10.,0.]))\n"
   ]
  },
  {
   "cell_type": "code",
   "execution_count": 44,
   "id": "8693f38e",
   "metadata": {},
   "outputs": [
    {
     "name": "stdout",
     "output_type": "stream",
     "text": [
      "This is Ipopt version 3.14.5, running with linear solver MUMPS 5.2.1.\n",
      "\n",
      "Number of nonzeros in equality constraint Jacobian...:     1156\n",
      "Number of nonzeros in inequality constraint Jacobian.:      100\n",
      "Number of nonzeros in Lagrangian Hessian.............:      506\n",
      "\n",
      "Total number of variables............................:      406\n",
      "                     variables with only lower bounds:        0\n",
      "                variables with lower and upper bounds:        0\n",
      "                     variables with only upper bounds:        0\n",
      "Total number of equality constraints.................:      306\n",
      "Total number of inequality constraints...............:      100\n",
      "        inequality constraints with only lower bounds:        0\n",
      "   inequality constraints with lower and upper bounds:      100\n",
      "        inequality constraints with only upper bounds:        0\n",
      "\n",
      "iter    objective    inf_pr   inf_du lg(mu)  ||d||  lg(rg) alpha_du alpha_pr  ls\n",
      "   0  1.6107194e+03 9.81e-01 1.02e+01  -1.0 0.00e+00    -  0.00e+00 0.00e+00   0\n",
      "   1  1.3701234e+03 8.33e-01 2.41e+01  -1.0 5.16e+00    -  1.08e-02 2.37e-01f  1\n",
      "   2  1.6818502e+03 5.38e-01 2.41e+01  -1.0 4.63e+00    -  1.96e-02 4.08e-01h  1\n",
      "   3  1.6333318e+03 3.59e-01 1.81e+01  -1.0 1.87e+00    -  8.17e-02 3.32e-01f  1\n",
      "   4  1.5783193e+03 1.39e-01 2.37e+01  -1.0 1.17e+00    -  6.20e-01 1.00e+00f  1\n",
      "   5  1.5928174e+03 5.36e-03 7.13e-01  -1.0 2.94e-01    -  8.43e-01 1.00e+00h  1\n",
      "   6  1.5922693e+03 8.05e-03 3.07e-02  -1.7 2.79e-01    -  1.00e+00 1.00e+00f  1\n",
      "   7  1.5918720e+03 3.83e-03 8.24e-03  -2.5 2.07e-01    -  8.79e-01 9.32e-01f  1\n",
      "   8  1.5917107e+03 6.04e-04 4.03e-03  -3.8 2.50e-01    -  8.60e-01 9.83e-01f  1\n",
      "   9  1.5916868e+03 2.61e-05 1.72e-04  -3.8 1.05e-01    -  1.00e+00 1.00e+00h  1\n",
      "iter    objective    inf_pr   inf_du lg(mu)  ||d||  lg(rg) alpha_du alpha_pr  ls\n",
      "  10  1.5916824e+03 4.19e-06 1.85e-04  -5.7 4.29e-02    -  9.44e-01 9.89e-01h  1\n",
      "  11  1.5916821e+03 2.52e-07 2.55e-06  -5.7 1.54e-02    -  1.00e+00 1.00e+00f  1\n",
      "  12  1.5916821e+03 1.56e-08 1.62e-07  -8.6 2.43e-03    -  9.99e-01 9.99e-01h  1\n",
      "  13  1.5916821e+03 5.77e-11 6.32e-10  -8.6 1.58e-04    -  1.00e+00 1.00e+00f  1\n",
      "\n",
      "Number of Iterations....: 13\n",
      "\n",
      "                                   (scaled)                 (unscaled)\n",
      "Objective...............:   1.5916820609683261e+03    1.5916820609683261e+03\n",
      "Dual infeasibility......:   6.3162630681290466e-10    6.3162630681290466e-10\n",
      "Constraint violation....:   5.7684745868868958e-11    5.7684745868868958e-11\n",
      "Variable bound violation:   0.0000000000000000e+00    0.0000000000000000e+00\n",
      "Complementarity.........:   7.3546491533745629e-09    7.3546491533745629e-09\n",
      "Overall NLP error.......:   7.3546491533745629e-09    7.3546491533745629e-09\n",
      "\n",
      "\n",
      "Number of objective function evaluations             = 14\n",
      "Number of objective gradient evaluations             = 14\n",
      "Number of equality constraint evaluations            = 14\n",
      "Number of inequality constraint evaluations          = 14\n",
      "Number of equality constraint Jacobian evaluations   = 14\n",
      "Number of inequality constraint Jacobian evaluations = 14\n",
      "Number of Lagrangian Hessian evaluations             = 13\n",
      "Total seconds in IPOPT                               = 0.019\n",
      "\n",
      "EXIT: Optimal Solution Found.\n",
      "      solver  :   t_proc      (avg)   t_wall      (avg)    n_eval\n",
      "       nlp_f  |  46.00us (  3.29us)  39.50us (  2.82us)        14\n",
      "       nlp_g  |  91.00us (  6.50us)  70.00us (  5.00us)        14\n",
      "    nlp_grad  |  28.00us ( 28.00us)  18.17us ( 18.17us)         1\n",
      "  nlp_grad_f  |  69.00us (  4.60us)  64.62us (  4.31us)        15\n",
      "  nlp_hess_l  |  60.00us (  4.62us)  53.79us (  4.14us)        13\n",
      "   nlp_jac_g  | 101.00us (  6.73us) 100.87us (  6.72us)        15\n",
      "       total  |  19.21ms ( 19.21ms)  19.50ms ( 19.50ms)         1\n"
     ]
    }
   ],
   "source": [
    "p_opts = {\"expand\": True}\n",
    "s_opts = {\"max_iter\": 1000000}\n",
    "opti.solver('ipopt', p_opts, s_opts)\n",
    "\n",
    "# And choose a concrete value for p\n",
    "opti.set_value(p, [0.,0.,0.,0.,0.,0.])\n",
    "# opti.set_value(pf, [1.1 ,0.])\n",
    "sol = opti.solve()"
   ]
  },
  {
   "cell_type": "code",
   "execution_count": 45,
   "id": "f6b4eb91",
   "metadata": {},
   "outputs": [
    {
     "data": {
      "text/plain": [
       "[<matplotlib.lines.Line2D at 0x1529808b0>,\n",
       " <matplotlib.lines.Line2D at 0x152980910>,\n",
       " <matplotlib.lines.Line2D at 0x152980a30>,\n",
       " <matplotlib.lines.Line2D at 0x152980b50>,\n",
       " <matplotlib.lines.Line2D at 0x152980c70>,\n",
       " <matplotlib.lines.Line2D at 0x152980d90>]"
      ]
     },
     "execution_count": 45,
     "metadata": {},
     "output_type": "execute_result"
    },
    {
     "data": {
      "image/png": "[encoded data removed]",
      "text/plain": [
       "<Figure size 432x288 with 1 Axes>"
      ]
     },
     "metadata": {
      "needs_background": "light"
     },
     "output_type": "display_data"
    }
   ],
   "source": [
    "plt.plot(opti.debug.value(x).T)\n",
    "# plt.plot(opti.debug.value(u).T)\n",
    "\n",
    "# plt.plot(sol.value(x).T[:,:3])\n"
   ]
  },
  {
   "cell_type": "code",
   "execution_count": 46,
   "id": "26fbc32e",
   "metadata": {},
   "outputs": [
    {
     "data": {
      "text/plain": [
       "[<matplotlib.lines.Line2D at 0x1529ecaf0>,\n",
       " <matplotlib.lines.Line2D at 0x1529ecb50>]"
      ]
     },
     "execution_count": 46,
     "metadata": {},
     "output_type": "execute_result"
    },
    {
     "data": {
      "image/png": "[encoded data removed]",
      "text/plain": [
       "<Figure size 432x288 with 1 Axes>"
      ]
     },
     "metadata": {
      "needs_background": "light"
     },
     "output_type": "display_data"
    }
   ],
   "source": [
    "plt.plot(sol.value(u).T)"
   ]
  },
  {
   "cell_type": "code",
   "execution_count": null,
   "id": "be7e7cf5",
   "metadata": {},
   "outputs": [],
   "source": []
  }
 ],
 "metadata": {
  "kernelspec": {
   "display_name": "Python 3.9.10 ('base')",
   "language": "python",
   "name": "python3"
  },
  "language_info": {
   "codemirror_mode": {
    "name": "ipython",
    "version": 3
   },
   "file_extension": ".py",
   "mimetype": "text/x-python",
   "name": "python",
   "nbconvert_exporter": "python",
   "pygments_lexer": "ipython3",
   "version": "3.9.10"
  },
  "vscode": {
   "interpreter": {
    "hash": "798b538306534186ead633776371254f522515bdb811fa2fd0b251c0d7733175"
   }
  }
 },
 "nbformat": 4,
 "nbformat_minor": 5
}
