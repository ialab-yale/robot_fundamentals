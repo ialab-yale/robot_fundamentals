{
 "cells": [
  {
   "cell_type": "markdown",
   "metadata": {},
   "source": [
    "# LQR Control\n",
    "In this homework assignment, your objective is to write a controller for a Cart-Pendulum robotic system. (see below)\n",
    "\n",
    "<img src=\"./cart_pendulum.png\" width=\"400\">\n",
    "\n",
    "This system is considered a classical control problem. While the dimensionality of the system is pretty small $x\\in\\mathbb{R}^4$, $u \\in \\mathbb{R}^1$, the dynamics are quite nonlinear and pose interesting issues for writing controller. One such issue is that it is underactuated and therefore, we can not use our traditional controllers. Another is that the dynamics have a kinematic singularity where any control input will not have an effect on the pendulum during swing up. \n",
    "\n",
    "\n",
    "The task is to write a balance and swing up controller using two methods: 1) LQR and 2) Direct Transcription using a model of the cart-pendulum. "
   ]
  },
  {
   "cell_type": "code",
   "execution_count": 1,
   "metadata": {},
   "outputs": [
    {
     "name": "stderr",
     "output_type": "stream",
     "text": [
      "<frozen importlib._bootstrap>:228: RuntimeWarning: scipy._lib.messagestream.MessageStream size changed, may indicate binary incompatibility. Expected 56 from C header, got 64 from PyObject\n"
     ]
    }
   ],
   "source": [
    "# Imports \n",
    "import jax\n",
    "import jax.numpy as jnp \n",
    "from jax import jacfwd, grad\n",
    "import numpy as np\n",
    "import matplotlib.pyplot as plt\n",
    "from viewer import CartPendulumViewer\n",
    "import time\n"
   ]
  },
  {
   "cell_type": "markdown",
   "metadata": {},
   "source": [
    "### Dynamics and derivatives\n",
    "We are first going to explicitly write down the continuous time dynamics $\\dot{x} = f(x,u)$ for the cart pendulum.\n",
    "$$\n",
    "    \\dot{x} = f(x,u) = \\begin{bmatrix}\n",
    "        \\dot{\\theta} \\\\ \n",
    "        \\dot{x}_c \\\\ \n",
    "        \\frac{g}{l} \\sin(\\theta) + \\frac{u}{l} \\cos(\\theta) \\\\ \n",
    "        u\n",
    "    \\end{bmatrix}\n",
    "$$\n",
    "where $\\theta, x_c$ are the pendulum angle (0 is inverted equilibrium) and the cart position respectively, and $g,l$ is gravity and the pendulum length. \n",
    "\n",
    "To compute an LQR controller we need to compute the derivatives $A=\\frac{\\partial f}{\\partial x}$, and $B=\\frac{\\partial f}{\\partial u}$ about the inverted equilibrium $\\bar{x} = [0,0,0,0], \\bar{u} = [0]$ where the dynamics are locally\n",
    "$$\n",
    "    \\dot{x} = Ax + Bu\n",
    "$$\n",
    "Note that this is the **continuous** time $A$ and $B$ matrices for the linearized dynamics. To compute an LQR controller for a robot, we would need to use the **discrete** time dynamics. To obtain this, we simply assume Euler integration for a discrete time $\\Delta t$: \n",
    "$$\n",
    "    \\begin{align*}\n",
    "        x_{t+1} &= x_t + \\dot{x} \\Delta t \\\\\n",
    "                &= x_t + (Ax_t + Bu_t) \\Delta t  \\\\ \n",
    "                &= (I+A\\Delta t) x_t + \\Delta t B u_t  \\\\ \n",
    "                &=\\bar{A} x_t + \\bar{B} u_t \n",
    "    \\end{align*}\n",
    "$$\n",
    "we will use the discrete time $\\bar{A},\\bar{B}$ to compute the LQR controller. \n",
    "\n",
    "Using `jacfwd` compute the $\\bar{A}, \\bar{B}$ matrices around the operating points $\\bar{x}, \\bar{u}$."
   ]
  },
  {
   "cell_type": "code",
   "execution_count": 1,
   "metadata": {},
   "outputs": [
    {
     "ename": "SyntaxError",
     "evalue": "invalid syntax (4200620105.py, line 17)",
     "output_type": "error",
     "traceback": [
      "\u001b[0;36m  File \u001b[0;32m\"/var/folders/87/hlqv70yd0n79wj330vzqffx10y2fzc/T/ipykernel_40970/4200620105.py\"\u001b[0;36m, line \u001b[0;32m17\u001b[0m\n\u001b[0;31m    A = ???\u001b[0m\n\u001b[0m        ^\u001b[0m\n\u001b[0;31mSyntaxError\u001b[0m\u001b[0;31m:\u001b[0m invalid syntax\n"
     ]
    }
   ],
   "source": [
    "## This is your operating state and control\n",
    "xbar = jnp.zeros(4)\n",
    "ubar = jnp.zeros(1)\n",
    "Dt = 0.1\n",
    "\n",
    "def f(x, u):\n",
    "    \"\"\"\n",
    "        Comtinuous time dynamics \\xdot{x} = f(x, u)\n",
    "    \"\"\"\n",
    "    _g = 9.81 \n",
    "    _l = 1.0\n",
    "    th, xc, thdot, xcdot = x\n",
    "    F = u[0]\n",
    "    xdot = jnp.array([\n",
    "                thdot, xcdot,\n",
    "                _g*jnp.sin(th)/_l+F*jnp.cos(th)/_l,\n",
    "                F])\n",
    "    return xdot\n",
    "\n",
    "A = ???\n",
    "B = ???"
   ]
  },
  {
   "cell_type": "markdown",
   "metadata": {},
   "source": [
    "### LQR Algorithm \n",
    "Construct the quadratic cost function for this problem. Compose the LQR algorithm for calculating the LQR controller and the Ricatti matrix for time discrete time horizon $T$. \n",
    "\n",
    "The cost is given as \n",
    "$$\n",
    "    \\ell(x, u) = x^\\top Q x + u^\\top R u\n",
    "$$\n",
    "with \n",
    "$$\n",
    "    m(x) = x^\\top Q_f x\n",
    "$$\n",
    "\n",
    "Pick a $Q, R, Q_f$ and construct a function that outputs the LQR controller gains $K_t$ for $u = K_t x_t$ for $t \\in [0, \\ldots, T-1]$ and the Ricatti matrix $P_t \\forall t \\in [0, \\ldots, T-1]$\n"
   ]
  },
  {
   "cell_type": "code",
   "execution_count": 3,
   "metadata": {},
   "outputs": [],
   "source": [
    "tf = 10\n",
    "T = int(tf/Dt)\n",
    "\n",
    "Q  = ???\n",
    "Qf = ???\n",
    "R  = ???\n",
    "\n",
    "def getLQRGains(A, B, Q, R, Qf, T):\n",
    "    \"\"\"\n",
    "        Return a list of K and P for time t -> 0, T-1\n",
    "        Klist = [K0, K1, K2,...]\n",
    "        Plist = [P0, P1, P2,...]\n",
    "    \"\"\"\n",
    "\n",
    "    return Klist, Plist"
   ]
  },
  {
   "cell_type": "markdown",
   "metadata": {},
   "source": [
    "### Simulate Balance Control\n",
    "Bring it all together! Write a simulation which uses the cart pendulum continuous time dynamics and simulate the dynamics while balancing the robot. Go and use your function to compute an LQR controller to create a balance controller for the simulation time. "
   ]
  },
  {
   "cell_type": "code",
   "execution_count": 5,
   "metadata": {},
   "outputs": [
    {
     "ename": "KeyboardInterrupt",
     "evalue": "",
     "output_type": "error",
     "traceback": [
      "\u001b[0;31m---------------------------------------------------------------------------\u001b[0m",
      "\u001b[0;31mKeyboardInterrupt\u001b[0m                         Traceback (most recent call last)",
      "\u001b[0;32m/var/folders/87/hlqv70yd0n79wj330vzqffx10y2fzc/T/ipykernel_25491/233828500.py\u001b[0m in \u001b[0;36m<module>\u001b[0;34m\u001b[0m\n\u001b[1;32m     13\u001b[0m         \u001b[0mtrajectory\u001b[0m\u001b[0;34m[\u001b[0m\u001b[0;34m'u'\u001b[0m\u001b[0;34m]\u001b[0m\u001b[0;34m.\u001b[0m\u001b[0mappend\u001b[0m\u001b[0;34m(\u001b[0m\u001b[0mu\u001b[0m\u001b[0;34m.\u001b[0m\u001b[0mcopy\u001b[0m\u001b[0;34m(\u001b[0m\u001b[0;34m)\u001b[0m\u001b[0;34m)\u001b[0m\u001b[0;34m\u001b[0m\u001b[0;34m\u001b[0m\u001b[0m\n\u001b[1;32m     14\u001b[0m         \u001b[0mviewer\u001b[0m\u001b[0;34m.\u001b[0m\u001b[0mrender\u001b[0m\u001b[0;34m(\u001b[0m\u001b[0mx0\u001b[0m\u001b[0;34m[\u001b[0m\u001b[0;34m:\u001b[0m\u001b[0;36m2\u001b[0m\u001b[0;34m]\u001b[0m\u001b[0;34m)\u001b[0m\u001b[0;34m\u001b[0m\u001b[0;34m\u001b[0m\u001b[0m\n\u001b[0;32m---> 15\u001b[0;31m         \u001b[0mtime\u001b[0m\u001b[0;34m.\u001b[0m\u001b[0msleep\u001b[0m\u001b[0;34m(\u001b[0m\u001b[0mDt\u001b[0m\u001b[0;34m)\u001b[0m\u001b[0;34m\u001b[0m\u001b[0;34m\u001b[0m\u001b[0m\n\u001b[0m",
      "\u001b[0;31mKeyboardInterrupt\u001b[0m: "
     ]
    }
   ],
   "source": [
    "viewer = CartPendulumViewer()\n",
    "viewer.open()\n",
    "\n",
    "x0 = np.array([0.6, 0.4, 0., 0.])\n",
    "trajectory ={\n",
    "    'x' : [],\n",
    "    'u' : []\n",
    "}\n",
    "\n",
    "K, P = getLQRGains(A, B, Q, R, Qf, T)\n",
    "\n",
    "for t in range(T):\n",
    "    \"\"\"\n",
    "        Add code here to simulate cart pendulum and \n",
    "        calculate the feedback control u = K x\n",
    "        use your euler/rk4 code from last assignment to integrate\n",
    "        continuous-time dynamics f(x,u)\n",
    "    \"\"\"\n",
    "\n",
    "    trajectory['x'].append(x0.copy())\n",
    "    trajectory['u'].append(u.copy())\n",
    "    viewer.render(x0[:2])\n",
    "    time.sleep(Dt)"
   ]
  },
  {
   "cell_type": "code",
   "execution_count": null,
   "metadata": {},
   "outputs": [
    {
     "data": {
      "text/plain": [
       "[<matplotlib.lines.Line2D at 0x139539be0>]"
      ]
     },
     "execution_count": 9,
     "metadata": {},
     "output_type": "execute_result"
    },
    {
     "data": {
      "image/png": "[encoded data removed]",
      "text/plain": [
       "<Figure size 432x288 with 1 Axes>"
      ]
     },
     "metadata": {
      "needs_background": "light"
     },
     "output_type": "display_data"
    }
   ],
   "source": [
    "plt.plot(trajectory['x'])\n",
    "plt.plot(trajectory['u'])"
   ]
  },
  {
   "cell_type": "code",
   "execution_count": null,
   "metadata": {},
   "outputs": [],
   "source": []
  }
 ],
 "metadata": {
  "kernelspec": {
   "display_name": "Python 3.9.10 ('base')",
   "language": "python",
   "name": "python3"
  },
  "language_info": {
   "codemirror_mode": {
    "name": "ipython",
    "version": 3
   },
   "file_extension": ".py",
   "mimetype": "text/x-python",
   "name": "python",
   "nbconvert_exporter": "python",
   "pygments_lexer": "ipython3",
   "version": "3.9.10"
  },
  "orig_nbformat": 4,
  "vscode": {
   "interpreter": {
    "hash": "798b538306534186ead633776371254f522515bdb811fa2fd0b251c0d7733175"
   }
  }
 },
 "nbformat": 4,
 "nbformat_minor": 2
}
