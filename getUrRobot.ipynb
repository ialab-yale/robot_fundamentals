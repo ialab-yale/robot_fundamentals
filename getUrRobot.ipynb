{
 "cells": [
  {
   "cell_type": "markdown",
   "id": "a6297dea-f1c8-4f1c-8135-271ac5c641db",
   "metadata": {},
   "source": [
    "# Your First (Simulated) Robot!\n",
    "In this notebook you will run Mujoco, a physics simulator that we will be using for the class. You shoul study the API for Mujoco as we will be using the python wrappers which directly map to the C code it was written in. \n",
    "\n",
    "Mujoco works in the following way: A model and data structure compose the simulator. The model provides the geometric, kinematic, structural information while any data e.g., generalized coordinates, velocities, contacts, etc., is stored in the data structure. The data is created from the model and a model is created from a configuration file which defines the robot the environment parameters. \n",
    "\n",
    "We create a robot model by using an `.xml` file which is provided in the A1 folder. The `.xml` file defines the simulation parameters, the structure of the robot, transforms, joints, dynamics, geometry, sensors, actuators, and anything else in the environment. Take a look at the composition of the one provided by the A1 robot in the a1 directory. These files are similar to the more common `.urdf` files which stands for Universal Robot Description Format. These files, like `.xml` describe the robot and the environment and can be converted from one to another. In many other simulators and robotics toolbox, a `.urdf` is often used to describe the robot. There are a few advantages and disadvantages for using either format. If you download the source code for mujoco from Deepmind, they provide with a `convert` function which can transform a `.urdf` to a `.xml` file and vice-versa. I recommend exploring both files which are provided in this repo. \n",
    "\n",
    "This notebook will go through the steps of importing, creating a model, data, and visualizing your first robot. "
   ]
  },
  {
   "cell_type": "markdown",
   "id": "ea15eb8d-c2b3-48d2-98a7-9279819d3fa9",
   "metadata": {},
   "source": [
    "## Mujoco imports\n",
    "Below are the typical imports you will need to get started with. "
   ]
  },
  {
   "cell_type": "code",
   "execution_count": 1,
   "id": "8a242e6e-aa40-499d-8871-20c6b4a2fffd",
   "metadata": {},
   "outputs": [],
   "source": [
    "import mujoco\n",
    "import mujoco_viewer\n",
    "import numpy as np"
   ]
  },
  {
   "cell_type": "markdown",
   "id": "5f0561fa-8e94-4f8b-80d0-eabc59362c0f",
   "metadata": {},
   "source": [
    "## Creating model and data structures\n",
    "A model can be created through many ways. One can even specify a string that has the structure of the xml file that we can use to build a robot. The data is then built from the modal and used to extract out computation from simulating the system forward. "
   ]
  },
  {
   "cell_type": "code",
   "execution_count": 2,
   "id": "24d38ebd-d55a-4fce-af2a-5adf5de274d5",
   "metadata": {},
   "outputs": [],
   "source": [
    "model = mujoco.MjModel.from_xml_path('./a1/xml/a1.xml')\n",
    "data = mujoco.MjData(model)"
   ]
  },
  {
   "cell_type": "markdown",
   "id": "4f93ab6c-d8b3-4452-b9e5-fe9a3cd0ae5b",
   "metadata": {},
   "source": [
    "## Visualization\n",
    "The following code will create a openGL window which will render the environment to you. However, just running it will not do anything. As part of the code, you will have to run `viewer.render()` each time after you step the simulation forward. Depending on how often you run the render function, the visualization will appear faster/slower than real-time. The true time stepping is defined in the `.xml` file. "
   ]
  },
  {
   "cell_type": "code",
   "execution_count": 3,
   "id": "e4d69e7a-7d0c-4b13-b435-9bddfef9dbe2",
   "metadata": {},
   "outputs": [],
   "source": [
    "# create the viewer object\n",
    "viewer = mujoco_viewer.MujocoViewer(model, data)"
   ]
  },
  {
   "cell_type": "code",
   "execution_count": null,
   "id": "42593796-6dd2-48d0-a4f3-9e64a6f896ff",
   "metadata": {},
   "outputs": [],
   "source": [
    "# PD control parameters\n",
    "kp = 80.\n",
    "kd = 10.\n",
    "# simulate and render\n",
    "i = 0 # <-- counter \n",
    "while True: \n",
    "    with open(\"mocap.txt\",\"r\") as filestream: # < -- grabs the mocap data\n",
    "        for line in filestream:\n",
    "            # the following lines convert the text to target joint values\n",
    "            currentline = line.split(\",\")\n",
    "            frame = currentline[0]\n",
    "            t = currentline[1]\n",
    "            target_joints = np.array([float(_q) for _q in currentline[2:14]])\n",
    "            \n",
    "            # make sure that you can still see the environment \n",
    "            if viewer.is_alive:\n",
    "                # pull the joint position and velocities\n",
    "                q = np.array(data.qpos[7:]) # <-- notice that the first 7 values are the base body position (3) and orientation in quaternains (4)\n",
    "                v = np.array(data.qvel[6:]) # <-- here the joint velocities start after the base body rotations (only 3, not 4)\n",
    "                # basic PD controller \n",
    "                tau = kp * (target_joints-q) + kd * (-v)\n",
    "                # to apply a control input to mujoco, you need to set the inputs to the data structure's ctrl variable\n",
    "                data.ctrl = tau\n",
    "                # the data and model sets passed to the step function to step the simulation. New poses, vel, cont, etc, get recorded into data\n",
    "                mujoco.mj_step(model, data)\n",
    "                \n",
    "                # every 30 steps render the environment \n",
    "                if i % 30 == 0:\n",
    "                    viewer.render()\n",
    "                i += 1\n",
    "            else:\n",
    "                break\n",
    "\n",
    "# close\n",
    "viewer.close()"
   ]
  }
 ],
 "metadata": {
  "kernelspec": {
   "display_name": "Python 3 (ipykernel)",
   "language": "python",
   "name": "python3"
  },
  "language_info": {
   "codemirror_mode": {
    "name": "ipython",
    "version": 3
   },
   "file_extension": ".py",
   "mimetype": "text/x-python",
   "name": "python",
   "nbconvert_exporter": "python",
   "pygments_lexer": "ipython3",
   "version": "3.10.6"
  }
 },
 "nbformat": 4,
 "nbformat_minor": 5
}
