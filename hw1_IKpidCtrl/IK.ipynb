{
 "cells": [
  {
   "cell_type": "markdown",
   "id": "a6297dea-f1c8-4f1c-8135-271ac5c641db",
   "metadata": {},
   "source": [
    "# Inverse Kinematics and PID control\n",
    "In this homework assignemnt, you will be tasked with creating an IK solver and controlling a robot arm using PID control (specifically the Franka Panda 7DoF robot). We will be creating two versions of the controller, one that uses pure velocity control and another that using torque control with feedforward dynamics. "
   ]
  },
  {
   "cell_type": "markdown",
   "id": "ea15eb8d-c2b3-48d2-98a7-9279819d3fa9",
   "metadata": {},
   "source": [
    "### Import mujoco and numpy"
   ]
  },
  {
   "cell_type": "code",
   "execution_count": 1,
   "id": "8a242e6e-aa40-499d-8871-20c6b4a2fffd",
   "metadata": {},
   "outputs": [],
   "source": [
    "import mujoco\n",
    "import mujoco_viewer\n",
    "import numpy as np\n",
    "import scipy as sp\n",
    "\n",
    "from autograder import autograder\n"
   ]
  },
  {
   "cell_type": "markdown",
   "id": "5f0561fa-8e94-4f8b-80d0-eabc59362c0f",
   "metadata": {},
   "source": [
    "### Franka Emika Panda Robot\n",
    "We will be importing the Franka Panda robot. Take a look at the robot tree in `franka_emika_panda/panda.xml` file. Rather than importing the robot, we will instead import a specific `scene_X.xml` file that specifies different joint actuation on the robot. Note that the `panda.xml` only specifies the robot body and joints. There are two other files that specify the type of actuation on the robot (`vel_act.xml` and `torque_act.xml`) which we will use to demonstrate the different levels of robot control. "
   ]
  },
  {
   "cell_type": "code",
   "execution_count": 2,
   "id": "557cbca7",
   "metadata": {},
   "outputs": [],
   "source": [
    "def hat(w):\n",
    "    return np.array([\n",
    "        [0., -w[2], w[1]],\n",
    "        [w[2], 0., -w[0]],\n",
    "        [-w[1], w[0], 0.]])\n",
    "\n",
    "def unhat(R):\n",
    "    return np.array([R[2,1], R[0,2], R[1,0]])\n"
   ]
  },
  {
   "cell_type": "code",
   "execution_count": 3,
   "id": "d85728ae",
   "metadata": {},
   "outputs": [
    {
     "name": "stdout",
     "output_type": "stream",
     "text": [
      "Passed Debug test\n"
     ]
    }
   ],
   "source": [
    "autograder.testQ1(hat, unhat)"
   ]
  },
  {
   "cell_type": "code",
   "execution_count": 4,
   "id": "5fef87f4",
   "metadata": {},
   "outputs": [],
   "source": [
    "\n",
    "def getSitePose(model, data, site_name):\n",
    "    site_id = mujoco.mj_name2id(model, mujoco.mjtObj.mjOBJ_SITE, site_name)\n",
    "    p = data.site_xpos[site_id]\n",
    "    R = data.site_xmat[site_id].reshape((3,3))\n",
    "    return (R, p)\n",
    "\n",
    "def getSiteJacobian(model, data, body_name):\n",
    "    body_id = mujoco.mj_name2id(model, mujoco.mjtObj.mjOBJ_SITE, body_name)\n",
    "    jacp = np.zeros((3, model.nv))\n",
    "    jacr = np.zeros((3, model.nv))\n",
    "    mujoco.mj_jacSite(model, data, jacp, jacr, body_id)\n",
    "    return np.concatenate([jacp, jacr], axis=0)\n",
    "\n",
    "def calcIKStep(jac, x_des, x_curr):\n",
    "    dp = x_des[1] - x_curr[1]\n",
    "    dw = unhat(sp.linalg.logm(x_des[0]@x_curr[0].T))\n",
    "    res = np.concatenate([dp, dw])\n",
    "    return np.linalg.pinv(jac) @ res\n",
    "\n",
    "def IKSolve(q, jac, x_des, x_curr):\n",
    "    dq = calcIKStep(jac, x_des, x_curr)\n",
    "    return q + dq"
   ]
  },
  {
   "cell_type": "code",
   "execution_count": 5,
   "id": "24d38ebd-d55a-4fce-af2a-5adf5de274d5",
   "metadata": {},
   "outputs": [],
   "source": [
    "model   = mujoco.MjModel.from_xml_path('./franka_emika_panda/scene_torque_actuators.xml')\n",
    "data    = mujoco.MjData(model)\n",
    "\n",
    "def simulateCtrl(ctrl, render=True, t_max=1000):\n",
    "    data.qpos = model.key_qpos\n",
    "    mujoco.mj_step(model, data)\n",
    "    if render:\n",
    "        viewer = mujoco_viewer.MujocoViewer(model, data)\n",
    "        viewer.vopt.frame = 3\n",
    "    for t in range(t_max):\n",
    "        u = ctrl(model, data)\n",
    "        data.ctrl = u \n",
    "        mujoco.mj_step(model, data)\n",
    "        if render:\n",
    "            if viewer.is_alive:\n",
    "                viewer.render()\n",
    "    if render:\n",
    "        viewer.close()\n",
    "        "
   ]
  },
  {
   "cell_type": "markdown",
   "id": "4f93ab6c-d8b3-4452-b9e5-fe9a3cd0ae5b",
   "metadata": {},
   "source": [
    "## Visualization\n",
    "The following code will create a openGL window which will render the environment to you. However, just running it will not do anything. As part of the code, you will have to run `viewer.render()` each time after you step the simulation forward. Depending on how often you run the render function, the visualization will appear faster/slower than real-time. The true time stepping is defined in the `.xml` file. "
   ]
  },
  {
   "cell_type": "code",
   "execution_count": 6,
   "id": "42593796-6dd2-48d0-a4f3-9e64a6f896ff",
   "metadata": {},
   "outputs": [],
   "source": [
    "def ctrl(model, data):\n",
    "    # PD control parameters\n",
    "    kp = 350.\n",
    "    kd = 50.\n",
    "    # simulate and render\n",
    "    ee_pose     = getSitePose(model, data, \"ee_site\")\n",
    "    site_pose   = getSitePose(model, data, \"target_site\")\n",
    "    jac         = getSiteJacobian(model, data, \"ee_site\")\n",
    "    # dq          = calcIKStep(jac, site_pose, ee_pose)\n",
    "    q = data.qpos\n",
    "    qvel = data.qvel\n",
    "    q_des = IKSolve(q, jac, site_pose, ee_pose)\n",
    "    qddot_des = kp * (q_des - q) + kd * (-qvel)\n",
    "    mass_matrix = np.zeros((model.nv, model.nv))\n",
    "    mujoco.mj_fullM(model, mass_matrix, data.qM)\n",
    "    tau = mass_matrix@qddot_des + data.qfrc_bias\n",
    "    return tau"
   ]
  },
  {
   "cell_type": "code",
   "execution_count": 7,
   "id": "d677ed5d",
   "metadata": {},
   "outputs": [
    {
     "name": "stderr",
     "output_type": "stream",
     "text": [
      "/home/anon/miniconda3/envs/meng443arm/lib/python3.10/site-packages/glfw/__init__.py:906: GLFWError: (65544) b'Wayland: Standard cursor shape unavailable'\n",
      "  warnings.warn(message, GLFWError)\n"
     ]
    },
    {
     "name": "stdout",
     "output_type": "stream",
     "text": [
      "Pressed ESC\n",
      "Quitting.\n"
     ]
    }
   ],
   "source": [
    "simulateCtrl(ctrl)"
   ]
  },
  {
   "cell_type": "code",
   "execution_count": 16,
   "id": "8db81c2d",
   "metadata": {},
   "outputs": [],
   "source": []
  },
  {
   "cell_type": "code",
   "execution_count": 17,
   "id": "b8611c46",
   "metadata": {},
   "outputs": [
    {
     "data": {
      "text/plain": [
       "array([[ 1.50865254e+00, -3.61426911e-02,  1.37131507e+00,\n",
       "         5.09243427e-04,  9.51639626e-02,  2.98947839e-04,\n",
       "        -8.49094264e-03],\n",
       "       [-3.61426911e-02,  2.79452677e+00, -3.53737552e-02,\n",
       "        -1.26786438e+00, -2.83948065e-02, -9.43958213e-02,\n",
       "         3.57179342e-04],\n",
       "       [ 1.37131507e+00, -3.53737552e-02,  1.47131507e+00,\n",
       "         5.09243427e-04,  9.51639626e-02,  2.98947839e-04,\n",
       "        -8.49094264e-03],\n",
       "       [ 5.09243427e-04, -1.26786438e+00,  5.09243427e-04,\n",
       "         1.05804436e+00,  2.27639164e-02,  1.29921866e-01,\n",
       "        -2.36806200e-04],\n",
       "       [ 9.51639626e-02, -2.83948065e-02,  9.51639626e-02,\n",
       "         2.27639164e-02,  1.44164678e-01, -1.28063032e-03,\n",
       "        -1.57039620e-03],\n",
       "       [ 2.98947839e-04, -9.43958213e-02,  2.98947839e-04,\n",
       "         1.29921866e-01, -1.28063032e-03,  1.53980606e-01,\n",
       "        -2.05378743e-04],\n",
       "       [-8.49094264e-03,  3.57179342e-04, -8.49094264e-03,\n",
       "        -2.36806200e-04, -1.57039620e-03, -2.05378743e-04,\n",
       "         1.06684152e-01]])"
      ]
     },
     "execution_count": 17,
     "metadata": {},
     "output_type": "execute_result"
    }
   ],
   "source": [
    "mass_matrix"
   ]
  },
  {
   "cell_type": "code",
   "execution_count": 21,
   "id": "8982fdb7",
   "metadata": {},
   "outputs": [
    {
     "data": {
      "text/plain": [
       "(7,)"
      ]
     },
     "execution_count": 21,
     "metadata": {},
     "output_type": "execute_result"
    }
   ],
   "source": []
  },
  {
   "cell_type": "code",
   "execution_count": 20,
   "id": "08cde7a0",
   "metadata": {},
   "outputs": [
    {
     "data": {
      "text/plain": [
       "(7,)"
      ]
     },
     "execution_count": 20,
     "metadata": {},
     "output_type": "execute_result"
    }
   ],
   "source": []
  },
  {
   "cell_type": "code",
   "execution_count": null,
   "id": "c9ce9716",
   "metadata": {},
   "outputs": [],
   "source": []
  }
 ],
 "metadata": {
  "kernelspec": {
   "display_name": "Python 3.10.6 ('meng443arm')",
   "language": "python",
   "name": "python3"
  },
  "language_info": {
   "codemirror_mode": {
    "name": "ipython",
    "version": 3
   },
   "file_extension": ".py",
   "mimetype": "text/x-python",
   "name": "python",
   "nbconvert_exporter": "python",
   "pygments_lexer": "ipython3",
   "version": "3.10.6"
  },
  "vscode": {
   "interpreter": {
    "hash": "7e1205e302398dd02bd48c71bb7eceb4729eb3a245520ba0a632d0a1f7a8e35a"
   }
  }
 },
 "nbformat": 4,
 "nbformat_minor": 5
}
