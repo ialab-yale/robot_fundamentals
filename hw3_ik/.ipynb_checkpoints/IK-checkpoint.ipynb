{
 "cells": [
  {
   "cell_type": "markdown",
   "id": "a6297dea-f1c8-4f1c-8135-271ac5c641db",
   "metadata": {},
   "source": [
    "# Inverse Kinematics and PID control\n",
    "In this homework assignemnt, you will be tasked with creating an IK solver and controlling a robot arm using PID control (specifically the Franka Panda 7DoF robot). We will be creating two versions of the controller, one that uses pure velocity control and another that using torque control with feedforward dynamics. "
   ]
  },
  {
   "cell_type": "markdown",
   "id": "ea15eb8d-c2b3-48d2-98a7-9279819d3fa9",
   "metadata": {},
   "source": [
    "## Mujoco imports\n",
    "Below are the typical imports you will need to get started with. "
   ]
  },
  {
   "cell_type": "code",
   "execution_count": 1,
   "id": "8a242e6e-aa40-499d-8871-20c6b4a2fffd",
   "metadata": {},
   "outputs": [],
   "source": [
    "import mujoco\n",
    "import mujoco_viewer\n",
    "import numpy as np\n",
    "from IPython.display import clear_output\n",
    "np.set_printoptions(precision=2, suppress=True)"
   ]
  },
  {
   "cell_type": "markdown",
   "id": "5f0561fa-8e94-4f8b-80d0-eabc59362c0f",
   "metadata": {},
   "source": [
    "## Creating model and data structures\n",
    "A model can be created through many ways. One can even specify a string that has the structure of the xml file that we can use to build a robot. The data is then built from the modal and used to extract out computation from simulating the system forward. "
   ]
  },
  {
   "cell_type": "code",
   "execution_count": 2,
   "id": "24d38ebd-d55a-4fce-af2a-5adf5de274d5",
   "metadata": {},
   "outputs": [],
   "source": [
    "model = mujoco.MjModel.from_xml_path('./franka_emika_panda/scene.xml')\n",
    "data = mujoco.MjData(model)"
   ]
  },
  {
   "cell_type": "code",
   "execution_count": 3,
   "id": "cd1855c7-1b9c-427d-a0e9-3ee6ba624c92",
   "metadata": {},
   "outputs": [],
   "source": [
    "mujoco.mj_step(model, data)"
   ]
  },
  {
   "cell_type": "code",
   "execution_count": 4,
   "id": "abfc0460-dd32-4fa1-825a-00921286e4a3",
   "metadata": {},
   "outputs": [],
   "source": [
    "jacp = np.zeros((3, model.nv))\n",
    "jacr = np.zeros((3, model.nv))\n",
    "mujoco.mj_jacBody(model, data, jacp, jacr, 10) "
   ]
  },
  {
   "cell_type": "code",
   "execution_count": 5,
   "id": "db0c5e8f-bd74-4401-baa3-362e3646b445",
   "metadata": {},
   "outputs": [
    {
     "data": {
      "text/plain": [
       "array([[ 0.  ,  0.59,  0.  , -0.28,  0.  ,  0.11,  0.  ,  0.  ,  0.  ],\n",
       "       [ 0.09,  0.  ,  0.09,  0.  ,  0.09,  0.  ,  0.  ,  0.  ,  0.  ],\n",
       "       [ 0.  , -0.09,  0.  ,  0.01,  0.  ,  0.09,  0.  ,  0.  ,  0.  ]])"
      ]
     },
     "execution_count": 5,
     "metadata": {},
     "output_type": "execute_result"
    }
   ],
   "source": [
    "jacp"
   ]
  },
  {
   "cell_type": "code",
   "execution_count": 6,
   "id": "32aeff84-8f62-4434-84e1-b7d8281156a8",
   "metadata": {},
   "outputs": [
    {
     "data": {
      "text/plain": [
       "10"
      ]
     },
     "execution_count": 6,
     "metadata": {},
     "output_type": "execute_result"
    }
   ],
   "source": [
    "mujoco.mj_name2id(model, 1, \"hand\")"
   ]
  },
  {
   "cell_type": "code",
   "execution_count": 7,
   "id": "e0aaac61-9c07-42ee-a089-2faf7a57fa66",
   "metadata": {},
   "outputs": [],
   "source": [
    "xd = np.array([0.7,0.0,0.5])\n"
   ]
  },
  {
   "cell_type": "markdown",
   "id": "4f93ab6c-d8b3-4452-b9e5-fe9a3cd0ae5b",
   "metadata": {},
   "source": [
    "## Visualization\n",
    "The following code will create a openGL window which will render the environment to you. However, just running it will not do anything. As part of the code, you will have to run `viewer.render()` each time after you step the simulation forward. Depending on how often you run the render function, the visualization will appear faster/slower than real-time. The true time stepping is defined in the `.xml` file. "
   ]
  },
  {
   "cell_type": "code",
   "execution_count": 8,
   "id": "e4d69e7a-7d0c-4b13-b435-9bddfef9dbe2",
   "metadata": {},
   "outputs": [],
   "source": [
    "# create the viewer object\n"
   ]
  },
  {
   "cell_type": "code",
   "execution_count": null,
   "id": "42593796-6dd2-48d0-a4f3-9e64a6f896ff",
   "metadata": {},
   "outputs": [
    {
     "name": "stdout",
     "output_type": "stream",
     "text": [
      "[-0.04 -0.05 -0.3 ]\n"
     ]
    }
   ],
   "source": [
    "viewer = mujoco_viewer.MujocoViewer(model, data)\n",
    "# PD control parameters\n",
    "kp = 80.\n",
    "kd = 10.\n",
    "# simulate and render\n",
    "i = 0 # <-- counter \n",
    "while True: \n",
    "    jacp = np.zeros((3, model.nv))\n",
    "    jacr = np.zeros((3, model.nv))\n",
    "    mujoco.mj_jacBody(model, data, jacp, jacr, 10) \n",
    "    res =  data.xpos[10] - xd\n",
    "    print(res)\n",
    "    data.ctrl =  (-np.linalg.pinv(jacp)@res)[:7]\n",
    "    mujoco.mj_step(model, data)\n",
    "    clear_output(wait=True)\n",
    "    if viewer.is_alive:\n",
    "        viewer.render()\n",
    "#     with open(\"mocap.txt\",\"r\") as filestream: # < -- grabs the mocap data\n",
    "#         for line in filestream:\n",
    "#             # the following lines convert the text to target joint values\n",
    "#             currentline = line.split(\",\")\n",
    "#             frame = currentline[0]\n",
    "#             t = currentline[1]\n",
    "#             target_joints = np.array([float(_q) for _q in currentline[2:14]])\n",
    "            \n",
    "#             # make sure that you can still see the environment \n",
    "#             if viewer.is_alive:\n",
    "#                 # pull the joint position and velocities\n",
    "#                 q = np.array(data.qpos[7:]) # <-- notice that the first 7 values are the base body position (3) and orientation in quaternains (4)\n",
    "#                 v = np.array(data.qvel[6:]) # <-- here the joint velocities start after the base body rotations (only 3, not 4)\n",
    "#                 # basic PD controller \n",
    "#                 tau = kp * (target_joints-q) + kd * (-v)\n",
    "#                 # to apply a control input to mujoco, you need to set the inputs to the data structure's ctrl variable\n",
    "#                 data.ctrl = tau\n",
    "#                 # the data and model sets passed to the step function to step the simulation. New poses, vel, cont, etc, get recorded into data\n",
    "#                 mujoco.mj_step(model, data)\n",
    "                \n",
    "#                 # every 30 steps render the environment \n",
    "#                 if i % 30 == 0:\n",
    "#                     viewer.render()\n",
    "#                 i += 1\n",
    "#             else:\n",
    "#                 break\n",
    "\n",
    "# close\n",
    "viewer.close()"
   ]
  },
  {
   "cell_type": "markdown",
   "id": "5aa463dd-af94-4283-967f-7ca4e642d2bc",
   "metadata": {},
   "source": [
    "# Writing your own robot model \n",
    "The mujoco xml format relies on basic transforms (rotations and translations) to build a robot. \n",
    "\n",
    "### Setting the objects in the environment\n",
    "The robot is defined within the *worldbody* xml tag. Here we define the geometry of the objects with the tag *geom* and bodies are defined as *body*. Note that a body needs a geom which you specify within the body tag. There are several kinds of geometries you can define (and even custom ones using an .stl file). \n",
    "\n",
    "### Setting joints\n",
    "Rotations, translations, and free body movements are defined through the *joint* tag. There are several kinds of joints that are common for robotics. Prismatic (linear), revolute (rotation), spherical (roll pitch yaw), and many more. You should explore the mujoco xml documentation and see the kinds that exist. Each joint will have a specific set of flags that you need to fill out and reference frames that connect bodies together. \n",
    "\n",
    "### Setting reference frames\n",
    "It is often beneficial to have a reference frame attached to a body which can be accessed at any time (e.g., think of the location of a camera or sensor). We use the *site* flag within the body tag to specify where a site is located. Note that the position and orientation are specified locally. \n",
    "\n",
    "### Actuators \n",
    "Mujoco has several actuators (as do other simulation engines). To specify an actuator one must has a joint to place the actuator on. Check out the example below on a double pendulum and check out the xml file to see how to setup actuators. As with joints there are several kinds of actuators. The type will vary from application to application and some are more appropriate than others and depend on how the robot is designed. \n",
    "\n",
    "### Explaining the XML code below\n",
    "The code below is what an xml file to describe your robot looks like. We can also import the code as a string into mujoco so you can create the robot straight from your code and edit how it looks and is configured. Compare this code with the a1.xml file located in this repository. "
   ]
  },
  {
   "cell_type": "code",
   "execution_count": 19,
   "id": "4ef2b86d-5a7f-446b-8d4f-84958f7f45c4",
   "metadata": {},
   "outputs": [],
   "source": [
    "robot_model = \"\"\"\n",
    "<!-- double pendulum model\n",
    "    The state space is populated with joints in the order that they are\n",
    "    defined in this file. The actuators also operate on joints.\n",
    "    State-Space (name/joint/parameter):\n",
    "        - pole1      hinge       angle (rad)\n",
    "        - pole2      hinge       angle (rad)\n",
    "        - pole1      hinge       angular velocity (rad/s)\n",
    "        - pole2      hinge       angular velocity (rad/s)\n",
    "\n",
    "        Actuators (name/actuator/parameter):\n",
    "        - pole1      motor       force tau1 (N)\n",
    "        - pole2      motor       force tau2 (N)\n",
    "-->\n",
    "<mujoco model=\"double pendulum\">\n",
    "    <compiler coordinate=\"local\" inertiafromgeom=\"true\"/>\n",
    "    <custom>\n",
    "        <numeric data=\"2\" name=\"frame_skip\"/>\n",
    "    </custom>\n",
    "    <default>\n",
    "        <joint damping=\"0.05\"/>\n",
    "        <geom contype=\"0\" friction=\"1 0.1 0.1\" rgba=\"0.7 0.7 0 1\"/>\n",
    "    </default>\n",
    "    <option gravity=\"0.0 0.0 -9.81\" integrator=\"RK4\" timestep=\"0.01\"/>\n",
    "    <size nstack=\"3000\"/>\n",
    "    <worldbody>\n",
    "        <geom name=\"floor\" pos=\"0 0 -3.0\" rgba=\"0.8 0.9 0.8 1\" size=\"40 40 40\" type=\"plane\"/>\n",
    "        <body name=\"pole1\" pos=\"0 0 0\">\n",
    "            <joint axis=\"0 1 0\" name=\"hinge1\" pos=\"0 0 0\" type=\"hinge\"/>\n",
    "            <geom fromto=\"0 0 0 0 0 0.6\" name=\"cpole\" rgba=\"0 0.7 0.7 1\" size=\"0.045 0.3\" type=\"capsule\"/>\n",
    "            <body name=\"pole2\" pos=\"0 0 0.6\">\n",
    "                <joint axis=\"0 1 0\" name=\"hinge2\" pos=\"0 0 0\" type=\"hinge\"/>\n",
    "                <geom fromto=\"0 0 0 0 0 0.6\" name=\"cpole2\" rgba=\"0 0.7 0.7 1\" size=\"0.045 0.3\" type=\"capsule\"/>\n",
    "                <site name=\"tip\" pos=\"0 0 .6\" size=\"0.01 0.01\"/>\n",
    "            </body>\n",
    "        </body>\n",
    "    </worldbody>\n",
    "    <actuator>\n",
    "        <motor ctrllimited=\"true\" ctrlrange=\"-1 1\" gear=\"500\" joint=\"hinge1\" name=\"hinge1\"/>\n",
    "        <motor ctrllimited=\"true\" ctrlrange=\"-1 1\" gear=\"500\" joint=\"hinge2\" name=\"hinge2\"/>\n",
    "    </actuator>\n",
    "</mujoco>\n",
    "\"\"\""
   ]
  },
  {
   "cell_type": "code",
   "execution_count": 20,
   "id": "52126f85-d623-4a3c-a08c-a783c2814a94",
   "metadata": {},
   "outputs": [],
   "source": [
    "model = mujoco.MjModel.from_xml_string(robot_model)\n",
    "data = mujoco.MjData(model)"
   ]
  },
  {
   "cell_type": "code",
   "execution_count": 21,
   "id": "e6328a1e-c566-45a2-9505-088f429ddbf3",
   "metadata": {},
   "outputs": [],
   "source": [
    "viewer = mujoco_viewer.MujocoViewer(model, data)"
   ]
  },
  {
   "cell_type": "code",
   "execution_count": 22,
   "id": "4dac6bfe-31cf-4034-a67e-791489748c1f",
   "metadata": {},
   "outputs": [],
   "source": [
    "# simulate and render\n",
    "while True: \n",
    "            \n",
    "    # make sure that you can still see the environment \n",
    "    if viewer.is_alive:\n",
    "        # to apply a random control input to mujoco, you need to set the inputs to the data structure's ctrl variable\n",
    "        data.ctrl = np.random.normal(0., 0.01, size=(2,))\n",
    "        # the data and model sets passed to the step function to step the simulation. New poses, vel, cont, etc, get recorded into data\n",
    "        mujoco.mj_step(model, data)\n",
    "        viewer.render()\n",
    "    else:\n",
    "        break\n",
    "\n",
    "# close\n",
    "viewer.close()"
   ]
  },
  {
   "cell_type": "code",
   "execution_count": null,
   "id": "5105e5b2-bfe8-489d-9d2d-8a867d44d91c",
   "metadata": {},
   "outputs": [],
   "source": []
  }
 ],
 "metadata": {
  "kernelspec": {
   "display_name": "Python [conda env:meng443] *",
   "language": "python",
   "name": "conda-env-meng443-py"
  },
  "language_info": {
   "codemirror_mode": {
    "name": "ipython",
    "version": 3
   },
   "file_extension": ".py",
   "mimetype": "text/x-python",
   "name": "python",
   "nbconvert_exporter": "python",
   "pygments_lexer": "ipython3",
   "version": "3.10.4"
  },
  "vscode": {
   "interpreter": {
    "hash": "ea98fe4397ecd7eb3a4a6eca6be6bb23965648eec3d3d83d3bb9b2d6d50467b3"
   }
  }
 },
 "nbformat": 4,
 "nbformat_minor": 5
}
