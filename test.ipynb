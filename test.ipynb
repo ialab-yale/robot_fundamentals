{
 "cells": [
  {
   "cell_type": "code",
   "execution_count": null,
   "id": "8a242e6e-aa40-499d-8871-20c6b4a2fffd",
   "metadata": {},
   "outputs": [],
   "source": [
    "import mujoco\n",
    "import mujoco_viewer\n",
    "import numpy as np\n",
    "import matplotlib.pyplot as plt"
   ]
  },
  {
   "cell_type": "code",
   "execution_count": null,
   "id": "24d38ebd-d55a-4fce-af2a-5adf5de274d5",
   "metadata": {},
   "outputs": [],
   "source": [
    "\n",
    "model = mujoco.MjModel.from_xml_path('./a1/xml/a1.xml')\n",
    "data = mujoco.MjData(model)"
   ]
  },
  {
   "cell_type": "code",
   "execution_count": null,
   "id": "e4d69e7a-7d0c-4b13-b435-9bddfef9dbe2",
   "metadata": {},
   "outputs": [],
   "source": [
    "# create the viewer object\n",
    "\n",
    "viewer = mujoco_viewer.MujocoViewer(model, data)"
   ]
  },
  {
   "cell_type": "code",
   "execution_count": 13,
   "id": "7cb2f526-e382-4971-b768-fb43c2845a0c",
   "metadata": {},
   "outputs": [],
   "source": [
    "kp = 80.\n",
    "kd = 10."
   ]
  },
  {
   "cell_type": "code",
   "execution_count": null,
   "id": "42593796-6dd2-48d0-a4f3-9e64a6f896ff",
   "metadata": {},
   "outputs": [],
   "source": [
    "# simulate and render\n",
    "while True: \n",
    "    with open(\"mocap.txt\",\"r\") as filestream:\n",
    "        for line in filestream:\n",
    "            currentline = line.split(\",\")\n",
    "            frame = currentline[0]\n",
    "            t = currentline[1]\n",
    "            target_joints = np.array([float(_q) for _q in currentline[2:14]])\n",
    "            if viewer.is_alive:\n",
    "                v = np.array(data.qvel[6:])\n",
    "                q = np.array(data.qpos[7:])\n",
    "                tau = kp * (target_joints-q) + kd * (-v)\n",
    "                data.ctrl = tau\n",
    "                mujoco.mj_step(model, data)\n",
    "                viewer.render()\n",
    "            else:\n",
    "                break\n",
    "\n",
    "# close\n",
    "viewer.close()"
   ]
  }
 ],
 "metadata": {
  "kernelspec": {
   "display_name": "Python [conda env:meng443] *",
   "language": "python",
   "name": "conda-env-meng443-py"
  },
  "language_info": {
   "codemirror_mode": {
    "name": "ipython",
    "version": 3
   },
   "file_extension": ".py",
   "mimetype": "text/x-python",
   "name": "python",
   "nbconvert_exporter": "python",
   "pygments_lexer": "ipython3",
   "version": "3.10.4"
  }
 },
 "nbformat": 4,
 "nbformat_minor": 5
}
